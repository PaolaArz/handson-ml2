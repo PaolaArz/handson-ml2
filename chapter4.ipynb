{
 "cells": [
  {
   "cell_type": "markdown",
   "id": "premium-aberdeen",
   "metadata": {},
   "source": [
    "# Chapter 4 - Training Models\n",
    "\n",
    "This notebook contains the code for chapter 4"
   ]
  },
  {
   "cell_type": "code",
   "execution_count": 2,
   "id": "limited-thinking",
   "metadata": {},
   "outputs": [],
   "source": [
    "# Python ≥3.5 is required\n",
    "import sys\n",
    "assert sys.version_info >= (3, 5)\n",
    "\n",
    "# Scikit-Learn ≥0.20 is required\n",
    "import sklearn\n",
    "assert sklearn.__version__ >= \"0.20\"\n",
    "\n",
    "# Common imports\n",
    "import numpy as np\n",
    "import os\n",
    "\n",
    "# to make this notebook's output stable across runs\n",
    "np.random.seed(42)\n",
    "\n",
    "# To plot pretty figures\n",
    "%matplotlib inline\n",
    "import matplotlib as mpl\n",
    "import matplotlib.pyplot as plt\n",
    "mpl.rc('axes', labelsize=14)\n",
    "mpl.rc('xtick', labelsize=12)\n",
    "mpl.rc('ytick', labelsize=12)\n",
    "\n",
    "# Where to save the figures\n",
    "PROJECT_ROOT_DIR = \".\"\n",
    "CHAPTER_ID = \"training_linear_models\"\n",
    "IMAGES_PATH = os.path.join(PROJECT_ROOT_DIR, \"images\", CHAPTER_ID)\n",
    "os.makedirs(IMAGES_PATH, exist_ok=True)\n",
    "\n",
    "def save_fig(fig_id, tight_layout=True, fig_extension=\"png\", resolution=300):\n",
    "    path = os.path.join(IMAGES_PATH, fig_id + \".\" + fig_extension)\n",
    "    print(\"Saving figure\", fig_id)\n",
    "    if tight_layout:\n",
    "        plt.tight_layout()\n",
    "    plt.savefig(path, format=fig_extension, dpi=resolution)"
   ]
  },
  {
   "cell_type": "markdown",
   "id": "advisory-completion",
   "metadata": {},
   "source": [
    "## Linear regression\n",
    "\n",
    "Two different ways of training: \n",
    "\n",
    "* Direct closed-form application: directly computes the model parameters that best fit the model to the training set\n",
    "* Iterative approach (Gradient Descent - GD): gradually tweaks the model parameters to minimize the cost function over the training set, eventually converging to the same set of parameters as the first method\n",
    "    * Batch GD\n",
    "    * Mini-batch GD\n",
    "    * Stochastic GD \n",
    "    \n",
    "A linear model makes a **prediciton** by computing a weighted sum of the input features, plus a constant called *bias term* or *intercept*\n",
    "\n",
    "$\\hat{y} = {\\theta}_{0} + {\\theta}_{1}{x}_{1} + {\\theta}_{2}{x}_{2} + ... + {\\theta}_{n}{x}_{n}$ \n",
    "\n",
    "\n",
    "Where: \n",
    "* $\\hat{y}$ = predicted value\n",
    "* $n$ = number of features\n",
    "* ${x}_{i}$ = ${i}^{th}$ feature \n",
    "* ${\\theta}_{j}$ = ${j}^{th}$ model parameter (including the bias term ${\\theta}_{0}$ and feature weights ${\\theta}_{1}$, ${\\theta}_{2}$, ..., ${\\theta}_{n}$)\n",
    "\n",
    "**Vectorised** form: \n",
    "\n",
    "$\\hat{y} = {h}_{\\boldsymbol{\\theta}}(x) = \\boldsymbol{\\theta} \\cdot \\boldsymbol{x}$ \n",
    "\n",
    "Where: \n",
    "* ${\\theta}$ = model’s *parameter vector*, containing the bias term ${\\theta}_{0}$ and the feature\n",
    "weights ${\\theta}_{1}$ to ${\\theta}_{n}$\n",
    "* $x$ = instance’s *feature vector*, containing ${x}_{0}$ to ${x}_{n}$, with ${x}_{0}$ always equal to 1\n",
    "* $\\boldsymbol{\\theta} \\cdot \\boldsymbol{x}$ = is the dot product of the vectors $\\boldsymbol{\\theta}$ and $x$, which is of course equal to ${\\theta}_{0}{x}_{0} + {\\theta}_{1}{x}_{1} + {\\theta}_{2}{x}_{2} + ... + {\\theta}_{n}{x}_{n}$ \n",
    "* $h{\\theta}$ = hypothesis function, using the model parameters $\\boldsymbol{\\theta}$\n",
    "\n",
    "Vectors are represented as *column vectors*: 2D array with single column, then the matrix multiplication can be seen as:  \n",
    "\n",
    "$\\hat{y} = \\boldsymbol{\\theta}^{T}\\boldsymbol{x}$ \n",
    "\n",
    "\n",
    "*Process*\n",
    "* **Training**: setting model's parameters so that it bests fit the training set\n",
    "* **Performance evaluation**: Root Mean Squared Error (RMSE)\n",
    "* For Linear regression model: find the value of $\\boldsymbol{theta}$ that minimises RMSE\n",
    "* Easier to minimise MSE (as results the same)\n",
    "\n",
    "$MSE(\\boldsymbol{X}, {h}_{\\boldsymbol{\\theta}}) = \\frac{1}{m} \\sum_{i=1}^m(\\boldsymbol{\\theta}^{T}\\boldsymbol{x}^{(i)} - y^{(i)})^2$\n",
    "\n",
    "### Normal equation\n",
    "\n",
    "Closed-form method: mathematical equation that finds the value of $\\boldsymbol{\\theta}$ that minimises the cost funcion MSE\n",
    "\n",
    "**Normal equation**\n",
    "\n",
    "$\\hat{\\boldsymbol\\theta} = (\\boldsymbol{X}^{T}\\boldsymbol{X})^{-1} \\boldsymbol{X}^{T} \\boldsymbol{y}$ \n",
    "\n",
    "Where: \n",
    "* $\\hat{\\boldsymbol\\theta}$ = value of ${\\boldsymbol\\theta}$ that minimises the cost function\n",
    "* $\\boldsymbol{y}$ = vector of target values containing ${y}^{(1)}$ to ${y}^{(m)}$\n",
    "\n",
    "{}"
   ]
  },
  {
   "cell_type": "code",
   "execution_count": 31,
   "id": "advance-bobby",
   "metadata": {},
   "outputs": [],
   "source": [
    "# Generate linear looking data to test the equation using y = 4 + 3x\n",
    "\n",
    "import numpy as np\n",
    "\n",
    "X = 2 * np.random.rand(100, 1)\n",
    "y = 4 + 3 * X + np.random.randn(100, 1)"
   ]
  },
  {
   "cell_type": "code",
   "execution_count": 4,
   "id": "increased-lightning",
   "metadata": {},
   "outputs": [
    {
     "name": "stdout",
     "output_type": "stream",
     "text": [
      "Saving figure generated_data_plot\n"
     ]
    },
    {
     "data": {
      "image/png": "[encoded data removed]",
      "text/plain": [
       "<Figure size 432x288 with 1 Axes>"
      ]
     },
     "metadata": {
      "needs_background": "light"
     },
     "output_type": "display_data"
    }
   ],
   "source": [
    "# Plot the data\n",
    "plt.plot(X, y, \"b.\")\n",
    "plt.xlabel(\"$x_1$\", fontsize=18)\n",
    "plt.ylabel(\"$y$\", rotation=0, fontsize=18)\n",
    "plt.axis([0, 2, 0, 15])\n",
    "save_fig(\"generated_data_plot\")\n",
    "plt.show()"
   ]
  },
  {
   "cell_type": "markdown",
   "id": "quiet-maintenance",
   "metadata": {},
   "source": [
    "Compute $\\hat{\\boldsymbol{\\theta}}$ using: \n",
    "* `inv()` to calculate the inverse of a matrix\n",
    "* `dot()` for matrix multiplication"
   ]
  },
  {
   "cell_type": "code",
   "execution_count": 8,
   "id": "smart-valuable",
   "metadata": {},
   "outputs": [
    {
     "data": {
      "text/plain": [
       "array([[4.21509616],\n",
       "       [2.77011339]])"
      ]
     },
     "execution_count": 8,
     "metadata": {},
     "output_type": "execute_result"
    }
   ],
   "source": [
    "# Add X0=1 for all instances\n",
    "X_b = np.c_[np.ones((100, 1)), X] \n",
    "\n",
    "# Calculate theta\n",
    "theta_best = np.linalg.inv(X_b.T.dot(X_b)).dot(X_b.T).dot(y)\n",
    "theta_best"
   ]
  },
  {
   "attachments": {},
   "cell_type": "markdown",
   "id": "brilliant-bearing",
   "metadata": {},
   "source": [
    "The expected values are ${\\theta}_{0}$ = 4 and ${\\theta}_{1}$ = 3\n",
    "\n",
    "Use $\\hat{\\boldsymbol{\\theta}}$ to make predictions."
   ]
  },
  {
   "cell_type": "code",
   "execution_count": 9,
   "id": "statistical-applicant",
   "metadata": {},
   "outputs": [
    {
     "data": {
      "text/plain": [
       "array([[4.21509616],\n",
       "       [9.75532293]])"
      ]
     },
     "execution_count": 9,
     "metadata": {},
     "output_type": "execute_result"
    }
   ],
   "source": [
    "# Create new array \n",
    "X_new = np.array([[0], [2]])\n",
    "# Add x0 = 1 to each instance\n",
    "X_new_b = np.c_[np.ones((2, 1)), X_new] \n",
    "\n",
    "# Predict\n",
    "y_predict = X_new_b.dot(theta_best)\n",
    "y_predict"
   ]
  },
  {
   "cell_type": "code",
   "execution_count": 10,
   "id": "virgin-market",
   "metadata": {},
   "outputs": [
    {
     "data": {
      "image/png": "[encoded data removed]",
      "text/plain": [
       "<Figure size 432x288 with 1 Axes>"
      ]
     },
     "metadata": {
      "needs_background": "light"
     },
     "output_type": "display_data"
    }
   ],
   "source": [
    "# Plot predictions \n",
    "\n",
    "plt.plot(X_new, y_predict, \"r-\")\n",
    "plt.plot(X, y, \"b.\")\n",
    "plt.axis([0, 2, 0, 15])\n",
    "plt.show()"
   ]
  },
  {
   "cell_type": "markdown",
   "id": "lovely-setting",
   "metadata": {},
   "source": [
    "**Scikit Learn** can be used to perform Linear Regression"
   ]
  },
  {
   "cell_type": "code",
   "execution_count": 11,
   "id": "utility-spanish",
   "metadata": {},
   "outputs": [
    {
     "data": {
      "text/plain": [
       "(array([4.21509616]), array([[2.77011339]]))"
      ]
     },
     "execution_count": 11,
     "metadata": {},
     "output_type": "execute_result"
    }
   ],
   "source": [
    "# Import and instantiate model\n",
    "from sklearn.linear_model import LinearRegression\n",
    "lin_reg = LinearRegression()\n",
    "\n",
    "# Fit\n",
    "lin_reg.fit(X, y)\n",
    "\n",
    "# Print bias term and features weights \n",
    "lin_reg.intercept_, lin_reg.coef_"
   ]
  },
  {
   "cell_type": "markdown",
   "id": "developed-stocks",
   "metadata": {},
   "source": [
    "The function is based on `scipy.linalg.lstsq()` which computes the *pseudoinverse* of $\\boldsymbol{X}$ based on *Singular Value Decomposition (SVD)*\n",
    "\n",
    "## Gradient Descent\n",
    "\n",
    "Tweak parameters iteratively in order to minimise the cost function: \n",
    "\n",
    "* Assign a random value to $\\boldsymbol{\\theta}$\n",
    "* Measure the local gradient of the error function\n",
    "* At each step, go in the direction of the descending gradient\n",
    "* The size of the steps is determined by the *learning rate*. \n",
    "* Finally converge to a minimum \n",
    "\n",
    "Ensure that all features have a similar scale (e.g., using Scikit-Learn’s `StandardScaler` class), or else it will take much longer to converge. \n",
    "\n",
    "### Batch Gradient Descent\n",
    "\n",
    "Uses the whole batch of training data at every step. \n",
    "\n",
    "* Find a good **learning rate**: use grid search, but limit the number of iterations to eliminate models that don't converge\n",
    "* Set the **number of iterations**: set a very large number of iterations and interrupt the algorithm when the gradient vector becomes smaller than the *tolerance* $\\epsilon$\n",
    "\n",
    "\n",
    "### Stochastic Gradient Descent\n",
    "\n",
    "Picks a *random* instance in the training set at every step and computes the gradients based only on that single instance: \n",
    "* Good to escape from the local optima\n",
    "* Never settle to the minimum\n",
    "\n",
    "Gradually **reduce the learning rate** using the *learning schedule* function to determine the learning rate at each step. \n",
    "\n",
    "Perform using the `SGDRegressor` class. \n",
    "\n"
   ]
  },
  {
   "cell_type": "code",
   "execution_count": 13,
   "id": "perceived-prague",
   "metadata": {},
   "outputs": [
    {
     "data": {
      "text/plain": [
       "(array([4.24365286]), array([2.8250878]))"
      ]
     },
     "execution_count": 13,
     "metadata": {},
     "output_type": "execute_result"
    }
   ],
   "source": [
    "# Import and instantiate\n",
    "from sklearn.linear_model import SGDRegressor\n",
    "sgd_reg = SGDRegressor(max_iter=1000, tol=1e-3, penalty=None, eta0=0.1, random_state=42)\n",
    "\n",
    "# Fit (ravel to flatten the array)\n",
    "sgd_reg.fit(X, y.ravel())\n",
    "\n",
    "# Check parameters\n",
    "sgd_reg.intercept_, sgd_reg.coef_"
   ]
  },
  {
   "attachments": {
    "image-2.png": {
     "image/png": "[encoded data removed]"
    }
   },
   "cell_type": "markdown",
   "id": "biological-throw",
   "metadata": {},
   "source": [
    "### Mini-batch Gradient Descent\n",
    "\n",
    "Computes the gradients on small random sets of instances called mini-batches\n",
    "\n",
    "**Comparison of algorithms for linear regression**\n",
    "\n",
    "![image-2.png](attachment:image-2.png)\n",
    "\n",
    "## Polynomial regression\n",
    "\n",
    "Use linear regression to fit non linear data: add powers of each feature as new features, then train a linear model on this extended set of features. "
   ]
  },
  {
   "cell_type": "code",
   "execution_count": 14,
   "id": "emerging-pavilion",
   "metadata": {},
   "outputs": [],
   "source": [
    "import numpy as np\n",
    "import numpy.random as rnd\n",
    "\n",
    "np.random.seed(42)"
   ]
  },
  {
   "cell_type": "code",
   "execution_count": 15,
   "id": "declared-island",
   "metadata": {},
   "outputs": [],
   "source": [
    "# Generate non linear data\n",
    "m = 100\n",
    "X = 6 * np.random.rand(m, 1) - 3\n",
    "y = 0.5 * X**2 + X + 2 + np.random.randn(m, 1)"
   ]
  },
  {
   "cell_type": "code",
   "execution_count": 16,
   "id": "junior-election",
   "metadata": {},
   "outputs": [
    {
     "name": "stdout",
     "output_type": "stream",
     "text": [
      "Saving figure quadratic_data_plot\n"
     ]
    },
    {
     "data": {
      "image/png": "[encoded data removed]",
      "text/plain": [
       "<Figure size 432x288 with 1 Axes>"
      ]
     },
     "metadata": {
      "needs_background": "light"
     },
     "output_type": "display_data"
    }
   ],
   "source": [
    "# Plot the data\n",
    "plt.plot(X, y, \"b.\")\n",
    "plt.xlabel(\"$x_1$\", fontsize=18)\n",
    "plt.ylabel(\"$y$\", rotation=0, fontsize=18)\n",
    "plt.axis([-3, 3, 0, 10])\n",
    "save_fig(\"quadratic_data_plot\")\n",
    "plt.show()"
   ]
  },
  {
   "cell_type": "code",
   "execution_count": 17,
   "id": "sitting-investigation",
   "metadata": {},
   "outputs": [
    {
     "data": {
      "text/plain": [
       "(array([-0.75275929]), array([-0.75275929,  0.56664654]))"
      ]
     },
     "execution_count": 17,
     "metadata": {},
     "output_type": "execute_result"
    }
   ],
   "source": [
    "# Import and instantiate class\n",
    "from sklearn.preprocessing import PolynomialFeatures\n",
    "poly_features = PolynomialFeatures(degree=2, include_bias=False)\n",
    "\n",
    "# Transform data\n",
    "X_poly = poly_features.fit_transform(X)\n",
    "X[0], X_poly[0]"
   ]
  },
  {
   "cell_type": "code",
   "execution_count": 19,
   "id": "studied-reducing",
   "metadata": {},
   "outputs": [
    {
     "data": {
      "text/plain": [
       "(array([1.78134581]), array([[0.93366893, 0.56456263]]))"
      ]
     },
     "execution_count": 19,
     "metadata": {},
     "output_type": "execute_result"
    }
   ],
   "source": [
    "# Fit linear regression and get parameters\n",
    "lin_reg = LinearRegression()\n",
    "lin_reg.fit(X_poly, y)\n",
    "lin_reg.intercept_, lin_reg.coef_"
   ]
  },
  {
   "cell_type": "markdown",
   "id": "insured-issue",
   "metadata": {},
   "source": [
    "When there are multiple features, Polynomial Regression is capable of finding relationships between features: adds all combinations of features up to the given degree. For example, if there were two features a and b, PolynomialFeatures with degree=3 would not only add the features a2, a3, b2, and b3, but also the combinations ab, a2b, and ab2.\n",
    "\n",
    "PolynomialFeatures(degree=d) transforms an array containing n features into an array containing $(n + d)! / d!n!$ features, where $n!$ is the factorial of $n$, equal to $1 × 2 × 3 × ⋯ × n$. \n",
    "\n",
    "## Learning Curves\n",
    "\n",
    "How to detect **underfitting** or **overfitting**: \n",
    "* Cross validation: estimate the model generalisation performance\n",
    "* Learning curves: plot the model’s performance on the training set and the validation set as a function of the training set size (or the training iteration)"
   ]
  },
  {
   "cell_type": "code",
   "execution_count": 28,
   "id": "excited-devil",
   "metadata": {},
   "outputs": [],
   "source": [
    "# Define function to plot curves\n",
    "\n",
    "from sklearn.metrics import mean_squared_error\n",
    "from sklearn.model_selection import train_test_split\n",
    "\n",
    "def plot_learning_curves(model, X, y):\n",
    "    X_train, X_val, y_train, y_val = train_test_split(X, y, test_size=0.2, random_state=10)\n",
    "    train_errors, val_errors = [], []\n",
    "    for m in range(1, len(X_train)):\n",
    "        model.fit(X_train[:m], y_train[:m])\n",
    "        y_train_predict = model.predict(X_train[:m])\n",
    "        y_val_predict = model.predict(X_val)\n",
    "        train_errors.append(mean_squared_error(y_train[:m], y_train_predict))\n",
    "        val_errors.append(mean_squared_error(y_val, y_val_predict))\n",
    "\n",
    "    plt.plot(np.sqrt(train_errors), \"r-+\", linewidth=2, label=\"train\")\n",
    "    plt.plot(np.sqrt(val_errors), \"b-\", linewidth=3, label=\"val\")\n",
    "    plt.legend(loc=\"upper right\", fontsize=14)   # not shown in the book\n",
    "    plt.xlabel(\"Training set size\", fontsize=14) # not shown\n",
    "    plt.ylabel(\"RMSE\", fontsize=14)              # not shown"
   ]
  },
  {
   "cell_type": "code",
   "execution_count": 29,
   "id": "similar-earthquake",
   "metadata": {},
   "outputs": [
    {
     "name": "stdout",
     "output_type": "stream",
     "text": [
      "Saving figure underfitting_learning_curves_plot\n"
     ]
    },
    {
     "data": {
      "image/png": "[encoded data removed]",
      "text/plain": [
       "<Figure size 432x288 with 1 Axes>"
      ]
     },
     "metadata": {
      "needs_background": "light"
     },
     "output_type": "display_data"
    }
   ],
   "source": [
    "# Plot curves from linear model\n",
    "lin_reg = LinearRegression()\n",
    "plot_learning_curves(lin_reg, X, y)\n",
    "plt.axis([0, 80, 0, 3]) \n",
    "save_fig(\"underfitting_learning_curves_plot\")\n",
    "plt.show()"
   ]
  },
  {
   "cell_type": "markdown",
   "id": "expected-address",
   "metadata": {},
   "source": [
    "*Underfitting model*\n",
    "\n",
    "Both curves reaches a plateau and they are very close to each other. \n",
    "\n",
    "On TRAIN data \n",
    "* Fit well on a few data (close to zero)\n",
    "* Increases with the addition of new data\n",
    "* Reaches plateau: adding more data doesn't improve the performance\n",
    "\n",
    "On VALIDATION data: \n",
    "* Big error on few data, because it cannot generalise\n",
    "* Adding data it learns, so the error goes down\n",
    "* Plateau, close to the other curve\n",
    "\n",
    "To improve: increase model complexity"
   ]
  },
  {
   "cell_type": "code",
   "execution_count": 30,
   "id": "mineral-sheet",
   "metadata": {},
   "outputs": [
    {
     "name": "stdout",
     "output_type": "stream",
     "text": [
      "Saving figure learning_curves_plot\n"
     ]
    },
    {
     "data": {
      "image/png": "[encoded data removed]",
      "text/plain": [
       "<Figure size 432x288 with 1 Axes>"
      ]
     },
     "metadata": {
      "needs_background": "light"
     },
     "output_type": "display_data"
    }
   ],
   "source": [
    "# Plot curves form polynomial model\n",
    "\n",
    "from sklearn.pipeline import Pipeline\n",
    "\n",
    "polynomial_regression = Pipeline([\n",
    "        (\"poly_features\", PolynomialFeatures(degree=10, include_bias=False)),\n",
    "        (\"lin_reg\", LinearRegression()),\n",
    "    ])\n",
    "\n",
    "plot_learning_curves(polynomial_regression, X, y)\n",
    "plt.axis([0, 80, 0, 3])\n",
    "save_fig(\"learning_curves_plot\")  \n",
    "plt.show()      "
   ]
  },
  {
   "cell_type": "markdown",
   "id": "hybrid-parking",
   "metadata": {},
   "source": [
    "*Overfitting model*\n",
    "\n",
    "* Error on training data is lower than the one with Linear regression\n",
    "* Gap between the curves: performs better on the train data compared to the validation data. On a larger train set they will get close\n",
    "\n",
    "To improve: feed more training data till the validation error reaches the training error\n",
    "\n",
    "\n",
    "#### The bias/variance trade-off\n",
    "\n",
    "A model’s generalization error can be expressed as the sum of three errors\n",
    "* Bias: wrong assumption\n",
    "    * i.e. assumption of linearity instead of quadratic\n",
    "    * Underfit training data\n",
    "* Variance: excessive sensibility to variations in training data\n",
    "    * i.e. too many degrees of freedom (high polynomial)\n",
    "    * Overfit\n",
    "* Irreducible error: noisiness of the data \n",
    "    * Clean up the data to remove\n",
    "    \n",
    "Increasing a model’s complexity will typically increase its variance and reduce its bias. \n",
    "Reducing a model’s complexity increases its bias and reduces its variance.\n",
    "\n",
    "\n",
    "## Regularised linear models\n",
    "\n",
    "To reduce overfitting: regularize the linear model (constrain): with few degrees of freedom it's hard to overfit the data. \n",
    "\n",
    "* Polynomial model: reduce the number of polynomial degrees\n",
    "* Linear model: constrain the weights of the model \n",
    "\n",
    "### Ridge Regression\n",
    "\n",
    "*Ridge regression* (or *Tikhonov regularisation*): regularised form of Linear Regression\n",
    "\n",
    "Add *regularisation term* to cost function: \n",
    "\n",
    "${\\alpha}\\sum_{i=1}^n{\\theta}_{i} ^2$\n",
    "\n",
    "Force learning algorithm\n",
    "* Fit the data\n",
    "* Keep the model's weights as small as possible \n",
    "\n",
    "Used only during **training**. Once the model is trained, use the unregularised performance measure to evaluate the model performance. It is common for the cost function used during training to be different from the performance measure used for testing. \n",
    "\n",
    "**Ridge regression cost function**\n",
    "\n",
    "$ J(\\boldsymbol{\\theta}) =  MSE(\\boldsymbol{\\theta}) + {\\alpha}\\frac{1}{2}\\sum_{i=1}^n{\\theta}_{i} ^2$\n",
    "\n",
    "The bias term ${\\theta}_0$ is not regularised. \n",
    "\n",
    "**Vector form**\n",
    "\n",
    "Define $\\boldsymbol{w}$ as the vector of feature weights ${\\theta}_1$ to ${\\theta}_n$, then the regularisation term is equal to: \n",
    "\n",
    "$\\frac{1}{2}(||\\boldsymbol{w}||_2)^2$\n",
    "\n",
    "Where $||\\boldsymbol{w}||_2$ represents the ${l}_2$ norm of the weight vector.\n",
    "\n",
    "i.e. for Gradient Descent: add ${\\alpha}\\boldsymbol{w}$ to MSE gradient vector\n",
    "\n",
    "**Data scaling**\n",
    "\n",
    "Important to scale the data (`StandardScaler`) as sensitive of the scale of the input features, as most of the regularised models. \n",
    "\n",
    "**Hyperparameter ${\\alpha}$**\n",
    "\n",
    "Controls how much you want to regularise of the model. \n",
    "\n",
    "${\\alpha} = 0$\n",
    "\n",
    "Same as linear regression \n",
    "\n",
    "${\\alpha}$ very large\n",
    "\n",
    "* Weights very close to zero\n",
    "* Result is flat line going through the mean"
   ]
  },
  {
   "cell_type": "code",
   "execution_count": 34,
   "id": "ongoing-damage",
   "metadata": {},
   "outputs": [],
   "source": [
    "# Get data\n",
    "np.random.seed(42)\n",
    "m = 20\n",
    "X = 3 * np.random.rand(m, 1)\n",
    "y = 1 + 0.5 * X + np.random.randn(m, 1) / 1.5\n",
    "X_new = np.linspace(0, 3, 100).reshape(100, 1)"
   ]
  },
  {
   "cell_type": "code",
   "execution_count": 35,
   "id": "minus-partnership",
   "metadata": {},
   "outputs": [
    {
     "name": "stdout",
     "output_type": "stream",
     "text": [
      "Saving figure ridge_regression_plot\n"
     ]
    },
    {
     "data": {
      "image/png": "[encoded data removed]",
      "text/plain": [
       "<Figure size 576x288 with 2 Axes>"
      ]
     },
     "metadata": {
      "needs_background": "light"
     },
     "output_type": "display_data"
    }
   ],
   "source": [
    "# Plot linear and polynomial with different values of alpha\n",
    "from sklearn.linear_model import Ridge\n",
    "from sklearn.preprocessing import StandardScaler\n",
    "\n",
    "\n",
    "def plot_model(model_class, polynomial, alphas, **model_kargs):\n",
    "    for alpha, style in zip(alphas, (\"b-\", \"g--\", \"r:\")):\n",
    "        model = model_class(alpha, **model_kargs) if alpha > 0 else LinearRegression()\n",
    "        if polynomial:\n",
    "            model = Pipeline([\n",
    "                    (\"poly_features\", PolynomialFeatures(degree=10, include_bias=False)),\n",
    "                    (\"std_scaler\", StandardScaler()),\n",
    "                    (\"regul_reg\", model),\n",
    "                ])\n",
    "        model.fit(X, y)\n",
    "        y_new_regul = model.predict(X_new)\n",
    "        lw = 2 if alpha > 0 else 1\n",
    "        plt.plot(X_new, y_new_regul, style, linewidth=lw, label=r\"$\\alpha = {}$\".format(alpha))\n",
    "    plt.plot(X, y, \"b.\", linewidth=3)\n",
    "    plt.legend(loc=\"upper left\", fontsize=15)\n",
    "    plt.xlabel(\"$x_1$\", fontsize=18)\n",
    "    plt.axis([0, 3, 0, 4])\n",
    "\n",
    "plt.figure(figsize=(8,4))\n",
    "plt.subplot(121)\n",
    "# Linear predictions\n",
    "plot_model(Ridge, polynomial=False, alphas=(0, 10, 100), random_state=42)\n",
    "plt.ylabel(\"$y$\", rotation=0, fontsize=18)\n",
    "plt.subplot(122)\n",
    "# Polynomial predictions\n",
    "plot_model(Ridge, polynomial=True, alphas=(0, 10**-5, 1), random_state=42)\n",
    "\n",
    "save_fig(\"ridge_regression_plot\")\n",
    "plt.show()"
   ]
  },
  {
   "cell_type": "markdown",
   "id": "irish-ferry",
   "metadata": {},
   "source": [
    "Increasing ${\\alpha}$ leads to flatter (i.e., less extreme, more reasonable) predictions, thus reducing the model’s variance but increasing its bias. \n",
    "\n",
    "Ridge Regression computation\n",
    "* Closed form\n",
    "* Gradient descent\n",
    "\n",
    "**Closed form**\n",
    "\n",
    "$\\hat{\\boldsymbol\\theta} = (\\boldsymbol{X}^{T}\\boldsymbol{X}+{\\alpha}\\boldsymbol{A})^{-1} \\boldsymbol{X}^{T} \\boldsymbol{y}$ \n",
    "\n",
    "Where:\n",
    "\n",
    "$\\boldsymbol{A}$: $(n+1)\\times(n-1)$ identity matrix except with a 0 in the top left cell (bias term)\n",
    "\n",
    "Scikit Learn can be used to compute the closed form, using `Cholesky` matrix factorisation technique.\n",
    "\n",
    "`Solver` to use in the computational routines:\n",
    "* `cholesky` uses the standard `scipy.linalg.solve` function to obtain a closed-form solution\n"
   ]
  },
  {
   "cell_type": "code",
   "execution_count": 36,
   "id": "realistic-elephant",
   "metadata": {},
   "outputs": [
    {
     "data": {
      "text/plain": [
       "array([[1.55071465]])"
      ]
     },
     "execution_count": 36,
     "metadata": {},
     "output_type": "execute_result"
    }
   ],
   "source": [
    "# Instantiate, fit and predict\n",
    "from sklearn.linear_model import Ridge\n",
    "ridge_reg = Ridge(alpha=1, solver=\"cholesky\", random_state=42)\n",
    "ridge_reg.fit(X, y)\n",
    "ridge_reg.predict([[1.5]])"
   ]
  },
  {
   "cell_type": "markdown",
   "id": "wrong-greenhouse",
   "metadata": {},
   "source": [
    "**Stochastic Gradient Descent**\n",
    "\n",
    "- 'sag' uses a Stochastic Average Gradient descent, and 'saga' uses\n",
    "      its improved, unbiased version named SAGA. Both methods also use an\n",
    "      iterative procedure, and are often faster than other solvers when\n",
    "      both n_samples and n_features are large. Note that 'sag' and\n",
    "      'saga' fast convergence is only guaranteed on features with\n",
    "      approximately the same scale. You can preprocess the data with a\n",
    "      scaler from sklearn.preprocessing."
   ]
  }
 ],
 "metadata": {
  "kernelspec": {
   "display_name": "Python 3",
   "language": "python",
   "name": "python3"
  },
  "language_info": {
   "codemirror_mode": {
    "name": "ipython",
    "version": 3
   },
   "file_extension": ".py",
   "mimetype": "text/x-python",
   "name": "python",
   "nbconvert_exporter": "python",
   "pygments_lexer": "ipython3",
   "version": "3.9.2"
  }
 },
 "nbformat": 4,
 "nbformat_minor": 5
}
