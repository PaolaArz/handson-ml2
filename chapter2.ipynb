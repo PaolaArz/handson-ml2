{
 "cells": [
  {
   "attachments": {
    "image-2.png": {
     "image/png": "[encoded data removed]"
    },
    "image.png": {
     "image/png": "[encoded data removed]"
    }
   },
   "cell_type": "markdown",
   "id": "english-kuwait",
   "metadata": {},
   "source": [
    "# Chapter 2 \n",
    "\n",
    "This notebook contains the code of chapter 2. \n",
    "\n",
    "\n",
    "## 1. Frame the problem and look at the big picture\n",
    "\n",
    "Define: \n",
    "* Objective\n",
    "* Use of the model\n",
    "* Current solution\n",
    "* Frame the problem\n",
    "    * *supervised*, unsupervised, reinforcement learning\n",
    "    * classification, *regression*, other\n",
    "    * *batch* or online learning\n",
    "* Performance measure\n",
    "* Check the assumptions\n",
    "\n",
    "Performance measures for *regression problems*: \n",
    "* **RMSE** Root Mean Squared Error: measure of the error the systems makes in its predictions, with a higher weight for the bigger errors\n",
    "   * Euclidean Norm (common notion of distance): $l_2$ *norm*, $||\\cdot||_2$, $||\\cdot||$\n",
    "\n",
    "![image.png](attachment:image.png)\n",
    "\n",
    "* **MAE** Mean Absolute Error: average absolute deviation\n",
    "    * Manhattan Norm (measure the distance between two points in a city if you can only travel along orthogonal city blocks): $l_1$ *norm*, $||\\cdot||_1$\n",
    "\n",
    "![image-2.png](attachment:image-2.png)\n",
    "\n",
    "* The $l_k$ *norm* of a vector $\\boldsymbol{v}$ containing $n$ elements is defined as $||\\boldsymbol{v}||_k = (|v_0|^k + |v_1|^k + ... + |v_n|^k)^\\frac{1}{k}$. $l_0$ gives the number of nonzero elements in the vector, and $l_\\infty$ gives the maximum absolute value in the vector.\n",
    "* The higher the norm index, the more it focuses on large values and neglects small ones. This is why the RMSE is more sensitive to outliers than the MAE. But when outliers are exponentially rare (like in a bell-shaped curve), the RMSE performs very well and is generally preferred.\n",
    "\n",
    "## 2. Get the data\n",
    "\n",
    "Download the data and get a quick look. \n",
    "\n",
    "Test set should be separated without looking into the data, but more info on the data helps on generating a more representative test set (i.e. stratification)"
   ]
  },
  {
   "cell_type": "code",
   "execution_count": 56,
   "id": "boxed-arrest",
   "metadata": {},
   "outputs": [],
   "source": [
    "import pandas as pd\n",
    "import numpy as np"
   ]
  },
  {
   "cell_type": "code",
   "execution_count": 65,
   "id": "blond-short",
   "metadata": {},
   "outputs": [],
   "source": [
    "housing = pd.read_csv('datasets/Test_sets/housing.csv')"
   ]
  },
  {
   "cell_type": "markdown",
   "id": "natural-rider",
   "metadata": {},
   "source": [
    "Target `median_house_value`. \n",
    "\n",
    "### Get a quick look of the data"
   ]
  },
  {
   "cell_type": "code",
   "execution_count": 64,
   "id": "satellite-allah",
   "metadata": {},
   "outputs": [
    {
     "data": {
      "text/html": [
       "<div>\n",
       "<style scoped>\n",
       "    .dataframe tbody tr th:only-of-type {\n",
       "        vertical-align: middle;\n",
       "    }\n",
       "\n",
       "    .dataframe tbody tr th {\n",
       "        vertical-align: top;\n",
       "    }\n",
       "\n",
       "    .dataframe thead th {\n",
       "        text-align: right;\n",
       "    }\n",
       "</style>\n",
       "<table border=\"1\" class=\"dataframe\">\n",
       "  <thead>\n",
       "    <tr style=\"text-align: right;\">\n",
       "      <th></th>\n",
       "      <th>longitude</th>\n",
       "      <th>latitude</th>\n",
       "      <th>housing_median_age</th>\n",
       "      <th>total_rooms</th>\n",
       "      <th>total_bedrooms</th>\n",
       "      <th>population</th>\n",
       "      <th>households</th>\n",
       "      <th>median_income</th>\n",
       "      <th>median_house_value</th>\n",
       "      <th>ocean_proximity</th>\n",
       "    </tr>\n",
       "  </thead>\n",
       "  <tbody>\n",
       "    <tr>\n",
       "      <th>0</th>\n",
       "      <td>-122.23</td>\n",
       "      <td>37.88</td>\n",
       "      <td>41.0</td>\n",
       "      <td>880.0</td>\n",
       "      <td>129.0</td>\n",
       "      <td>322.0</td>\n",
       "      <td>126.0</td>\n",
       "      <td>8.3252</td>\n",
       "      <td>452600.0</td>\n",
       "      <td>NEAR BAY</td>\n",
       "    </tr>\n",
       "    <tr>\n",
       "      <th>1</th>\n",
       "      <td>-122.22</td>\n",
       "      <td>37.86</td>\n",
       "      <td>21.0</td>\n",
       "      <td>7099.0</td>\n",
       "      <td>1106.0</td>\n",
       "      <td>2401.0</td>\n",
       "      <td>1138.0</td>\n",
       "      <td>8.3014</td>\n",
       "      <td>358500.0</td>\n",
       "      <td>NEAR BAY</td>\n",
       "    </tr>\n",
       "    <tr>\n",
       "      <th>2</th>\n",
       "      <td>-122.24</td>\n",
       "      <td>37.85</td>\n",
       "      <td>52.0</td>\n",
       "      <td>1467.0</td>\n",
       "      <td>190.0</td>\n",
       "      <td>496.0</td>\n",
       "      <td>177.0</td>\n",
       "      <td>7.2574</td>\n",
       "      <td>352100.0</td>\n",
       "      <td>NEAR BAY</td>\n",
       "    </tr>\n",
       "    <tr>\n",
       "      <th>3</th>\n",
       "      <td>-122.25</td>\n",
       "      <td>37.85</td>\n",
       "      <td>52.0</td>\n",
       "      <td>1274.0</td>\n",
       "      <td>235.0</td>\n",
       "      <td>558.0</td>\n",
       "      <td>219.0</td>\n",
       "      <td>5.6431</td>\n",
       "      <td>341300.0</td>\n",
       "      <td>NEAR BAY</td>\n",
       "    </tr>\n",
       "    <tr>\n",
       "      <th>4</th>\n",
       "      <td>-122.25</td>\n",
       "      <td>37.85</td>\n",
       "      <td>52.0</td>\n",
       "      <td>1627.0</td>\n",
       "      <td>280.0</td>\n",
       "      <td>565.0</td>\n",
       "      <td>259.0</td>\n",
       "      <td>3.8462</td>\n",
       "      <td>342200.0</td>\n",
       "      <td>NEAR BAY</td>\n",
       "    </tr>\n",
       "  </tbody>\n",
       "</table>\n",
       "</div>"
      ],
      "text/plain": [
       "   longitude  latitude  housing_median_age  total_rooms  total_bedrooms  \\\n",
       "0    -122.23     37.88                41.0        880.0           129.0   \n",
       "1    -122.22     37.86                21.0       7099.0          1106.0   \n",
       "2    -122.24     37.85                52.0       1467.0           190.0   \n",
       "3    -122.25     37.85                52.0       1274.0           235.0   \n",
       "4    -122.25     37.85                52.0       1627.0           280.0   \n",
       "\n",
       "   population  households  median_income  median_house_value ocean_proximity  \n",
       "0       322.0       126.0         8.3252            452600.0        NEAR BAY  \n",
       "1      2401.0      1138.0         8.3014            358500.0        NEAR BAY  \n",
       "2       496.0       177.0         7.2574            352100.0        NEAR BAY  \n",
       "3       558.0       219.0         5.6431            341300.0        NEAR BAY  \n",
       "4       565.0       259.0         3.8462            342200.0        NEAR BAY  "
      ]
     },
     "execution_count": 64,
     "metadata": {},
     "output_type": "execute_result"
    }
   ],
   "source": [
    "housing.head()"
   ]
  },
  {
   "cell_type": "markdown",
   "id": "national-acrylic",
   "metadata": {},
   "source": [
    "Get info on the dataframe structure (number of examples and features) using `shape`"
   ]
  },
  {
   "cell_type": "code",
   "execution_count": 59,
   "id": "fifteen-consultation",
   "metadata": {},
   "outputs": [
    {
     "data": {
      "text/plain": [
       "(20640, 10)"
      ]
     },
     "execution_count": 59,
     "metadata": {},
     "output_type": "execute_result"
    }
   ],
   "source": [
    "housing.shape"
   ]
  },
  {
   "cell_type": "markdown",
   "id": "hybrid-chocolate",
   "metadata": {},
   "source": [
    "Use `info()` to get a description of the data:\n",
    "* total number of rows\n",
    "* attribute’s type\n",
    "* number of nonnull values"
   ]
  },
  {
   "cell_type": "code",
   "execution_count": 60,
   "id": "promotional-visibility",
   "metadata": {},
   "outputs": [
    {
     "name": "stdout",
     "output_type": "stream",
     "text": [
      "<class 'pandas.core.frame.DataFrame'>\n",
      "RangeIndex: 20640 entries, 0 to 20639\n",
      "Data columns (total 10 columns):\n",
      " #   Column              Non-Null Count  Dtype  \n",
      "---  ------              --------------  -----  \n",
      " 0   longitude           20640 non-null  float64\n",
      " 1   latitude            20640 non-null  float64\n",
      " 2   housing_median_age  20640 non-null  float64\n",
      " 3   total_rooms         20640 non-null  float64\n",
      " 4   total_bedrooms      20433 non-null  float64\n",
      " 5   population          20640 non-null  float64\n",
      " 6   households          20640 non-null  float64\n",
      " 7   median_income       20640 non-null  float64\n",
      " 8   median_house_value  20640 non-null  float64\n",
      " 9   ocean_proximity     20640 non-null  object \n",
      "dtypes: float64(9), object(1)\n",
      "memory usage: 1.6+ MB\n"
     ]
    }
   ],
   "source": [
    "housing.info()"
   ]
  },
  {
   "cell_type": "markdown",
   "id": "boring-maldives",
   "metadata": {},
   "source": [
    "For categorical features use `value_counts()` to get the number of items per category"
   ]
  },
  {
   "cell_type": "code",
   "execution_count": 61,
   "id": "minimal-quantum",
   "metadata": {},
   "outputs": [
    {
     "data": {
      "text/plain": [
       "<1H OCEAN     9136\n",
       "INLAND        6551\n",
       "NEAR OCEAN    2658\n",
       "NEAR BAY      2290\n",
       "ISLAND           5\n",
       "Name: ocean_proximity, dtype: int64"
      ]
     },
     "execution_count": 61,
     "metadata": {},
     "output_type": "execute_result"
    }
   ],
   "source": [
    "housing['ocean_proximity'].value_counts()"
   ]
  },
  {
   "cell_type": "markdown",
   "id": "unknown-truth",
   "metadata": {},
   "source": [
    "Summary of numerical attribute with `describe()`"
   ]
  },
  {
   "cell_type": "code",
   "execution_count": 62,
   "id": "blond-frank",
   "metadata": {},
   "outputs": [
    {
     "data": {
      "text/html": [
       "<div>\n",
       "<style scoped>\n",
       "    .dataframe tbody tr th:only-of-type {\n",
       "        vertical-align: middle;\n",
       "    }\n",
       "\n",
       "    .dataframe tbody tr th {\n",
       "        vertical-align: top;\n",
       "    }\n",
       "\n",
       "    .dataframe thead th {\n",
       "        text-align: right;\n",
       "    }\n",
       "</style>\n",
       "<table border=\"1\" class=\"dataframe\">\n",
       "  <thead>\n",
       "    <tr style=\"text-align: right;\">\n",
       "      <th></th>\n",
       "      <th>longitude</th>\n",
       "      <th>latitude</th>\n",
       "      <th>housing_median_age</th>\n",
       "      <th>total_rooms</th>\n",
       "      <th>total_bedrooms</th>\n",
       "      <th>population</th>\n",
       "      <th>households</th>\n",
       "      <th>median_income</th>\n",
       "      <th>median_house_value</th>\n",
       "    </tr>\n",
       "  </thead>\n",
       "  <tbody>\n",
       "    <tr>\n",
       "      <th>count</th>\n",
       "      <td>20640.000000</td>\n",
       "      <td>20640.000000</td>\n",
       "      <td>20640.000000</td>\n",
       "      <td>20640.000000</td>\n",
       "      <td>20433.000000</td>\n",
       "      <td>20640.000000</td>\n",
       "      <td>20640.000000</td>\n",
       "      <td>20640.000000</td>\n",
       "      <td>20640.000000</td>\n",
       "    </tr>\n",
       "    <tr>\n",
       "      <th>mean</th>\n",
       "      <td>-119.569704</td>\n",
       "      <td>35.631861</td>\n",
       "      <td>28.639486</td>\n",
       "      <td>2635.763081</td>\n",
       "      <td>537.870553</td>\n",
       "      <td>1425.476744</td>\n",
       "      <td>499.539680</td>\n",
       "      <td>3.870671</td>\n",
       "      <td>206855.816909</td>\n",
       "    </tr>\n",
       "    <tr>\n",
       "      <th>std</th>\n",
       "      <td>2.003532</td>\n",
       "      <td>2.135952</td>\n",
       "      <td>12.585558</td>\n",
       "      <td>2181.615252</td>\n",
       "      <td>421.385070</td>\n",
       "      <td>1132.462122</td>\n",
       "      <td>382.329753</td>\n",
       "      <td>1.899822</td>\n",
       "      <td>115395.615874</td>\n",
       "    </tr>\n",
       "    <tr>\n",
       "      <th>min</th>\n",
       "      <td>-124.350000</td>\n",
       "      <td>32.540000</td>\n",
       "      <td>1.000000</td>\n",
       "      <td>2.000000</td>\n",
       "      <td>1.000000</td>\n",
       "      <td>3.000000</td>\n",
       "      <td>1.000000</td>\n",
       "      <td>0.499900</td>\n",
       "      <td>14999.000000</td>\n",
       "    </tr>\n",
       "    <tr>\n",
       "      <th>25%</th>\n",
       "      <td>-121.800000</td>\n",
       "      <td>33.930000</td>\n",
       "      <td>18.000000</td>\n",
       "      <td>1447.750000</td>\n",
       "      <td>296.000000</td>\n",
       "      <td>787.000000</td>\n",
       "      <td>280.000000</td>\n",
       "      <td>2.563400</td>\n",
       "      <td>119600.000000</td>\n",
       "    </tr>\n",
       "    <tr>\n",
       "      <th>50%</th>\n",
       "      <td>-118.490000</td>\n",
       "      <td>34.260000</td>\n",
       "      <td>29.000000</td>\n",
       "      <td>2127.000000</td>\n",
       "      <td>435.000000</td>\n",
       "      <td>1166.000000</td>\n",
       "      <td>409.000000</td>\n",
       "      <td>3.534800</td>\n",
       "      <td>179700.000000</td>\n",
       "    </tr>\n",
       "    <tr>\n",
       "      <th>75%</th>\n",
       "      <td>-118.010000</td>\n",
       "      <td>37.710000</td>\n",
       "      <td>37.000000</td>\n",
       "      <td>3148.000000</td>\n",
       "      <td>647.000000</td>\n",
       "      <td>1725.000000</td>\n",
       "      <td>605.000000</td>\n",
       "      <td>4.743250</td>\n",
       "      <td>264725.000000</td>\n",
       "    </tr>\n",
       "    <tr>\n",
       "      <th>max</th>\n",
       "      <td>-114.310000</td>\n",
       "      <td>41.950000</td>\n",
       "      <td>52.000000</td>\n",
       "      <td>39320.000000</td>\n",
       "      <td>6445.000000</td>\n",
       "      <td>35682.000000</td>\n",
       "      <td>6082.000000</td>\n",
       "      <td>15.000100</td>\n",
       "      <td>500001.000000</td>\n",
       "    </tr>\n",
       "  </tbody>\n",
       "</table>\n",
       "</div>"
      ],
      "text/plain": [
       "          longitude      latitude  housing_median_age   total_rooms  \\\n",
       "count  20640.000000  20640.000000        20640.000000  20640.000000   \n",
       "mean    -119.569704     35.631861           28.639486   2635.763081   \n",
       "std        2.003532      2.135952           12.585558   2181.615252   \n",
       "min     -124.350000     32.540000            1.000000      2.000000   \n",
       "25%     -121.800000     33.930000           18.000000   1447.750000   \n",
       "50%     -118.490000     34.260000           29.000000   2127.000000   \n",
       "75%     -118.010000     37.710000           37.000000   3148.000000   \n",
       "max     -114.310000     41.950000           52.000000  39320.000000   \n",
       "\n",
       "       total_bedrooms    population    households  median_income  \\\n",
       "count    20433.000000  20640.000000  20640.000000   20640.000000   \n",
       "mean       537.870553   1425.476744    499.539680       3.870671   \n",
       "std        421.385070   1132.462122    382.329753       1.899822   \n",
       "min          1.000000      3.000000      1.000000       0.499900   \n",
       "25%        296.000000    787.000000    280.000000       2.563400   \n",
       "50%        435.000000   1166.000000    409.000000       3.534800   \n",
       "75%        647.000000   1725.000000    605.000000       4.743250   \n",
       "max       6445.000000  35682.000000   6082.000000      15.000100   \n",
       "\n",
       "       median_house_value  \n",
       "count        20640.000000  \n",
       "mean        206855.816909  \n",
       "std         115395.615874  \n",
       "min          14999.000000  \n",
       "25%         119600.000000  \n",
       "50%         179700.000000  \n",
       "75%         264725.000000  \n",
       "max         500001.000000  "
      ]
     },
     "execution_count": 62,
     "metadata": {},
     "output_type": "execute_result"
    }
   ],
   "source": [
    "housing.describe()"
   ]
  },
  {
   "cell_type": "markdown",
   "id": "interstate-victim",
   "metadata": {},
   "source": [
    "### Visualise the data"
   ]
  },
  {
   "cell_type": "code",
   "execution_count": 63,
   "id": "experimental-examination",
   "metadata": {},
   "outputs": [
    {
     "data": {
      "image/png": "[encoded data removed]",
      "text/plain": [
       "<Figure size 1440x720 with 9 Axes>"
      ]
     },
     "metadata": {
      "needs_background": "light"
     },
     "output_type": "display_data"
    }
   ],
   "source": [
    "%matplotlib inline\n",
    "import matplotlib.pyplot as plt\n",
    "\n",
    "housing.hist(bins=50, figsize=(20, 10))\n",
    "plt.show()"
   ]
  },
  {
   "cell_type": "markdown",
   "id": "dietary-cisco",
   "metadata": {},
   "source": [
    "### Generate test set\n",
    "\n",
    "*Random sampling methods*\n",
    "\n",
    "* Random split specifying the % of test set\n",
    "* Specify `random_state` to have consistent sampling, and avoid test example to be part of the train in future splits\n",
    "* To have a stable train/test split even after updating the dataset, a common solution is to use each instance’s identifier to decide whether or not it should go in the test set (assuming instances have a unique and immutable identifier). See page 52\n",
    "   * Use row index as ID\n",
    "   * Build a unique identifier "
   ]
  },
  {
   "cell_type": "code",
   "execution_count": 66,
   "id": "fifth-colors",
   "metadata": {},
   "outputs": [],
   "source": [
    "# Split sets\n",
    "from sklearn.model_selection import train_test_split\n",
    "\n",
    "train_set, test_set = train_test_split(housing, test_size=0.2, random_state=42)"
   ]
  },
  {
   "cell_type": "markdown",
   "id": "brilliant-disability",
   "metadata": {},
   "source": [
    "*Stratified sampling* \n",
    "\n",
    "Used for small dataset, to avoid sampling bias. \n",
    "\n",
    "The population is divided into homogeneous subgroups called *strata*, and the right number of instances are sampled from each stratum to guarantee that the test set is representative of the overall population.\n",
    "\n",
    "It is important to have a sufficient number of instances for each stratum, or else the estimate of a stratum’s importance may be biased: \n",
    "* Not too many strata\n",
    "* Each stratum should be large enough\n",
    "\n",
    "Example: statify for the `median_income` feature\n",
    "\n",
    "Use `pd.cut()` to create categories and `StratifiedShuffleSplit()` to split the data. "
   ]
  },
  {
   "cell_type": "code",
   "execution_count": 72,
   "id": "considered-recruitment",
   "metadata": {},
   "outputs": [
    {
     "data": {
      "text/html": [
       "<div>\n",
       "<style scoped>\n",
       "    .dataframe tbody tr th:only-of-type {\n",
       "        vertical-align: middle;\n",
       "    }\n",
       "\n",
       "    .dataframe tbody tr th {\n",
       "        vertical-align: top;\n",
       "    }\n",
       "\n",
       "    .dataframe thead th {\n",
       "        text-align: right;\n",
       "    }\n",
       "</style>\n",
       "<table border=\"1\" class=\"dataframe\">\n",
       "  <thead>\n",
       "    <tr style=\"text-align: right;\">\n",
       "      <th></th>\n",
       "      <th>longitude</th>\n",
       "      <th>latitude</th>\n",
       "      <th>housing_median_age</th>\n",
       "      <th>total_rooms</th>\n",
       "      <th>total_bedrooms</th>\n",
       "      <th>population</th>\n",
       "      <th>households</th>\n",
       "      <th>median_income</th>\n",
       "      <th>median_house_value</th>\n",
       "      <th>ocean_proximity</th>\n",
       "      <th>income_cat</th>\n",
       "    </tr>\n",
       "  </thead>\n",
       "  <tbody>\n",
       "    <tr>\n",
       "      <th>0</th>\n",
       "      <td>-122.23</td>\n",
       "      <td>37.88</td>\n",
       "      <td>41.0</td>\n",
       "      <td>880.0</td>\n",
       "      <td>129.0</td>\n",
       "      <td>322.0</td>\n",
       "      <td>126.0</td>\n",
       "      <td>8.3252</td>\n",
       "      <td>452600.0</td>\n",
       "      <td>NEAR BAY</td>\n",
       "      <td>5</td>\n",
       "    </tr>\n",
       "    <tr>\n",
       "      <th>1</th>\n",
       "      <td>-122.22</td>\n",
       "      <td>37.86</td>\n",
       "      <td>21.0</td>\n",
       "      <td>7099.0</td>\n",
       "      <td>1106.0</td>\n",
       "      <td>2401.0</td>\n",
       "      <td>1138.0</td>\n",
       "      <td>8.3014</td>\n",
       "      <td>358500.0</td>\n",
       "      <td>NEAR BAY</td>\n",
       "      <td>5</td>\n",
       "    </tr>\n",
       "    <tr>\n",
       "      <th>2</th>\n",
       "      <td>-122.24</td>\n",
       "      <td>37.85</td>\n",
       "      <td>52.0</td>\n",
       "      <td>1467.0</td>\n",
       "      <td>190.0</td>\n",
       "      <td>496.0</td>\n",
       "      <td>177.0</td>\n",
       "      <td>7.2574</td>\n",
       "      <td>352100.0</td>\n",
       "      <td>NEAR BAY</td>\n",
       "      <td>5</td>\n",
       "    </tr>\n",
       "    <tr>\n",
       "      <th>3</th>\n",
       "      <td>-122.25</td>\n",
       "      <td>37.85</td>\n",
       "      <td>52.0</td>\n",
       "      <td>1274.0</td>\n",
       "      <td>235.0</td>\n",
       "      <td>558.0</td>\n",
       "      <td>219.0</td>\n",
       "      <td>5.6431</td>\n",
       "      <td>341300.0</td>\n",
       "      <td>NEAR BAY</td>\n",
       "      <td>4</td>\n",
       "    </tr>\n",
       "    <tr>\n",
       "      <th>4</th>\n",
       "      <td>-122.25</td>\n",
       "      <td>37.85</td>\n",
       "      <td>52.0</td>\n",
       "      <td>1627.0</td>\n",
       "      <td>280.0</td>\n",
       "      <td>565.0</td>\n",
       "      <td>259.0</td>\n",
       "      <td>3.8462</td>\n",
       "      <td>342200.0</td>\n",
       "      <td>NEAR BAY</td>\n",
       "      <td>3</td>\n",
       "    </tr>\n",
       "  </tbody>\n",
       "</table>\n",
       "</div>"
      ],
      "text/plain": [
       "   longitude  latitude  housing_median_age  total_rooms  total_bedrooms  \\\n",
       "0    -122.23     37.88                41.0        880.0           129.0   \n",
       "1    -122.22     37.86                21.0       7099.0          1106.0   \n",
       "2    -122.24     37.85                52.0       1467.0           190.0   \n",
       "3    -122.25     37.85                52.0       1274.0           235.0   \n",
       "4    -122.25     37.85                52.0       1627.0           280.0   \n",
       "\n",
       "   population  households  median_income  median_house_value ocean_proximity  \\\n",
       "0       322.0       126.0         8.3252            452600.0        NEAR BAY   \n",
       "1      2401.0      1138.0         8.3014            358500.0        NEAR BAY   \n",
       "2       496.0       177.0         7.2574            352100.0        NEAR BAY   \n",
       "3       558.0       219.0         5.6431            341300.0        NEAR BAY   \n",
       "4       565.0       259.0         3.8462            342200.0        NEAR BAY   \n",
       "\n",
       "  income_cat  \n",
       "0          5  \n",
       "1          5  \n",
       "2          5  \n",
       "3          4  \n",
       "4          3  "
      ]
     },
     "execution_count": 72,
     "metadata": {},
     "output_type": "execute_result"
    }
   ],
   "source": [
    "# Add category to df\n",
    "housing['income_cat'] = pd.cut(housing['median_income'], \n",
    "                        bins=[0. , 1.5, 3., 4.5, 6, np.inf], \n",
    "                        labels=[1, 2, 3, 4, 5])\n",
    "\n",
    "housing.head()"
   ]
  },
  {
   "cell_type": "code",
   "execution_count": 73,
   "id": "continued-times",
   "metadata": {},
   "outputs": [],
   "source": [
    "# Split the data\n",
    "from sklearn.model_selection import StratifiedShuffleSplit\n",
    "\n",
    "sss = StratifiedShuffleSplit(n_splits=1, test_size=0.2, random_state=42)\n",
    "for train_index, test_index in sss.split(housing, housing['income_cat']):\n",
    "     strat_train_set = housing.loc[train_index]\n",
    "     strat_test_set = housing.loc[test_index]"
   ]
  },
  {
   "cell_type": "code",
   "execution_count": 74,
   "id": "banner-tennis",
   "metadata": {},
   "outputs": [],
   "source": [
    "# Remove the `cat_income` attribute\n",
    "for set_ in (strat_train_set, strat_test_set): \n",
    "    set_.drop(\"income_cat\", axis=1, inplace=True)"
   ]
  },
  {
   "cell_type": "markdown",
   "id": "ideal-choir",
   "metadata": {},
   "source": [
    "## 3. Explore the data\n",
    "\n",
    "Exploration done on a copy of **training set** and it can be sampled if too big. \n",
    "\n",
    "If geografical data, they can be visualised on a map (see page 56). "
   ]
  },
  {
   "cell_type": "code",
   "execution_count": 75,
   "id": "optical-exploration",
   "metadata": {},
   "outputs": [],
   "source": [
    "# Copy the trainig data\n",
    "housing = strat_train_set.copy()"
   ]
  },
  {
   "cell_type": "markdown",
   "id": "aboriginal-casino",
   "metadata": {},
   "source": [
    "### Correlation\n",
    "\n",
    "Compute the standard correlation coefficient (Pearson's) using `corr()`. "
   ]
  },
  {
   "cell_type": "code",
   "execution_count": 78,
   "id": "perfect-opening",
   "metadata": {},
   "outputs": [
    {
     "data": {
      "text/html": [
       "<style  type=\"text/css\" >\n",
       "#T_fd54b_row0_col0,#T_fd54b_row1_col1,#T_fd54b_row2_col2,#T_fd54b_row3_col3,#T_fd54b_row4_col4,#T_fd54b_row5_col5,#T_fd54b_row6_col6,#T_fd54b_row7_col7,#T_fd54b_row8_col8{\n",
       "            background-color:  #b40426;\n",
       "            color:  #f1f1f1;\n",
       "        }#T_fd54b_row0_col1,#T_fd54b_row1_col0,#T_fd54b_row1_col8,#T_fd54b_row2_col3,#T_fd54b_row2_col4,#T_fd54b_row2_col5,#T_fd54b_row2_col6,#T_fd54b_row2_col7,#T_fd54b_row3_col2{\n",
       "            background-color:  #3b4cc0;\n",
       "            color:  #f1f1f1;\n",
       "        }#T_fd54b_row0_col2,#T_fd54b_row1_col4{\n",
       "            background-color:  #779af7;\n",
       "            color:  #000000;\n",
       "        }#T_fd54b_row0_col3,#T_fd54b_row0_col4{\n",
       "            background-color:  #9fbfff;\n",
       "            color:  #000000;\n",
       "        }#T_fd54b_row0_col5{\n",
       "            background-color:  #a3c2fe;\n",
       "            color:  #000000;\n",
       "        }#T_fd54b_row0_col6,#T_fd54b_row8_col4,#T_fd54b_row8_col6{\n",
       "            background-color:  #98b9ff;\n",
       "            color:  #000000;\n",
       "        }#T_fd54b_row0_col7,#T_fd54b_row0_col8{\n",
       "            background-color:  #5470de;\n",
       "            color:  #000000;\n",
       "        }#T_fd54b_row1_col2{\n",
       "            background-color:  #94b6ff;\n",
       "            color:  #000000;\n",
       "        }#T_fd54b_row1_col3{\n",
       "            background-color:  #89acfd;\n",
       "            color:  #000000;\n",
       "        }#T_fd54b_row1_col5{\n",
       "            background-color:  #6788ee;\n",
       "            color:  #000000;\n",
       "        }#T_fd54b_row1_col6{\n",
       "            background-color:  #7295f4;\n",
       "            color:  #000000;\n",
       "        }#T_fd54b_row1_col7{\n",
       "            background-color:  #445acc;\n",
       "            color:  #f1f1f1;\n",
       "        }#T_fd54b_row2_col0{\n",
       "            background-color:  #c7d7f0;\n",
       "            color:  #000000;\n",
       "        }#T_fd54b_row2_col1{\n",
       "            background-color:  #d8dce2;\n",
       "            color:  #000000;\n",
       "        }#T_fd54b_row2_col8{\n",
       "            background-color:  #84a7fc;\n",
       "            color:  #000000;\n",
       "        }#T_fd54b_row3_col0{\n",
       "            background-color:  #dedcdb;\n",
       "            color:  #000000;\n",
       "        }#T_fd54b_row3_col1{\n",
       "            background-color:  #d2dbe8;\n",
       "            color:  #000000;\n",
       "        }#T_fd54b_row3_col4,#T_fd54b_row4_col3{\n",
       "            background-color:  #c73635;\n",
       "            color:  #f1f1f1;\n",
       "        }#T_fd54b_row3_col5{\n",
       "            background-color:  #d95847;\n",
       "            color:  #000000;\n",
       "        }#T_fd54b_row3_col6,#T_fd54b_row6_col3{\n",
       "            background-color:  #ca3b37;\n",
       "            color:  #f1f1f1;\n",
       "        }#T_fd54b_row3_col7{\n",
       "            background-color:  #97b8ff;\n",
       "            color:  #000000;\n",
       "        }#T_fd54b_row3_col8,#T_fd54b_row7_col6{\n",
       "            background-color:  #8badfd;\n",
       "            color:  #000000;\n",
       "        }#T_fd54b_row4_col0{\n",
       "            background-color:  #e2dad5;\n",
       "            color:  #000000;\n",
       "        }#T_fd54b_row4_col1{\n",
       "            background-color:  #cdd9ec;\n",
       "            color:  #000000;\n",
       "        }#T_fd54b_row4_col2{\n",
       "            background-color:  #4358cb;\n",
       "            color:  #f1f1f1;\n",
       "        }#T_fd54b_row4_col5{\n",
       "            background-color:  #d55042;\n",
       "            color:  #000000;\n",
       "        }#T_fd54b_row4_col6,#T_fd54b_row6_col4{\n",
       "            background-color:  #b8122a;\n",
       "            color:  #f1f1f1;\n",
       "        }#T_fd54b_row4_col7{\n",
       "            background-color:  #5673e0;\n",
       "            color:  #000000;\n",
       "        }#T_fd54b_row4_col8{\n",
       "            background-color:  #6f92f3;\n",
       "            color:  #000000;\n",
       "        }#T_fd54b_row5_col0{\n",
       "            background-color:  #e6d7cf;\n",
       "            color:  #000000;\n",
       "        }#T_fd54b_row5_col1{\n",
       "            background-color:  #c6d6f1;\n",
       "            color:  #000000;\n",
       "        }#T_fd54b_row5_col2{\n",
       "            background-color:  #4961d2;\n",
       "            color:  #f1f1f1;\n",
       "        }#T_fd54b_row5_col3{\n",
       "            background-color:  #d85646;\n",
       "            color:  #000000;\n",
       "        }#T_fd54b_row5_col4{\n",
       "            background-color:  #d44e41;\n",
       "            color:  #000000;\n",
       "        }#T_fd54b_row5_col6,#T_fd54b_row6_col5{\n",
       "            background-color:  #cd423b;\n",
       "            color:  #f1f1f1;\n",
       "        }#T_fd54b_row5_col7{\n",
       "            background-color:  #5a78e4;\n",
       "            color:  #000000;\n",
       "        }#T_fd54b_row5_col8{\n",
       "            background-color:  #5977e3;\n",
       "            color:  #000000;\n",
       "        }#T_fd54b_row6_col0{\n",
       "            background-color:  #e0dbd8;\n",
       "            color:  #000000;\n",
       "        }#T_fd54b_row6_col1,#T_fd54b_row7_col1{\n",
       "            background-color:  #ccd9ed;\n",
       "            color:  #000000;\n",
       "        }#T_fd54b_row6_col2{\n",
       "            background-color:  #465ecf;\n",
       "            color:  #f1f1f1;\n",
       "        }#T_fd54b_row6_col7{\n",
       "            background-color:  #5d7ce6;\n",
       "            color:  #000000;\n",
       "        }#T_fd54b_row6_col8{\n",
       "            background-color:  #7597f6;\n",
       "            color:  #000000;\n",
       "        }#T_fd54b_row7_col0{\n",
       "            background-color:  #d5dbe5;\n",
       "            color:  #000000;\n",
       "        }#T_fd54b_row7_col2{\n",
       "            background-color:  #7699f6;\n",
       "            color:  #000000;\n",
       "        }#T_fd54b_row7_col3{\n",
       "            background-color:  #c4d5f3;\n",
       "            color:  #000000;\n",
       "        }#T_fd54b_row7_col4{\n",
       "            background-color:  #88abfd;\n",
       "            color:  #000000;\n",
       "        }#T_fd54b_row7_col5{\n",
       "            background-color:  #86a9fc;\n",
       "            color:  #000000;\n",
       "        }#T_fd54b_row7_col8{\n",
       "            background-color:  #f6a385;\n",
       "            color:  #000000;\n",
       "        }#T_fd54b_row8_col0{\n",
       "            background-color:  #d1dae9;\n",
       "            color:  #000000;\n",
       "        }#T_fd54b_row8_col1{\n",
       "            background-color:  #c1d4f4;\n",
       "            color:  #000000;\n",
       "        }#T_fd54b_row8_col2{\n",
       "            background-color:  #afcafc;\n",
       "            color:  #000000;\n",
       "        }#T_fd54b_row8_col3{\n",
       "            background-color:  #b5cdfa;\n",
       "            color:  #000000;\n",
       "        }#T_fd54b_row8_col5{\n",
       "            background-color:  #7ea1fa;\n",
       "            color:  #000000;\n",
       "        }#T_fd54b_row8_col7{\n",
       "            background-color:  #f7a688;\n",
       "            color:  #000000;\n",
       "        }</style><table id=\"T_fd54b_\" ><thead>    <tr>        <th class=\"blank level0\" ></th>        <th class=\"col_heading level0 col0\" >longitude</th>        <th class=\"col_heading level0 col1\" >latitude</th>        <th class=\"col_heading level0 col2\" >housing_median_age</th>        <th class=\"col_heading level0 col3\" >total_rooms</th>        <th class=\"col_heading level0 col4\" >total_bedrooms</th>        <th class=\"col_heading level0 col5\" >population</th>        <th class=\"col_heading level0 col6\" >households</th>        <th class=\"col_heading level0 col7\" >median_income</th>        <th class=\"col_heading level0 col8\" >median_house_value</th>    </tr></thead><tbody>\n",
       "                <tr>\n",
       "                        <th id=\"T_fd54b_level0_row0\" class=\"row_heading level0 row0\" >longitude</th>\n",
       "                        <td id=\"T_fd54b_row0_col0\" class=\"data row0 col0\" >1.000000</td>\n",
       "                        <td id=\"T_fd54b_row0_col1\" class=\"data row0 col1\" >-0.924478</td>\n",
       "                        <td id=\"T_fd54b_row0_col2\" class=\"data row0 col2\" >-0.105848</td>\n",
       "                        <td id=\"T_fd54b_row0_col3\" class=\"data row0 col3\" >0.048871</td>\n",
       "                        <td id=\"T_fd54b_row0_col4\" class=\"data row0 col4\" >0.076598</td>\n",
       "                        <td id=\"T_fd54b_row0_col5\" class=\"data row0 col5\" >0.108030</td>\n",
       "                        <td id=\"T_fd54b_row0_col6\" class=\"data row0 col6\" >0.063070</td>\n",
       "                        <td id=\"T_fd54b_row0_col7\" class=\"data row0 col7\" >-0.019583</td>\n",
       "                        <td id=\"T_fd54b_row0_col8\" class=\"data row0 col8\" >-0.047432</td>\n",
       "            </tr>\n",
       "            <tr>\n",
       "                        <th id=\"T_fd54b_level0_row1\" class=\"row_heading level0 row1\" >latitude</th>\n",
       "                        <td id=\"T_fd54b_row1_col0\" class=\"data row1 col0\" >-0.924478</td>\n",
       "                        <td id=\"T_fd54b_row1_col1\" class=\"data row1 col1\" >1.000000</td>\n",
       "                        <td id=\"T_fd54b_row1_col2\" class=\"data row1 col2\" >0.005766</td>\n",
       "                        <td id=\"T_fd54b_row1_col3\" class=\"data row1 col3\" >-0.039184</td>\n",
       "                        <td id=\"T_fd54b_row1_col4\" class=\"data row1 col4\" >-0.072419</td>\n",
       "                        <td id=\"T_fd54b_row1_col5\" class=\"data row1 col5\" >-0.115222</td>\n",
       "                        <td id=\"T_fd54b_row1_col6\" class=\"data row1 col6\" >-0.077647</td>\n",
       "                        <td id=\"T_fd54b_row1_col7\" class=\"data row1 col7\" >-0.075205</td>\n",
       "                        <td id=\"T_fd54b_row1_col8\" class=\"data row1 col8\" >-0.142724</td>\n",
       "            </tr>\n",
       "            <tr>\n",
       "                        <th id=\"T_fd54b_level0_row2\" class=\"row_heading level0 row2\" >housing_median_age</th>\n",
       "                        <td id=\"T_fd54b_row2_col0\" class=\"data row2 col0\" >-0.105848</td>\n",
       "                        <td id=\"T_fd54b_row2_col1\" class=\"data row2 col1\" >0.005766</td>\n",
       "                        <td id=\"T_fd54b_row2_col2\" class=\"data row2 col2\" >1.000000</td>\n",
       "                        <td id=\"T_fd54b_row2_col3\" class=\"data row2 col3\" >-0.364509</td>\n",
       "                        <td id=\"T_fd54b_row2_col4\" class=\"data row2 col4\" >-0.325047</td>\n",
       "                        <td id=\"T_fd54b_row2_col5\" class=\"data row2 col5\" >-0.298710</td>\n",
       "                        <td id=\"T_fd54b_row2_col6\" class=\"data row2 col6\" >-0.306428</td>\n",
       "                        <td id=\"T_fd54b_row2_col7\" class=\"data row2 col7\" >-0.111360</td>\n",
       "                        <td id=\"T_fd54b_row2_col8\" class=\"data row2 col8\" >0.114110</td>\n",
       "            </tr>\n",
       "            <tr>\n",
       "                        <th id=\"T_fd54b_level0_row3\" class=\"row_heading level0 row3\" >total_rooms</th>\n",
       "                        <td id=\"T_fd54b_row3_col0\" class=\"data row3 col0\" >0.048871</td>\n",
       "                        <td id=\"T_fd54b_row3_col1\" class=\"data row3 col1\" >-0.039184</td>\n",
       "                        <td id=\"T_fd54b_row3_col2\" class=\"data row3 col2\" >-0.364509</td>\n",
       "                        <td id=\"T_fd54b_row3_col3\" class=\"data row3 col3\" >1.000000</td>\n",
       "                        <td id=\"T_fd54b_row3_col4\" class=\"data row3 col4\" >0.929379</td>\n",
       "                        <td id=\"T_fd54b_row3_col5\" class=\"data row3 col5\" >0.855109</td>\n",
       "                        <td id=\"T_fd54b_row3_col6\" class=\"data row3 col6\" >0.918392</td>\n",
       "                        <td id=\"T_fd54b_row3_col7\" class=\"data row3 col7\" >0.200087</td>\n",
       "                        <td id=\"T_fd54b_row3_col8\" class=\"data row3 col8\" >0.135097</td>\n",
       "            </tr>\n",
       "            <tr>\n",
       "                        <th id=\"T_fd54b_level0_row4\" class=\"row_heading level0 row4\" >total_bedrooms</th>\n",
       "                        <td id=\"T_fd54b_row4_col0\" class=\"data row4 col0\" >0.076598</td>\n",
       "                        <td id=\"T_fd54b_row4_col1\" class=\"data row4 col1\" >-0.072419</td>\n",
       "                        <td id=\"T_fd54b_row4_col2\" class=\"data row4 col2\" >-0.325047</td>\n",
       "                        <td id=\"T_fd54b_row4_col3\" class=\"data row4 col3\" >0.929379</td>\n",
       "                        <td id=\"T_fd54b_row4_col4\" class=\"data row4 col4\" >1.000000</td>\n",
       "                        <td id=\"T_fd54b_row4_col5\" class=\"data row4 col5\" >0.876320</td>\n",
       "                        <td id=\"T_fd54b_row4_col6\" class=\"data row4 col6\" >0.980170</td>\n",
       "                        <td id=\"T_fd54b_row4_col7\" class=\"data row4 col7\" >-0.009740</td>\n",
       "                        <td id=\"T_fd54b_row4_col8\" class=\"data row4 col8\" >0.047689</td>\n",
       "            </tr>\n",
       "            <tr>\n",
       "                        <th id=\"T_fd54b_level0_row5\" class=\"row_heading level0 row5\" >population</th>\n",
       "                        <td id=\"T_fd54b_row5_col0\" class=\"data row5 col0\" >0.108030</td>\n",
       "                        <td id=\"T_fd54b_row5_col1\" class=\"data row5 col1\" >-0.115222</td>\n",
       "                        <td id=\"T_fd54b_row5_col2\" class=\"data row5 col2\" >-0.298710</td>\n",
       "                        <td id=\"T_fd54b_row5_col3\" class=\"data row5 col3\" >0.855109</td>\n",
       "                        <td id=\"T_fd54b_row5_col4\" class=\"data row5 col4\" >0.876320</td>\n",
       "                        <td id=\"T_fd54b_row5_col5\" class=\"data row5 col5\" >1.000000</td>\n",
       "                        <td id=\"T_fd54b_row5_col6\" class=\"data row5 col6\" >0.904637</td>\n",
       "                        <td id=\"T_fd54b_row5_col7\" class=\"data row5 col7\" >0.002380</td>\n",
       "                        <td id=\"T_fd54b_row5_col8\" class=\"data row5 col8\" >-0.026920</td>\n",
       "            </tr>\n",
       "            <tr>\n",
       "                        <th id=\"T_fd54b_level0_row6\" class=\"row_heading level0 row6\" >households</th>\n",
       "                        <td id=\"T_fd54b_row6_col0\" class=\"data row6 col0\" >0.063070</td>\n",
       "                        <td id=\"T_fd54b_row6_col1\" class=\"data row6 col1\" >-0.077647</td>\n",
       "                        <td id=\"T_fd54b_row6_col2\" class=\"data row6 col2\" >-0.306428</td>\n",
       "                        <td id=\"T_fd54b_row6_col3\" class=\"data row6 col3\" >0.918392</td>\n",
       "                        <td id=\"T_fd54b_row6_col4\" class=\"data row6 col4\" >0.980170</td>\n",
       "                        <td id=\"T_fd54b_row6_col5\" class=\"data row6 col5\" >0.904637</td>\n",
       "                        <td id=\"T_fd54b_row6_col6\" class=\"data row6 col6\" >1.000000</td>\n",
       "                        <td id=\"T_fd54b_row6_col7\" class=\"data row6 col7\" >0.010781</td>\n",
       "                        <td id=\"T_fd54b_row6_col8\" class=\"data row6 col8\" >0.064506</td>\n",
       "            </tr>\n",
       "            <tr>\n",
       "                        <th id=\"T_fd54b_level0_row7\" class=\"row_heading level0 row7\" >median_income</th>\n",
       "                        <td id=\"T_fd54b_row7_col0\" class=\"data row7 col0\" >-0.019583</td>\n",
       "                        <td id=\"T_fd54b_row7_col1\" class=\"data row7 col1\" >-0.075205</td>\n",
       "                        <td id=\"T_fd54b_row7_col2\" class=\"data row7 col2\" >-0.111360</td>\n",
       "                        <td id=\"T_fd54b_row7_col3\" class=\"data row7 col3\" >0.200087</td>\n",
       "                        <td id=\"T_fd54b_row7_col4\" class=\"data row7 col4\" >-0.009740</td>\n",
       "                        <td id=\"T_fd54b_row7_col5\" class=\"data row7 col5\" >0.002380</td>\n",
       "                        <td id=\"T_fd54b_row7_col6\" class=\"data row7 col6\" >0.010781</td>\n",
       "                        <td id=\"T_fd54b_row7_col7\" class=\"data row7 col7\" >1.000000</td>\n",
       "                        <td id=\"T_fd54b_row7_col8\" class=\"data row7 col8\" >0.687160</td>\n",
       "            </tr>\n",
       "            <tr>\n",
       "                        <th id=\"T_fd54b_level0_row8\" class=\"row_heading level0 row8\" >median_house_value</th>\n",
       "                        <td id=\"T_fd54b_row8_col0\" class=\"data row8 col0\" >-0.047432</td>\n",
       "                        <td id=\"T_fd54b_row8_col1\" class=\"data row8 col1\" >-0.142724</td>\n",
       "                        <td id=\"T_fd54b_row8_col2\" class=\"data row8 col2\" >0.114110</td>\n",
       "                        <td id=\"T_fd54b_row8_col3\" class=\"data row8 col3\" >0.135097</td>\n",
       "                        <td id=\"T_fd54b_row8_col4\" class=\"data row8 col4\" >0.047689</td>\n",
       "                        <td id=\"T_fd54b_row8_col5\" class=\"data row8 col5\" >-0.026920</td>\n",
       "                        <td id=\"T_fd54b_row8_col6\" class=\"data row8 col6\" >0.064506</td>\n",
       "                        <td id=\"T_fd54b_row8_col7\" class=\"data row8 col7\" >0.687160</td>\n",
       "                        <td id=\"T_fd54b_row8_col8\" class=\"data row8 col8\" >1.000000</td>\n",
       "            </tr>\n",
       "    </tbody></table>"
      ],
      "text/plain": [
       "<pandas.io.formats.style.Styler at 0x7fb3d9c71730>"
      ]
     },
     "execution_count": 78,
     "metadata": {},
     "output_type": "execute_result"
    }
   ],
   "source": [
    "# Calculate the correlation matrix and visualise it using colors\n",
    "corr_matrix = housing.corr()\n",
    "corr_matrix.style.background_gradient(cmap='coolwarm')"
   ]
  },
  {
   "cell_type": "code",
   "execution_count": 80,
   "id": "continent-friendly",
   "metadata": {},
   "outputs": [
    {
     "data": {
      "text/plain": [
       "median_house_value    1.000000\n",
       "median_income         0.687160\n",
       "total_rooms           0.135097\n",
       "housing_median_age    0.114110\n",
       "households            0.064506\n",
       "total_bedrooms        0.047689\n",
       "population           -0.026920\n",
       "longitude            -0.047432\n",
       "latitude             -0.142724\n",
       "Name: median_house_value, dtype: float64"
      ]
     },
     "execution_count": 80,
     "metadata": {},
     "output_type": "execute_result"
    }
   ],
   "source": [
    "# Check correlation with target\n",
    "corr_matrix[\"median_house_value\"].sort_values(ascending=False)"
   ]
  },
  {
   "cell_type": "markdown",
   "id": "floppy-barrel",
   "metadata": {},
   "source": [
    "Correlation coefficient [-1, 1]: \n",
    "* 1: strong positive correlation\n",
    "* -1: strong negative correlation\n",
    "* 0: no linear correlation (can be other nonlinear relationship)\n",
    "\n",
    "`scatter_matrix()` can be used to plot numerical attributes one versus the others"
   ]
  },
  {
   "cell_type": "code",
   "execution_count": 81,
   "id": "smooth-space",
   "metadata": {},
   "outputs": [
    {
     "data": {
      "text/plain": [
       "array([[<AxesSubplot:xlabel='median_house_value', ylabel='median_house_value'>,\n",
       "        <AxesSubplot:xlabel='median_income', ylabel='median_house_value'>,\n",
       "        <AxesSubplot:xlabel='total_rooms', ylabel='median_house_value'>,\n",
       "        <AxesSubplot:xlabel='housing_median_age', ylabel='median_house_value'>],\n",
       "       [<AxesSubplot:xlabel='median_house_value', ylabel='median_income'>,\n",
       "        <AxesSubplot:xlabel='median_income', ylabel='median_income'>,\n",
       "        <AxesSubplot:xlabel='total_rooms', ylabel='median_income'>,\n",
       "        <AxesSubplot:xlabel='housing_median_age', ylabel='median_income'>],\n",
       "       [<AxesSubplot:xlabel='median_house_value', ylabel='total_rooms'>,\n",
       "        <AxesSubplot:xlabel='median_income', ylabel='total_rooms'>,\n",
       "        <AxesSubplot:xlabel='total_rooms', ylabel='total_rooms'>,\n",
       "        <AxesSubplot:xlabel='housing_median_age', ylabel='total_rooms'>],\n",
       "       [<AxesSubplot:xlabel='median_house_value', ylabel='housing_median_age'>,\n",
       "        <AxesSubplot:xlabel='median_income', ylabel='housing_median_age'>,\n",
       "        <AxesSubplot:xlabel='total_rooms', ylabel='housing_median_age'>,\n",
       "        <AxesSubplot:xlabel='housing_median_age', ylabel='housing_median_age'>]],\n",
       "      dtype=object)"
      ]
     },
     "execution_count": 81,
     "metadata": {},
     "output_type": "execute_result"
    },
    {
     "data": {
      "image/png": "[encoded data removed]",
      "text/plain": [
       "<Figure size 864x576 with 16 Axes>"
      ]
     },
     "metadata": {
      "needs_background": "light"
     },
     "output_type": "display_data"
    }
   ],
   "source": [
    "# Select a few attributes to plot\n",
    "from pandas.plotting import scatter_matrix\n",
    "\n",
    "attributes = [\"median_house_value\", \"median_income\", \"total_rooms\",\n",
    "                  \"housing_median_age\"]\n",
    "scatter_matrix(train_set[attributes], figsize=(12, 8))"
   ]
  },
  {
   "cell_type": "markdown",
   "id": "infrared-purse",
   "metadata": {},
   "source": [
    "In the main diagonal: histogram of each attribute. \n",
    "\n",
    "### Experiment with attribute combinations\n",
    "\n",
    "* Tail heavy distribution: compute logarithm\n",
    "* Try attribute combinations\n",
    "\n",
    "## 4. Prepare the data\n",
    "\n",
    "Use functions to prepare the data for Machine Learning. \n",
    "\n",
    "### Separate data and labels"
   ]
  },
  {
   "cell_type": "code",
   "execution_count": 82,
   "id": "independent-holly",
   "metadata": {},
   "outputs": [],
   "source": [
    "# X set\n",
    "housing = strat_train_set.drop('median_house_value', axis=1)\n",
    "# y set\n",
    "housing_labels = strat_train_set['median_house_value'].copy()"
   ]
  },
  {
   "cell_type": "markdown",
   "id": "behavioral-speaker",
   "metadata": {},
   "source": [
    "### Scikit Learn - design principles\n",
    "\n",
    "**Consistency**\n",
    "\n",
    "All objects share a consistent and simple interface:\n",
    "\n",
    "*Estimators*\n",
    "* Any object that can estimate some parameters based on a dataset \n",
    "* Estimation performed by the `fit()` method\n",
    "* One parameter: dataset\n",
    "* Two parameters for supervised learning algorithms: dataset and labels\n",
    "* Hyperparameters (needed to guide the estimation process i.e. imputer's strategy): set as an instance variable (via a constructor parameter)\n",
    "\n",
    "*Transformers* \n",
    "* Estimators that can also transform a dataset\n",
    "* Transformation performed by the `transform()` method \n",
    "* Parameter:  dataset to transform\n",
    "* Returns the transformed dataset\n",
    "* Transformation relies on the learned parameters\n",
    "* `fit_transform()` method: equivalent to calling `fit()` and then `transform()` (but sometimes `fit_transform()` is optimized and runs much faster)\n",
    "\n",
    "*Predictors*\n",
    "* Estimators that can make predictions \n",
    "* Prediction performed by the `predict()` method\n",
    "* Parameter: dataset of new instances \n",
    "* Return dataset of corresponding predictions \n",
    "* `score()` method that measures the quality of the predictions given a test set (and the corresponding labels, in the case of supervised learning algorithms)\n",
    "\n",
    "**Inspection**\n",
    "\n",
    "All the estimator’s hyperparameters are accessible directly via public instance variables (e.g., `imputer.strategy`), and all the estimator’s learned parameters are accessible via public instance variables with an underscore suffix (e.g., `imputer.statistics_`).\n",
    "\n",
    "**Nonproliferation of classes**\n",
    "\n",
    "Datasets are represented as NumPy arrays or SciPy sparse matrices, instead of homemade classes. Hyperparameters are just regular Python strings or numbers.\n",
    "\n",
    "**Composition**\n",
    "\n",
    "Existing building blocks are reused as much as possible. For example, it is easy to create a `Pipeline` estimator from an arbitrary sequence of transformers followed by a final estimator, as we will see.\n",
    "\n",
    "**Sensible defaults**\n",
    "Scikit-Learn provides reasonable default values for most parameters, making it easy to quickly create a baseline working system.\n",
    "\n",
    "\n",
    "### Data cleaning\n",
    "\n",
    "**Missing features**\n",
    "1. Get rid of lines with missing values: `dropna()`"
   ]
  },
  {
   "cell_type": "code",
   "execution_count": 86,
   "id": "raised-scenario",
   "metadata": {},
   "outputs": [
    {
     "data": {
      "text/plain": [
       "(16354, 9)"
      ]
     },
     "execution_count": 86,
     "metadata": {},
     "output_type": "execute_result"
    }
   ],
   "source": [
    "housing.dropna(subset=['total_bedrooms']).shape"
   ]
  },
  {
   "cell_type": "markdown",
   "id": "ultimate-disabled",
   "metadata": {},
   "source": [
    "2. Get rid of attribute (column) with missing values: `drop()`"
   ]
  },
  {
   "cell_type": "code",
   "execution_count": 87,
   "id": "distinct-workshop",
   "metadata": {},
   "outputs": [
    {
     "data": {
      "text/plain": [
       "(16512, 8)"
      ]
     },
     "execution_count": 87,
     "metadata": {},
     "output_type": "execute_result"
    }
   ],
   "source": [
    "housing.drop('total_bedrooms', axis=1).shape"
   ]
  },
  {
   "cell_type": "markdown",
   "id": "logical-boost",
   "metadata": {},
   "source": [
    "3. Set the values to some value (zero, mean, median, ...): `fillna()`\n",
    "\n",
    "Save the median value to replace the test set and eventual new data with the same one"
   ]
  },
  {
   "cell_type": "code",
   "execution_count": 90,
   "id": "automatic-asset",
   "metadata": {},
   "outputs": [
    {
     "data": {
      "text/plain": [
       "(16512,)"
      ]
     },
     "execution_count": 90,
     "metadata": {},
     "output_type": "execute_result"
    }
   ],
   "source": [
    "# Calculate median\n",
    "median=housing['total_bedrooms'].median()\n",
    "\n",
    "#Replace values\n",
    "housing['total_bedrooms'].fillna(median).shape"
   ]
  },
  {
   "cell_type": "markdown",
   "id": "pharmaceutical-scott",
   "metadata": {},
   "source": [
    "`SimpleImputer()` can be used to replace missing values (only works on numerical attributes)"
   ]
  },
  {
   "cell_type": "code",
   "execution_count": 92,
   "id": "dirty-camel",
   "metadata": {},
   "outputs": [],
   "source": [
    "# Create a copy of the df with only numerical attributes - not needed when columns are specified in the pipeline\n",
    "housing_num = housing.drop('ocean_proximity', axis=1)"
   ]
  },
  {
   "cell_type": "code",
   "execution_count": 94,
   "id": "balanced-behalf",
   "metadata": {},
   "outputs": [],
   "source": [
    "from sklearn.impute import SimpleImputer\n",
    "\n",
    "# Instantiate the imputer\n",
    "imputer = SimpleImputer(strategy='median')\n",
    "# Fit on the training data - all of them, in case missing values will be present on other features with new data\n",
    "imputer.fit(housing_num)\n",
    "# Transform data\n",
    "X = imputer.transform(housing_num)"
   ]
  },
  {
   "cell_type": "code",
   "execution_count": 95,
   "id": "laughing-plenty",
   "metadata": {},
   "outputs": [
    {
     "data": {
      "text/plain": [
       "array([-118.51  ,   34.26  ,   29.    , 2119.5   ,  433.    , 1164.    ,\n",
       "        408.    ,    3.5409])"
      ]
     },
     "execution_count": 95,
     "metadata": {},
     "output_type": "execute_result"
    }
   ],
   "source": [
    "# Get imputer info\n",
    "imputer.statistics_"
   ]
  },
  {
   "cell_type": "markdown",
   "id": "threatened-projector",
   "metadata": {},
   "source": [
    "The result is a NumPy array, it can be converted into a Pandas DataFrame"
   ]
  },
  {
   "cell_type": "code",
   "execution_count": 97,
   "id": "differential-volunteer",
   "metadata": {},
   "outputs": [],
   "source": [
    "# Make df\n",
    "housing_tr = pd.DataFrame(X, columns=housing_num.columns, index=housing_num.index)"
   ]
  },
  {
   "cell_type": "markdown",
   "id": "partial-warren",
   "metadata": {},
   "source": [
    "**Text and categorical attributes**\n",
    "\n",
    "Needs to be converted into numbers as Machine Learning algorithms only work with numbers. \n",
    "\n",
    "1. Convert categories to number: `OrdinalEncoder`"
   ]
  },
  {
   "cell_type": "code",
   "execution_count": 100,
   "id": "assured-timber",
   "metadata": {},
   "outputs": [],
   "source": [
    "# Get categorical attributes\n",
    "housing_cat = housing[['ocean_proximity']]\n",
    "#housing_cat.head(10)"
   ]
  },
  {
   "cell_type": "code",
   "execution_count": 101,
   "id": "bibliographic-founder",
   "metadata": {},
   "outputs": [],
   "source": [
    "# Instantiate and fit the estimator\n",
    "from sklearn.preprocessing import OrdinalEncoder\n",
    "\n",
    "ordinal_encoder = OrdinalEncoder()\n",
    "housing_cat_encoded = ordinal_encoder.fit_transform(housing_cat)"
   ]
  },
  {
   "cell_type": "code",
   "execution_count": 103,
   "id": "underlying-making",
   "metadata": {},
   "outputs": [
    {
     "data": {
      "text/plain": [
       "array([[0.],\n",
       "       [0.],\n",
       "       [4.],\n",
       "       [1.],\n",
       "       [0.],\n",
       "       [1.],\n",
       "       [0.],\n",
       "       [1.],\n",
       "       [0.],\n",
       "       [0.]])"
      ]
     },
     "execution_count": 103,
     "metadata": {},
     "output_type": "execute_result"
    }
   ],
   "source": [
    "# Visualise new df\n",
    "housing_cat_encoded[:10]"
   ]
  },
  {
   "cell_type": "code",
   "execution_count": 104,
   "id": "detailed-swift",
   "metadata": {},
   "outputs": [
    {
     "data": {
      "text/plain": [
       "[array(['<1H OCEAN', 'INLAND', 'ISLAND', 'NEAR BAY', 'NEAR OCEAN'],\n",
       "       dtype=object)]"
      ]
     },
     "execution_count": 104,
     "metadata": {},
     "output_type": "execute_result"
    }
   ],
   "source": [
    "# Get list of categories\n",
    "ordinal_encoder.categories_"
   ]
  },
  {
   "cell_type": "markdown",
   "id": "included-witch",
   "metadata": {},
   "source": [
    "Consecutive numbers used, so two nearby values are more similar than two distant values. This may be fine in some cases (e.g., for ordered categories such as “bad,” “average,” “good,” and “excellent”), but not in all. \n",
    "\n",
    "2. Create binary attributes for each category: `OneHotEncoder()`\n",
    "\n",
    "Convert categorical values into one hot vectors. The new attributes are called *dummy attributes*"
   ]
  },
  {
   "cell_type": "code",
   "execution_count": 105,
   "id": "unlike-hepatitis",
   "metadata": {},
   "outputs": [
    {
     "data": {
      "text/plain": [
       "<16512x5 sparse matrix of type '<class 'numpy.float64'>'\n",
       "\twith 16512 stored elements in Compressed Sparse Row format>"
      ]
     },
     "execution_count": 105,
     "metadata": {},
     "output_type": "execute_result"
    }
   ],
   "source": [
    "from sklearn.preprocessing import OneHotEncoder\n",
    "\n",
    "cat_encoder = OneHotEncoder()\n",
    "housing_cat_1hot = cat_encoder.fit_transform(housing_cat)\n",
    "housing_cat_1hot"
   ]
  },
  {
   "cell_type": "markdown",
   "id": "early-invite",
   "metadata": {},
   "source": [
    "Results: sparse matrix that stores the location of non zero elements. Can be converted to array with the `toarray()` method. \n",
    "\n",
    "If a categorical attribute has a large number of possible categories, then one-hot encoding will result in a large number of input features. This may slow down training and degrade performance. \n",
    "* Replace the categorical input with useful numerical features related to the categories\n",
    "* Replace each category with a learnable, low-dimensional vector called an *embedding*. Each category’s representation would be learned during training (*representation learning*)\n",
    "\n",
    "**Custom transformer**\n",
    "\n",
    "Write specific tasks such as custom cleanup operations or combining specific attributes, by creating a class and implement three methods: \n",
    "* `fit()` returning self\n",
    "* `transform()`\n",
    "* `fit_transform()`\n",
    "\n",
    "Using base classes to get extra methods/parameters: \n",
    "* `TransformerMinin`\n",
    "    * `fit_transform`\n",
    "* `BaseEstimator`\n",
    "        * `*args` and `*kargs`\n",
    "        * Methods for hyperparameter tuning: `get_params()` and `set_params`\n",
    "\n",
    "Example: add combined attributes"
   ]
  },
  {
   "cell_type": "code",
   "execution_count": 114,
   "id": "phantom-ribbon",
   "metadata": {},
   "outputs": [],
   "source": [
    "# Define function to add attributes\n",
    "from sklearn.base import BaseEstimator, TransformerMixin\n",
    "\n",
    "# Column number per every feature\n",
    "rooms_ix, bedrooms_ix, population_ix, households_ix = 3, 4, 5, 6\n",
    "\n",
    "class CombinedAttributesAdder(BaseEstimator, TransformerMixin): \n",
    "    def __init__(self, add_bedrooms_per_room=True): \n",
    "        self.add_bedrooms_per_room = add_bedrooms_per_room\n",
    "    def fit(self, X, y=None):\n",
    "        return self\n",
    "    def transform(self, X): \n",
    "        rooms_per_household = X[:, rooms_ix] / X[:, households_ix]\n",
    "        population_per_household = X[:, population_ix] / X[:, households_ix]\n",
    "        if self.add_bedrooms_per_room:\n",
    "            bedrooms_per_room = X[:, bedrooms_ix] / X[:, rooms_ix]\n",
    "            return np.c_[X, rooms_per_household, population_per_household,\n",
    "                             bedrooms_per_room]\n",
    "        else:\n",
    "            return np.c_[X, rooms_per_household, population_per_household]"
   ]
  },
  {
   "cell_type": "code",
   "execution_count": 118,
   "id": "terminal-excess",
   "metadata": {},
   "outputs": [],
   "source": [
    "# Instantiate and apply\n",
    "attr_adder = CombinedAttributesAdder(add_bedrooms_per_room=False)\n",
    "housing_extra_attribs = attr_adder.transform(housing.values)"
   ]
  },
  {
   "cell_type": "markdown",
   "id": "macro-graham",
   "metadata": {},
   "source": [
    "**Feature scaling**\n",
    "\n",
    "Generally not required, but ML works better when the attributes have similar scales. \n",
    "\n",
    "* Normalisation or min-max scaling: `MinMaxScaler()`\n",
    "    * Values shifted and rescaled to range from 0 to 1 (or custom range)\n",
    "    * Subtracting the min value and dividing by the max minus the min\n",
    "* Standardisation: `StandardScaler()`\n",
    "    * Subtract the mean value (always have a zero mean), then divide by the standard deviation so that the resulting distribution has unit variance. \n",
    "    * Not bound values to a specific range (might be needed by Neural Networks)\n",
    "    * Less affected by outliers\n",
    "    \n",
    "Fit against the training set and transform the test set. \n",
    "\n",
    "**Transformation pipelines**\n",
    "\n",
    "`Pipeline()` to help with transformations in a specified order. \n",
    "* List of name/estimator pairs defining a sequence of steps\n",
    "* They must all be transformers except for the last one\n",
    "* Calls `fit_transform()` on all transfromers sequentially and pass the output to the next one. Calls `fit()` for the final estimator\n",
    "\n",
    "Example: pipeline for numerical values"
   ]
  },
  {
   "cell_type": "code",
   "execution_count": 119,
   "id": "efficient-eugene",
   "metadata": {},
   "outputs": [],
   "source": [
    "# Instantiate Pipeline\n",
    "from sklearn.pipeline import Pipeline\n",
    "from sklearn.preprocessing import StandardScaler\n",
    "\n",
    "num_pipeline = Pipeline([\n",
    "    ('imputer', SimpleImputer(strategy='median')), \n",
    "    ('attribs_adder', CombinedAttributesAdder()), \n",
    "    ('std_scaler', StandardScaler())\n",
    "])"
   ]
  },
  {
   "cell_type": "code",
   "execution_count": 120,
   "id": "designed-excerpt",
   "metadata": {},
   "outputs": [],
   "source": [
    "# Fit and transform using the pipeline\n",
    "\n",
    "housing_num_tr = num_pipeline.fit_transform(housing_num)"
   ]
  },
  {
   "cell_type": "markdown",
   "id": "growing-portland",
   "metadata": {},
   "source": [
    "Use `ColumnTransformer()`, a single transformer to handle all columns, applying the appropriate transformations to each column, both numerical and categorical. \n",
    "\n",
    "The constructor requires a list of tuples, containing: \n",
    "* Name\n",
    "* Transformer\n",
    "* List of names (or indices) of columns that the transformer should be applied to"
   ]
  },
  {
   "cell_type": "code",
   "execution_count": 121,
   "id": "alert-makeup",
   "metadata": {},
   "outputs": [],
   "source": [
    "# Get list of numerical and categorical colums \n",
    "num_attribs = list(housing_num)\n",
    "cat_attribs = ['ocean_proximity']"
   ]
  },
  {
   "cell_type": "code",
   "execution_count": 124,
   "id": "musical-contents",
   "metadata": {},
   "outputs": [],
   "source": [
    "# Construct column transformer\n",
    "from sklearn.compose import ColumnTransformer\n",
    "\n",
    "full_pipeline = ColumnTransformer([\n",
    "    ('num', num_pipeline, num_attribs), \n",
    "    ('cat', OneHotEncoder(), cat_attribs)\n",
    "])"
   ]
  },
  {
   "cell_type": "code",
   "execution_count": 125,
   "id": "extended-nashville",
   "metadata": {},
   "outputs": [],
   "source": [
    "# Apply column transformer\n",
    "housing_prepared = full_pipeline.fit_transform(housing)"
   ]
  },
  {
   "cell_type": "markdown",
   "id": "separate-storage",
   "metadata": {},
   "source": [
    "Output: \n",
    "* `OneHotEncoder`: sparse matrix\n",
    "* `num_pipeline`: dense matrix\n",
    "\n",
    "In case of this mix, the `ColumnTransformer` estimates the density of the final matrix (i.e., the ratio of nonzero cells), and it returns a sparse matrix if the density is lower than a given threshold (by default, `sparse_threshold=0.3`).\n",
    "\n",
    "Instead of using a transformer:\n",
    "* `drop`: columns to be dropped\n",
    "* `passthrough`: columns to be left untouched\n",
    "\n",
    "By default, the remaining columns (i.e., the ones that were not listed) will be dropped, but you can set the `remainder` hyperparameter to any transformer (or to `passthrough`) if you want these columns to be handled differently.\n",
    "\n",
    "### Select and train a model\n",
    "\n",
    "**Training and evaluating on the training set**\n",
    "\n",
    "Example: ***Linear Regression***\n"
   ]
  },
  {
   "cell_type": "code",
   "execution_count": 130,
   "id": "digital-healthcare",
   "metadata": {},
   "outputs": [
    {
     "data": {
      "text/plain": [
       "((5, 16), (5,))"
      ]
     },
     "execution_count": 130,
     "metadata": {},
     "output_type": "execute_result"
    }
   ],
   "source": [
    "# Select 5 examples to test the model and transform\n",
    "some_data = housing.iloc[:5]\n",
    "some_labels = housing_labels.iloc[:5]\n",
    "\n",
    "# Transform with full pipeline\n",
    "some_data_prepared = full_pipeline.transform(some_data)\n",
    "\n",
    "# Check shape of selected data\n",
    "some_data_prepared.shape, some_labels.shape"
   ]
  },
  {
   "cell_type": "code",
   "execution_count": 126,
   "id": "dying-helena",
   "metadata": {},
   "outputs": [
    {
     "data": {
      "text/plain": [
       "LinearRegression()"
      ]
     },
     "execution_count": 126,
     "metadata": {},
     "output_type": "execute_result"
    }
   ],
   "source": [
    "# Fit (train) a linear regression model\n",
    "from sklearn.linear_model import LinearRegression\n",
    "\n",
    "lin_reg = LinearRegression()\n",
    "lin_reg.fit(housing_prepared, housing_labels)"
   ]
  },
  {
   "cell_type": "code",
   "execution_count": 131,
   "id": "artificial-principal",
   "metadata": {},
   "outputs": [
    {
     "data": {
      "text/plain": [
       "array([210644.60459286, 317768.80697211, 210956.43331178,  59218.98886849,\n",
       "       189747.55849879])"
      ]
     },
     "execution_count": 131,
     "metadata": {},
     "output_type": "execute_result"
    }
   ],
   "source": [
    "# Use the model to make predictions \n",
    "lin_reg.predict(some_data_prepared)"
   ]
  },
  {
   "cell_type": "code",
   "execution_count": 133,
   "id": "other-filename",
   "metadata": {},
   "outputs": [
    {
     "data": {
      "text/plain": [
       "[286600.0, 340600.0, 196900.0, 46300.0, 254500.0]"
      ]
     },
     "execution_count": 133,
     "metadata": {},
     "output_type": "execute_result"
    }
   ],
   "source": [
    "# Compare with labels\n",
    "list(some_labels)"
   ]
  },
  {
   "cell_type": "markdown",
   "id": "surgical-pearl",
   "metadata": {},
   "source": [
    "Evaluate the RMSE on the whole trainig set using `mean_squared_error()`"
   ]
  },
  {
   "cell_type": "code",
   "execution_count": 134,
   "id": "regulation-electronics",
   "metadata": {},
   "outputs": [],
   "source": [
    "# Make predicitons on the whole dataset\n",
    "housing_predictions = lin_reg.predict(housing_prepared)"
   ]
  },
  {
   "cell_type": "code",
   "execution_count": 136,
   "id": "adult-thomson",
   "metadata": {},
   "outputs": [
    {
     "data": {
      "text/plain": [
       "68628.19819848923"
      ]
     },
     "execution_count": 136,
     "metadata": {},
     "output_type": "execute_result"
    }
   ],
   "source": [
    "# Evaluate RMSE\n",
    "from sklearn.metrics import mean_squared_error\n",
    "\n",
    "lin_mse = mean_squared_error(housing_labels, housing_predictions)\n",
    "lin_rmse = np.sqrt(lin_mse)\n",
    "lin_rmse"
   ]
  },
  {
   "cell_type": "markdown",
   "id": "recognized-header",
   "metadata": {},
   "source": [
    "Big error, the model is *underfitting* the training data: \n",
    "* Features do not provide enough information to make good predictions\n",
    "* Model is not powerful enough\n",
    "\n",
    "How to fix underfitting: \n",
    "* Select a more powerful model\n",
    "* Feed the training algorithm with better features\n",
    "* Reduce the constraints on the model\n",
    "\n",
    "Example: ***DecisionTreeRegressor***\n",
    "\n",
    "More complex model"
   ]
  },
  {
   "cell_type": "code",
   "execution_count": 140,
   "id": "mathematical-florence",
   "metadata": {},
   "outputs": [
    {
     "data": {
      "text/plain": [
       "DecisionTreeRegressor()"
      ]
     },
     "execution_count": 140,
     "metadata": {},
     "output_type": "execute_result"
    }
   ],
   "source": [
    "# Instantiate and fit DecisionTreeRegressor\n",
    "\n",
    "from sklearn.tree import DecisionTreeRegressor\n",
    "\n",
    "tree_reg = DecisionTreeRegressor()\n",
    "tree_reg.fit(housing_prepared, housing_labels)"
   ]
  },
  {
   "cell_type": "code",
   "execution_count": 145,
   "id": "tutorial-elite",
   "metadata": {},
   "outputs": [],
   "source": [
    "# Make predictions\n",
    "housing_predictions = tree_reg.predict(housing_prepared)"
   ]
  },
  {
   "cell_type": "code",
   "execution_count": 146,
   "id": "voluntary-answer",
   "metadata": {},
   "outputs": [
    {
     "data": {
      "text/plain": [
       "0.0"
      ]
     },
     "execution_count": 146,
     "metadata": {},
     "output_type": "execute_result"
    }
   ],
   "source": [
    "# Evaluate on the training set\n",
    "tree_mse = mean_squared_error(housing_labels, housing_predictions)\n",
    "tree_rmse = np.sqrt(tree_mse)\n",
    "tree_rmse"
   ]
  },
  {
   "cell_type": "markdown",
   "id": "objective-guinea",
   "metadata": {},
   "source": [
    "Model is *overfitting* the training data. \n",
    "\n",
    "**Cross Validation**\n",
    "\n",
    "* Split the data into *validation set* \n",
    "* *K-fold cross validation* \n",
    "    * Rndomly splits the training set into k distinct subsets called folds\n",
    "    * Trains and evaluates the Decision Tree model k times, picking a different fold for evaluation every time and training on the other k-1 folds\n",
    "    * Result: array containing the k evaluation scores\n",
    "    \n",
    "Scikit-Learn’s cross-validation features expect a *utility function* (greater is better) rather than a cost function (lower is better), so the scoring function is actually the opposite of the MSE (i.e., a negative value), which is why the preceding code computes `-scores` before calculating the square root."
   ]
  },
  {
   "cell_type": "code",
   "execution_count": 151,
   "id": "statewide-wonder",
   "metadata": {},
   "outputs": [],
   "source": [
    "# Define function to display scores\n",
    "def display_scores(scores): \n",
    "    print('Scores: ', scores)\n",
    "    print('Mean: ', scores.mean())\n",
    "    print('Standard Deviation: ', scores.std())"
   ]
  },
  {
   "cell_type": "code",
   "execution_count": 152,
   "id": "respiratory-device",
   "metadata": {},
   "outputs": [],
   "source": [
    "# Instantiate the cross validation \n",
    "from sklearn.model_selection import cross_val_score\n",
    "\n",
    "scores = cross_val_score(tree_reg, housing_prepared, housing_labels, \n",
    "                        scoring='neg_mean_squared_error', cv=10)"
   ]
  },
  {
   "cell_type": "code",
   "execution_count": 153,
   "id": "geographic-carry",
   "metadata": {},
   "outputs": [
    {
     "name": "stdout",
     "output_type": "stream",
     "text": [
      "Scores:  [69125.28275105 66726.50718554 72001.05035855 69675.2307047\n",
      " 71379.02157199 74781.73028416 70286.14584279 71302.59360411\n",
      " 76561.35948774 68446.9085721 ]\n",
      "Mean:  71028.58303627289\n",
      "Standard Deviation:  2775.2394191765275\n"
     ]
    }
   ],
   "source": [
    "# Get and display RMSE scores \n",
    "tree_rmse_scores = np.sqrt(-scores)\n",
    "display_scores(tree_rmse_scores)"
   ]
  },
  {
   "cell_type": "markdown",
   "id": "naval-swift",
   "metadata": {},
   "source": [
    "Calculate the score for the *LinearRegression* model"
   ]
  },
  {
   "cell_type": "code",
   "execution_count": 159,
   "id": "metallic-preparation",
   "metadata": {},
   "outputs": [],
   "source": [
    "# Cross validation using LinearRegression\n",
    "lin_scores = cross_val_score(lin_reg, housing_prepared, housing_labels, \n",
    "                             scoring=\"neg_mean_squared_error\", cv=10) "
   ]
  },
  {
   "cell_type": "code",
   "execution_count": 162,
   "id": "heavy-circle",
   "metadata": {},
   "outputs": [
    {
     "name": "stdout",
     "output_type": "stream",
     "text": [
      "Scores:  [66782.73843989 66960.118071   70347.95244419 74739.57052552\n",
      " 68031.13388938 71193.84183426 64969.63056405 68281.61137997\n",
      " 71552.91566558 67665.10082067]\n",
      "Mean:  69052.46136345083\n",
      "Standard Deviation:  2731.674001798348\n"
     ]
    }
   ],
   "source": [
    "# Get and display RMSE\n",
    "lin_rmse_scores = np.sqrt(-lin_scores)\n",
    "display_scores(lin_rmse_scores)"
   ]
  },
  {
   "cell_type": "markdown",
   "id": "advance-murder",
   "metadata": {},
   "source": [
    "Example: ***RandomForestRegressor***\n",
    "\n",
    "Training many Decision Trees on random subsets of the features, then averaging out their predictions. \n",
    "\n",
    "Building a model on top of many other models is called *Ensemble Learning*, and it is often a great way to push ML algorithms even further."
   ]
  },
  {
   "cell_type": "code",
   "execution_count": 164,
   "id": "rotary-apollo",
   "metadata": {},
   "outputs": [
    {
     "data": {
      "text/plain": [
       "RandomForestRegressor()"
      ]
     },
     "execution_count": 164,
     "metadata": {},
     "output_type": "execute_result"
    }
   ],
   "source": [
    "# Instantiate and fit the model\n",
    "from sklearn.ensemble import RandomForestRegressor\n",
    "\n",
    "forest_reg = RandomForestRegressor()\n",
    "forest_reg.fit(housing_prepared, housing_labels)"
   ]
  },
  {
   "cell_type": "code",
   "execution_count": 167,
   "id": "honey-finance",
   "metadata": {},
   "outputs": [],
   "source": [
    "# Make predictions\n",
    "forest_predictions = forest_reg.predict(housing_prepared)"
   ]
  },
  {
   "cell_type": "code",
   "execution_count": 168,
   "id": "descending-eleven",
   "metadata": {},
   "outputs": [
    {
     "data": {
      "text/plain": [
       "18757.576682911946"
      ]
     },
     "execution_count": 168,
     "metadata": {},
     "output_type": "execute_result"
    }
   ],
   "source": [
    "# Evaluate on the training set\n",
    "forest_mse = mean_squared_error(housing_labels, forest_predictions)\n",
    "forest_rmse = np.sqrt(forest_mse)\n",
    "forest_rmse"
   ]
  },
  {
   "cell_type": "code",
   "execution_count": 165,
   "id": "renewable-semester",
   "metadata": {},
   "outputs": [],
   "source": [
    "# Cross validation RandomForestRegressor\n",
    "forest_scores = cross_val_score(forest_reg, housing_prepared, housing_labels, \n",
    "                             scoring=\"neg_mean_squared_error\", cv=10) "
   ]
  },
  {
   "cell_type": "code",
   "execution_count": 166,
   "id": "emotional-summer",
   "metadata": {},
   "outputs": [
    {
     "name": "stdout",
     "output_type": "stream",
     "text": [
      "Scores:  [49520.67803011 47843.18373783 49562.78407695 52252.50009077\n",
      " 49713.67844627 53193.70652555 49187.89069729 47668.61425204\n",
      " 53109.29066813 50778.53581178]\n",
      "Mean:  50283.086233672395\n",
      "Standard Deviation:  1897.249880823868\n"
     ]
    }
   ],
   "source": [
    "# Get and display RMSE\n",
    "forest_rmse_scores = np.sqrt(-forest_scores)\n",
    "display_scores(forest_rmse_scores)"
   ]
  },
  {
   "cell_type": "markdown",
   "id": "flying-basis",
   "metadata": {},
   "source": [
    "Score on the training set is much lower than on the validation sets, meaning that the model is *overfitting* the training set: \n",
    "* Simplify the model\n",
    "* Constrain the model (i.e., regularize it)\n",
    "* Get a lot more training data. \n",
    "\n",
    "Before diving deeper into a specific model, try out many other models from various categories of Machine Learning algorithms (e.g., several Support Vector Machines with different kernels, and possibly a neural network), without spending too much time tweaking the hyperparameters. The goal is to shortlist a few (two to five) promising models.\n",
    "\n",
    "Save every model you experiment with so that you can come back easily to any model you want:\n",
    "* Hyperparameters \n",
    "* Trained parameters\n",
    "* Cross-validation scores \n",
    "* Predictions as well\n",
    "\n",
    "This will allow you to easily compare scores across model types, and compare the types of errors they make. \n",
    "\n",
    "Use Python’s `pickle` module `joblib` library, which is more efficient at serializing large NumPy arrays (install using `pip`)."
   ]
  },
  {
   "cell_type": "code",
   "execution_count": null,
   "id": "oriented-visitor",
   "metadata": {},
   "outputs": [],
   "source": [
    "# Code to save the model \n",
    "\n",
    "my_model = full_pipeline_with_predictor\n",
    "\n",
    "import joblib\n",
    "joblib.dump(my_model, \"my_model.pkl\") \n",
    "\n",
    "# Load model \n",
    "my_model_loaded = joblib.load(\"my_model.pkl\") "
   ]
  },
  {
   "cell_type": "markdown",
   "id": "naughty-northeast",
   "metadata": {},
   "source": [
    "### Fine-tune a model\n",
    "\n",
    "**Grid Search**\n",
    "\n",
    "Use `GridSearchCV()` to test all the different combinations of specified hyperparameters and values. \n",
    "\n",
    "When you have no idea what value a hyperparameter should have, a simple approach is to try out consecutive powers of 10 (or a smaller number if you want a more fine-grained search. "
   ]
  },
  {
   "cell_type": "code",
   "execution_count": 170,
   "id": "educational-tragedy",
   "metadata": {},
   "outputs": [
    {
     "data": {
      "text/plain": [
       "GridSearchCV(cv=5, estimator=RandomForestRegressor(random_state=42),\n",
       "             param_grid=[{'max_features': [2, 4, 6, 8],\n",
       "                          'n_estimators': [3, 10, 30]},\n",
       "                         {'bootstrap': [False], 'max_features': [2, 3, 4],\n",
       "                          'n_estimators': [3, 10]}],\n",
       "             return_train_score=True, scoring='neg_mean_squared_error')"
      ]
     },
     "execution_count": 170,
     "metadata": {},
     "output_type": "execute_result"
    }
   ],
   "source": [
    "# Define parameters, construct Grid and train\n",
    "\n",
    "from sklearn.model_selection import GridSearchCV\n",
    "\n",
    "param_grid = [\n",
    "    # try 12 (3×4) combinations of hyperparameters\n",
    "    {'n_estimators': [3, 10, 30], 'max_features': [2, 4, 6, 8]},\n",
    "    # then try 6 (2×3) combinations with bootstrap set as False\n",
    "    {'bootstrap': [False], 'n_estimators': [3, 10], 'max_features': [2, 3, 4]}\n",
    "]\n",
    "\n",
    "# Instantiate estimator\n",
    "forest_reg = RandomForestRegressor(random_state=42)\n",
    "\n",
    "# Construct Grid\n",
    "grid_search = GridSearchCV(forest_reg, param_grid, cv=5, \n",
    "                          scoring='neg_mean_squared_error', \n",
    "                          return_train_score=True)\n",
    "\n",
    "# Fit the model\n",
    "grid_search.fit(housing_prepared, housing_labels)"
   ]
  },
  {
   "cell_type": "markdown",
   "id": "related-marriage",
   "metadata": {},
   "source": [
    "Use `.best_params_` to identify the best combinations of parameters and `.best_estimator_` to directly get the best estimator"
   ]
  },
  {
   "cell_type": "code",
   "execution_count": 171,
   "id": "soviet-mainstream",
   "metadata": {},
   "outputs": [
    {
     "data": {
      "text/plain": [
       "{'max_features': 8, 'n_estimators': 30}"
      ]
     },
     "execution_count": 171,
     "metadata": {},
     "output_type": "execute_result"
    }
   ],
   "source": [
    "# Get best parameters\n",
    "grid_search.best_params_"
   ]
  },
  {
   "cell_type": "code",
   "execution_count": 172,
   "id": "bacterial-monster",
   "metadata": {},
   "outputs": [
    {
     "data": {
      "text/plain": [
       "RandomForestRegressor(max_features=8, n_estimators=30, random_state=42)"
      ]
     },
     "execution_count": 172,
     "metadata": {},
     "output_type": "execute_result"
    }
   ],
   "source": [
    "# Get best estimator\n",
    "grid_search.best_estimator_"
   ]
  },
  {
   "cell_type": "markdown",
   "id": "protected-baseball",
   "metadata": {},
   "source": [
    "If `GridSearchCV` is initialized with `refit=True` (which is the default), then once it finds the best estimator using cross-validation, it retrains it on the whole training set. \n",
    "\n",
    "*Evaluation*\n",
    "\n",
    "All the information of the grid search are stored and can be visualised using `.results_` and can be used to visualise the score for every evaluation performed."
   ]
  },
  {
   "cell_type": "code",
   "execution_count": 174,
   "id": "exceptional-recruitment",
   "metadata": {},
   "outputs": [
    {
     "name": "stdout",
     "output_type": "stream",
     "text": [
      "63669.11631261028 {'max_features': 2, 'n_estimators': 3}\n",
      "55627.099719926795 {'max_features': 2, 'n_estimators': 10}\n",
      "53384.57275149205 {'max_features': 2, 'n_estimators': 30}\n",
      "60965.950449450494 {'max_features': 4, 'n_estimators': 3}\n",
      "52741.04704299915 {'max_features': 4, 'n_estimators': 10}\n",
      "50377.40461678399 {'max_features': 4, 'n_estimators': 30}\n",
      "58663.93866579625 {'max_features': 6, 'n_estimators': 3}\n",
      "52006.19873526564 {'max_features': 6, 'n_estimators': 10}\n",
      "50146.51167415009 {'max_features': 6, 'n_estimators': 30}\n",
      "57869.25276169646 {'max_features': 8, 'n_estimators': 3}\n",
      "51711.127883959234 {'max_features': 8, 'n_estimators': 10}\n",
      "49682.273345071546 {'max_features': 8, 'n_estimators': 30}\n",
      "62895.06951262424 {'bootstrap': False, 'max_features': 2, 'n_estimators': 3}\n",
      "54658.176157539405 {'bootstrap': False, 'max_features': 2, 'n_estimators': 10}\n",
      "59470.40652318466 {'bootstrap': False, 'max_features': 3, 'n_estimators': 3}\n",
      "52724.9822587892 {'bootstrap': False, 'max_features': 3, 'n_estimators': 10}\n",
      "57490.5691951261 {'bootstrap': False, 'max_features': 4, 'n_estimators': 3}\n",
      "51009.495668875716 {'bootstrap': False, 'max_features': 4, 'n_estimators': 10}\n"
     ]
    }
   ],
   "source": [
    "# Save results\n",
    "cvres = grid_search.cv_results_\n",
    "\n",
    "# Print scores\n",
    "for mean_score, params in zip(cvres['mean_test_score'], cvres['params']):\n",
    "    print(np.sqrt(-mean_score), params)"
   ]
  },
  {
   "cell_type": "markdown",
   "id": "generic-immunology",
   "metadata": {},
   "source": [
    "Data preparation steps can be treated as hyperparameters. For example, the grid search will automatically find out whether or not to add a feature you were not sure about (e.g., using the add_bedrooms_per_room hyperparameter of your CombinedAttributesAdder transformer). It may similarly be used to automatically find the best way to handle outliers, missing features, feature selection, and more.\n",
    "\n",
    "**Randomised Search**\n",
    "\n",
    "When the hyperparameter space is large, use `RandomisedSearchCV()`: evaluates a given number of random combinations by selecting a random value for each hyperparameter at every iteration. \n",
    "\n",
    "* If the randomized search is run for X iteratinos, it will explore X different values for each hyperparameter \n",
    "* By setting the number of iterations, you can control the computing budget allocated to hyperparameter search\n",
    "\n",
    "**Ensemble methods**\n",
    "\n",
    "Combine the models that perform best. The group (or “ensemble”) will often perform better than the best individual model. \n",
    "\n",
    "**Analyse the best models and their errors**\n",
    "\n",
    "Use `.best_estimator_.feature_importances_` to get the relative importance of each attribute for making accurate predictions. \n"
   ]
  },
  {
   "cell_type": "code",
   "execution_count": 176,
   "id": "afraid-female",
   "metadata": {},
   "outputs": [
    {
     "data": {
      "text/plain": [
       "array([7.33442355e-02, 6.29090705e-02, 4.11437985e-02, 1.46726854e-02,\n",
       "       1.41064835e-02, 1.48742809e-02, 1.42575993e-02, 3.66158981e-01,\n",
       "       5.64191792e-02, 1.08792957e-01, 5.33510773e-02, 1.03114883e-02,\n",
       "       1.64780994e-01, 6.02803867e-05, 1.96041560e-03, 2.85647464e-03])"
      ]
     },
     "execution_count": 176,
     "metadata": {},
     "output_type": "execute_result"
    }
   ],
   "source": [
    "# Get feature importances\n",
    "feature_importances = grid_search.best_estimator_.feature_importances_\n",
    "feature_importances"
   ]
  },
  {
   "cell_type": "markdown",
   "id": "ruled-cannon",
   "metadata": {},
   "source": [
    "Add names to features importances."
   ]
  },
  {
   "cell_type": "code",
   "execution_count": null,
   "id": "third-brighton",
   "metadata": {},
   "outputs": [],
   "source": [
    "# Get names for new attributes calculated \n",
    "extra_attribs = [\"rooms_per_hhold\", \"pop_per_hhold\", \"bedrooms_per_room\"]"
   ]
  },
  {
   "cell_type": "code",
   "execution_count": 182,
   "id": "acknowledged-singapore",
   "metadata": {},
   "outputs": [
    {
     "data": {
      "text/plain": [
       "OneHotEncoder()"
      ]
     },
     "execution_count": 182,
     "metadata": {},
     "output_type": "execute_result"
    }
   ],
   "source": [
    "# Access the transformer by name (select the 'cat' transformer)\n",
    "cat_encoder = full_pipeline.named_transformers_['cat']\n",
    "cat_encoder"
   ]
  },
  {
   "cell_type": "code",
   "execution_count": 183,
   "id": "indoor-swing",
   "metadata": {},
   "outputs": [
    {
     "data": {
      "text/plain": [
       "['<1H OCEAN', 'INLAND', 'ISLAND', 'NEAR BAY', 'NEAR OCEAN']"
      ]
     },
     "execution_count": 183,
     "metadata": {},
     "output_type": "execute_result"
    }
   ],
   "source": [
    "# Get categories for categorical variable\n",
    "cat_one_hot_attribs = list(cat_encoder.categories_[0])\n",
    "cat_one_hot_attribs"
   ]
  },
  {
   "cell_type": "code",
   "execution_count": 184,
   "id": "electronic-challenge",
   "metadata": {},
   "outputs": [
    {
     "data": {
      "text/plain": [
       "['longitude',\n",
       " 'latitude',\n",
       " 'housing_median_age',\n",
       " 'total_rooms',\n",
       " 'total_bedrooms',\n",
       " 'population',\n",
       " 'households',\n",
       " 'median_income',\n",
       " 'rooms_per_hhold',\n",
       " 'pop_per_hhold',\n",
       " 'bedrooms_per_room',\n",
       " '<1H OCEAN',\n",
       " 'INLAND',\n",
       " 'ISLAND',\n",
       " 'NEAR BAY',\n",
       " 'NEAR OCEAN']"
      ]
     },
     "execution_count": 184,
     "metadata": {},
     "output_type": "execute_result"
    }
   ],
   "source": [
    "# Combine all attributes together\n",
    "attributes = num_attribs + extra_attribs + cat_one_hot_attribs\n",
    "attributes"
   ]
  },
  {
   "cell_type": "code",
   "execution_count": 185,
   "id": "beginning-salad",
   "metadata": {},
   "outputs": [
    {
     "data": {
      "text/plain": [
       "[(0.36615898061813423, 'median_income'),\n",
       " (0.16478099356159054, 'INLAND'),\n",
       " (0.10879295677551575, 'pop_per_hhold'),\n",
       " (0.07334423551601243, 'longitude'),\n",
       " (0.06290907048262032, 'latitude'),\n",
       " (0.056419179181954014, 'rooms_per_hhold'),\n",
       " (0.053351077347675815, 'bedrooms_per_room'),\n",
       " (0.04114379847872964, 'housing_median_age'),\n",
       " (0.014874280890402769, 'population'),\n",
       " (0.014672685420543239, 'total_rooms'),\n",
       " (0.014257599323407808, 'households'),\n",
       " (0.014106483453584104, 'total_bedrooms'),\n",
       " (0.010311488326303788, '<1H OCEAN'),\n",
       " (0.0028564746373201584, 'NEAR OCEAN'),\n",
       " (0.0019604155994780706, 'NEAR BAY'),\n",
       " (6.0280386727366e-05, 'ISLAND')]"
      ]
     },
     "execution_count": 185,
     "metadata": {},
     "output_type": "execute_result"
    }
   ],
   "source": [
    "# Combine feature importances with names\n",
    "sorted(zip(feature_importances, attributes), reverse=True)"
   ]
  },
  {
   "cell_type": "markdown",
   "id": "coral-hypothesis",
   "metadata": {},
   "source": [
    "**Evaluate the system on the test set**\n",
    "\n",
    "Evaluate the final model on the test set:\n",
    "* Get the predictors and the labels from the test set\n",
    "* Run the full_pipeline to transform the data (call `transform()`, not `fit_transform()`)"
   ]
  },
  {
   "cell_type": "code",
   "execution_count": 187,
   "id": "suspended-assembly",
   "metadata": {},
   "outputs": [],
   "source": [
    "# Separate features and labels from test set\n",
    "X_test = strat_test_set.drop(\"median_house_value\", axis=1)\n",
    "y_test = strat_test_set[\"median_house_value\"].copy()"
   ]
  },
  {
   "cell_type": "code",
   "execution_count": 188,
   "id": "acoustic-trail",
   "metadata": {},
   "outputs": [],
   "source": [
    "# Transform the data using the pipeline (num, cat, new categories)\n",
    "X_test_prepared = full_pipeline.transform(X_test)"
   ]
  },
  {
   "cell_type": "code",
   "execution_count": 186,
   "id": "mighty-middle",
   "metadata": {},
   "outputs": [
    {
     "data": {
      "text/plain": [
       "RandomForestRegressor(max_features=8, n_estimators=30, random_state=42)"
      ]
     },
     "execution_count": 186,
     "metadata": {},
     "output_type": "execute_result"
    }
   ],
   "source": [
    "# Save model with best parameters\n",
    "final_model = grid_search.best_estimator_\n",
    "final_model"
   ]
  },
  {
   "cell_type": "code",
   "execution_count": 189,
   "id": "forward-timer",
   "metadata": {},
   "outputs": [],
   "source": [
    "# Make predictions\n",
    "final_predictions = final_model.predict(X_test_prepared)"
   ]
  },
  {
   "cell_type": "code",
   "execution_count": 190,
   "id": "exotic-founder",
   "metadata": {},
   "outputs": [
    {
     "data": {
      "text/plain": [
       "47730.22690385927"
      ]
     },
     "execution_count": 190,
     "metadata": {},
     "output_type": "execute_result"
    }
   ],
   "source": [
    "# Evaluate model\n",
    "final_mse = mean_squared_error(y_test, final_predictions)\n",
    "final_rmse = np.sqrt(final_mse)\n",
    "final_rmse"
   ]
  },
  {
   "cell_type": "markdown",
   "id": "daily-craft",
   "metadata": {},
   "source": [
    "To have an idea of the estimate precision, compute a *95% confidence interval for the generalization error* using `scipy.stats.t.interval()`"
   ]
  },
  {
   "cell_type": "code",
   "execution_count": 192,
   "id": "severe-caution",
   "metadata": {},
   "outputs": [
    {
     "data": {
      "text/plain": [
       "array([45685.10470776, 49691.25001878])"
      ]
     },
     "execution_count": 192,
     "metadata": {},
     "output_type": "execute_result"
    }
   ],
   "source": [
    "# Calculate confidence interval \n",
    "\n",
    "from scipy import stats\n",
    "\n",
    "confidence = 0.95\n",
    "squared_errors = (final_predictions - y_test) ** 2\n",
    "np.sqrt(stats.t.interval(confidence, len(squared_errors) - 1,\n",
    "                         loc=squared_errors.mean(),\n",
    "                         scale=stats.sem(squared_errors)))"
   ]
  },
  {
   "cell_type": "markdown",
   "id": "cooked-science",
   "metadata": {},
   "source": [
    "Do not tweak the hyperparameters according to the results on the test set, as the improvement won't help generalising on new data. \n",
    "\n",
    "### Launch, monitor and maintain the system\n",
    "\n",
    "1. Save the trained Scikit-Learn model (e.g., using joblib) with the full preprocessing and prediction pipeline\n",
    "2. Load the trained model within the production environment \n",
    "3. Use the tranied model to make predictions with the `predict()` method\n",
    "\n",
    "Methods\n",
    "* Website\n",
    "* Web service accessed by the application by REST API \n",
    "* Cloud\n",
    "\n",
    "4. Write monitoring code to check the system’s live performance at regular intervals and trigger alerts when it drops: \n",
    "    * Inferred from downstream metrics\n",
    "    * Human analysis \n",
    "5. Define what to do in case of failures\n",
    "6. Automate as much as possible \n",
    "    * Collect fresh data regularly and label it (e.g., using human raters).\n",
    "    * Script to train the model and fine-tune the hyperparameters\n",
    "    * Script to evaluate the new and the previous model on the updated test set, and deploy the model to production if the performance has not decreased\n",
    "7. Evaluate the model's input data quality\n",
    "8. Keep backups of every model created and have the process and tools in place to roll back to a previous model quickly, in case the new model starts failing badly for some reason\n",
    "9. Keep backups of every version of your datasets so that you can roll back to a previous dataset if the new one ever gets corrupted (e.g., if the fresh data that gets added to it turns out to be full of outliers)\n",
    "10. Create several subsets of the test set in order to evaluate how well your model performs on specific parts of the data\n",
    "\n",
    "## Exercises\n",
    "\n",
    "**Question 1**: Try a Support Vector Machine regressor (sklearn.svm.SVR), with various hyperparameters such as kernel=\"linear\" (with various values for the C hyperparameter) or kernel=\"rbf\" (with various values for the C and gamma hyperparameters). Don't worry about what these hyperparameters mean for now. How does the best SVR predictor perform?"
   ]
  },
  {
   "cell_type": "code",
   "execution_count": 195,
   "id": "prerequisite-amazon",
   "metadata": {},
   "outputs": [
    {
     "name": "stdout",
     "output_type": "stream",
     "text": [
      "Fitting 5 folds for each of 50 candidates, totalling 250 fits\n",
      "[CV] END ..............................C=10.0, kernel=linear; total time=  19.9s\n",
      "[CV] END ..............................C=10.0, kernel=linear; total time=  15.4s\n",
      "[CV] END ..............................C=10.0, kernel=linear; total time=  13.1s\n",
      "[CV] END ..............................C=10.0, kernel=linear; total time=  13.3s\n",
      "[CV] END ..............................C=10.0, kernel=linear; total time=  17.9s\n",
      "[CV] END ..............................C=30.0, kernel=linear; total time=  17.1s\n",
      "[CV] END ..............................C=30.0, kernel=linear; total time=  15.8s\n",
      "[CV] END ..............................C=30.0, kernel=linear; total time=  15.4s\n",
      "[CV] END ..............................C=30.0, kernel=linear; total time=  18.9s\n",
      "[CV] END ..............................C=30.0, kernel=linear; total time=  13.2s\n",
      "[CV] END .............................C=100.0, kernel=linear; total time=  11.8s\n",
      "[CV] END .............................C=100.0, kernel=linear; total time=  11.9s\n",
      "[CV] END .............................C=100.0, kernel=linear; total time=  12.3s\n",
      "[CV] END .............................C=100.0, kernel=linear; total time=  11.9s\n",
      "[CV] END .............................C=100.0, kernel=linear; total time=  12.3s\n",
      "[CV] END .............................C=300.0, kernel=linear; total time=  12.7s\n",
      "[CV] END .............................C=300.0, kernel=linear; total time=  12.0s\n",
      "[CV] END .............................C=300.0, kernel=linear; total time=  12.4s\n",
      "[CV] END .............................C=300.0, kernel=linear; total time=  12.2s\n",
      "[CV] END .............................C=300.0, kernel=linear; total time=  12.0s\n",
      "[CV] END ............................C=1000.0, kernel=linear; total time=  12.4s\n",
      "[CV] END ............................C=1000.0, kernel=linear; total time=  12.6s\n",
      "[CV] END ............................C=1000.0, kernel=linear; total time=  12.5s\n",
      "[CV] END ............................C=1000.0, kernel=linear; total time=  12.4s\n",
      "[CV] END ............................C=1000.0, kernel=linear; total time=  14.5s\n",
      "[CV] END ............................C=3000.0, kernel=linear; total time=  13.9s\n",
      "[CV] END ............................C=3000.0, kernel=linear; total time=  14.1s\n",
      "[CV] END ............................C=3000.0, kernel=linear; total time=  13.3s\n",
      "[CV] END ............................C=3000.0, kernel=linear; total time=  14.0s\n",
      "[CV] END ............................C=3000.0, kernel=linear; total time=  14.7s\n",
      "[CV] END ...........................C=10000.0, kernel=linear; total time=  17.4s\n",
      "[CV] END ...........................C=10000.0, kernel=linear; total time=  16.8s\n",
      "[CV] END ...........................C=10000.0, kernel=linear; total time=  16.9s\n",
      "[CV] END ...........................C=10000.0, kernel=linear; total time=  15.4s\n",
      "[CV] END ...........................C=10000.0, kernel=linear; total time=  14.9s\n",
      "[CV] END ...........................C=30000.0, kernel=linear; total time=  29.0s\n",
      "[CV] END ...........................C=30000.0, kernel=linear; total time=  24.0s\n",
      "[CV] END ...........................C=30000.0, kernel=linear; total time=  24.5s\n",
      "[CV] END ...........................C=30000.0, kernel=linear; total time=  35.2s\n",
      "[CV] END ...........................C=30000.0, kernel=linear; total time=  20.6s\n",
      "[CV] END ......................C=1.0, gamma=0.01, kernel=rbf; total time=  25.1s\n",
      "[CV] END ......................C=1.0, gamma=0.01, kernel=rbf; total time=  28.6s\n",
      "[CV] END ......................C=1.0, gamma=0.01, kernel=rbf; total time=  24.0s\n",
      "[CV] END ......................C=1.0, gamma=0.01, kernel=rbf; total time=  24.4s\n",
      "[CV] END ......................C=1.0, gamma=0.01, kernel=rbf; total time=  24.0s\n",
      "[CV] END ......................C=1.0, gamma=0.03, kernel=rbf; total time=  23.4s\n",
      "[CV] END ......................C=1.0, gamma=0.03, kernel=rbf; total time=  24.3s\n",
      "[CV] END ......................C=1.0, gamma=0.03, kernel=rbf; total time=  24.6s\n",
      "[CV] END ......................C=1.0, gamma=0.03, kernel=rbf; total time=  24.0s\n",
      "[CV] END ......................C=1.0, gamma=0.03, kernel=rbf; total time=  23.6s\n",
      "[CV] END .......................C=1.0, gamma=0.1, kernel=rbf; total time=  23.7s\n",
      "[CV] END .......................C=1.0, gamma=0.1, kernel=rbf; total time=  23.5s\n",
      "[CV] END .......................C=1.0, gamma=0.1, kernel=rbf; total time=  24.2s\n",
      "[CV] END .......................C=1.0, gamma=0.1, kernel=rbf; total time=  27.7s\n",
      "[CV] END .......................C=1.0, gamma=0.1, kernel=rbf; total time=  29.4s\n",
      "[CV] END .......................C=1.0, gamma=0.3, kernel=rbf; total time=  27.1s\n",
      "[CV] END .......................C=1.0, gamma=0.3, kernel=rbf; total time=  33.8s\n",
      "[CV] END .......................C=1.0, gamma=0.3, kernel=rbf; total time=  25.2s\n",
      "[CV] END .......................C=1.0, gamma=0.3, kernel=rbf; total time=  23.3s\n",
      "[CV] END .......................C=1.0, gamma=0.3, kernel=rbf; total time=  23.1s\n",
      "[CV] END .......................C=1.0, gamma=1.0, kernel=rbf; total time=  30.2s\n",
      "[CV] END .......................C=1.0, gamma=1.0, kernel=rbf; total time=  31.3s\n",
      "[CV] END .......................C=1.0, gamma=1.0, kernel=rbf; total time=  31.6s\n",
      "[CV] END .......................C=1.0, gamma=1.0, kernel=rbf; total time=  26.8s\n",
      "[CV] END .......................C=1.0, gamma=1.0, kernel=rbf; total time=  23.3s\n",
      "[CV] END .......................C=1.0, gamma=3.0, kernel=rbf; total time=  25.5s\n",
      "[CV] END .......................C=1.0, gamma=3.0, kernel=rbf; total time=  25.1s\n",
      "[CV] END .......................C=1.0, gamma=3.0, kernel=rbf; total time=  25.2s\n",
      "[CV] END .......................C=1.0, gamma=3.0, kernel=rbf; total time=  32.6s\n",
      "[CV] END .......................C=1.0, gamma=3.0, kernel=rbf; total time=  29.0s\n",
      "[CV] END ......................C=3.0, gamma=0.01, kernel=rbf; total time=  27.8s\n",
      "[CV] END ......................C=3.0, gamma=0.01, kernel=rbf; total time=  24.8s\n",
      "[CV] END ......................C=3.0, gamma=0.01, kernel=rbf; total time=  24.1s\n",
      "[CV] END ......................C=3.0, gamma=0.01, kernel=rbf; total time=  27.3s\n",
      "[CV] END ......................C=3.0, gamma=0.01, kernel=rbf; total time=  33.8s\n",
      "[CV] END ......................C=3.0, gamma=0.03, kernel=rbf; total time=  26.8s\n",
      "[CV] END ......................C=3.0, gamma=0.03, kernel=rbf; total time=  24.1s\n",
      "[CV] END ......................C=3.0, gamma=0.03, kernel=rbf; total time=  33.9s\n",
      "[CV] END ......................C=3.0, gamma=0.03, kernel=rbf; total time=  28.7s\n",
      "[CV] END ......................C=3.0, gamma=0.03, kernel=rbf; total time=  31.6s\n",
      "[CV] END .......................C=3.0, gamma=0.1, kernel=rbf; total time=  30.1s\n",
      "[CV] END .......................C=3.0, gamma=0.1, kernel=rbf; total time=  29.2s\n",
      "[CV] END .......................C=3.0, gamma=0.1, kernel=rbf; total time=  30.6s\n",
      "[CV] END .......................C=3.0, gamma=0.1, kernel=rbf; total time=  24.7s\n",
      "[CV] END .......................C=3.0, gamma=0.1, kernel=rbf; total time=  23.7s\n",
      "[CV] END .......................C=3.0, gamma=0.3, kernel=rbf; total time=  23.5s\n",
      "[CV] END .......................C=3.0, gamma=0.3, kernel=rbf; total time=  23.0s\n",
      "[CV] END .......................C=3.0, gamma=0.3, kernel=rbf; total time=  24.2s\n",
      "[CV] END .......................C=3.0, gamma=0.3, kernel=rbf; total time=  23.6s\n",
      "[CV] END .......................C=3.0, gamma=0.3, kernel=rbf; total time=  23.2s\n",
      "[CV] END .......................C=3.0, gamma=1.0, kernel=rbf; total time=  23.2s\n",
      "[CV] END .......................C=3.0, gamma=1.0, kernel=rbf; total time=  22.7s\n",
      "[CV] END .......................C=3.0, gamma=1.0, kernel=rbf; total time=  23.1s\n",
      "[CV] END .......................C=3.0, gamma=1.0, kernel=rbf; total time=  23.0s\n",
      "[CV] END .......................C=3.0, gamma=1.0, kernel=rbf; total time=  22.7s\n",
      "[CV] END .......................C=3.0, gamma=3.0, kernel=rbf; total time=  25.3s\n",
      "[CV] END .......................C=3.0, gamma=3.0, kernel=rbf; total time=  25.3s\n",
      "[CV] END .......................C=3.0, gamma=3.0, kernel=rbf; total time=  25.4s\n",
      "[CV] END .......................C=3.0, gamma=3.0, kernel=rbf; total time=  25.4s\n",
      "[CV] END .......................C=3.0, gamma=3.0, kernel=rbf; total time=  25.6s\n",
      "[CV] END .....................C=10.0, gamma=0.01, kernel=rbf; total time=  24.0s\n"
     ]
    },
    {
     "name": "stdout",
     "output_type": "stream",
     "text": [
      "[CV] END .....................C=10.0, gamma=0.01, kernel=rbf; total time=  24.2s\n",
      "[CV] END .....................C=10.0, gamma=0.01, kernel=rbf; total time=  24.0s\n",
      "[CV] END .....................C=10.0, gamma=0.01, kernel=rbf; total time=  23.9s\n",
      "[CV] END .....................C=10.0, gamma=0.01, kernel=rbf; total time=  24.0s\n",
      "[CV] END .....................C=10.0, gamma=0.03, kernel=rbf; total time=  23.4s\n",
      "[CV] END .....................C=10.0, gamma=0.03, kernel=rbf; total time=  24.0s\n",
      "[CV] END .....................C=10.0, gamma=0.03, kernel=rbf; total time=  24.5s\n",
      "[CV] END .....................C=10.0, gamma=0.03, kernel=rbf; total time=  24.9s\n",
      "[CV] END .....................C=10.0, gamma=0.03, kernel=rbf; total time=  30.4s\n",
      "[CV] END ......................C=10.0, gamma=0.1, kernel=rbf; total time=  23.5s\n",
      "[CV] END ......................C=10.0, gamma=0.1, kernel=rbf; total time=  23.5s\n",
      "[CV] END ......................C=10.0, gamma=0.1, kernel=rbf; total time=  23.5s\n",
      "[CV] END ......................C=10.0, gamma=0.1, kernel=rbf; total time=  23.6s\n",
      "[CV] END ......................C=10.0, gamma=0.1, kernel=rbf; total time=  23.7s\n",
      "[CV] END ......................C=10.0, gamma=0.3, kernel=rbf; total time=  23.1s\n",
      "[CV] END ......................C=10.0, gamma=0.3, kernel=rbf; total time=  23.2s\n",
      "[CV] END ......................C=10.0, gamma=0.3, kernel=rbf; total time=  23.7s\n",
      "[CV] END ......................C=10.0, gamma=0.3, kernel=rbf; total time=  23.4s\n",
      "[CV] END ......................C=10.0, gamma=0.3, kernel=rbf; total time=  23.5s\n",
      "[CV] END ......................C=10.0, gamma=1.0, kernel=rbf; total time=  22.9s\n",
      "[CV] END ......................C=10.0, gamma=1.0, kernel=rbf; total time=  23.2s\n",
      "[CV] END ......................C=10.0, gamma=1.0, kernel=rbf; total time=  25.2s\n",
      "[CV] END ......................C=10.0, gamma=1.0, kernel=rbf; total time=  28.3s\n",
      "[CV] END ......................C=10.0, gamma=1.0, kernel=rbf; total time=  23.0s\n",
      "[CV] END ......................C=10.0, gamma=3.0, kernel=rbf; total time=  31.1s\n",
      "[CV] END ......................C=10.0, gamma=3.0, kernel=rbf; total time=  27.4s\n",
      "[CV] END ......................C=10.0, gamma=3.0, kernel=rbf; total time=  27.5s\n",
      "[CV] END ......................C=10.0, gamma=3.0, kernel=rbf; total time=  24.9s\n",
      "[CV] END ......................C=10.0, gamma=3.0, kernel=rbf; total time=  25.7s\n",
      "[CV] END .....................C=30.0, gamma=0.01, kernel=rbf; total time=  24.8s\n",
      "[CV] END .....................C=30.0, gamma=0.01, kernel=rbf; total time=  24.3s\n",
      "[CV] END .....................C=30.0, gamma=0.01, kernel=rbf; total time=  24.3s\n",
      "[CV] END .....................C=30.0, gamma=0.01, kernel=rbf; total time=  24.1s\n",
      "[CV] END .....................C=30.0, gamma=0.01, kernel=rbf; total time=  24.1s\n",
      "[CV] END .....................C=30.0, gamma=0.03, kernel=rbf; total time=  27.4s\n",
      "[CV] END .....................C=30.0, gamma=0.03, kernel=rbf; total time=  28.1s\n",
      "[CV] END .....................C=30.0, gamma=0.03, kernel=rbf; total time=  25.1s\n",
      "[CV] END .....................C=30.0, gamma=0.03, kernel=rbf; total time=  31.8s\n",
      "[CV] END .....................C=30.0, gamma=0.03, kernel=rbf; total time=  24.0s\n",
      "[CV] END ......................C=30.0, gamma=0.1, kernel=rbf; total time=  23.8s\n",
      "[CV] END ......................C=30.0, gamma=0.1, kernel=rbf; total time=  25.0s\n",
      "[CV] END ......................C=30.0, gamma=0.1, kernel=rbf; total time=  24.6s\n",
      "[CV] END ......................C=30.0, gamma=0.1, kernel=rbf; total time=  23.4s\n",
      "[CV] END ......................C=30.0, gamma=0.1, kernel=rbf; total time=  23.9s\n",
      "[CV] END ......................C=30.0, gamma=0.3, kernel=rbf; total time=  23.5s\n",
      "[CV] END ......................C=30.0, gamma=0.3, kernel=rbf; total time=  23.0s\n",
      "[CV] END ......................C=30.0, gamma=0.3, kernel=rbf; total time=  26.5s\n",
      "[CV] END ......................C=30.0, gamma=0.3, kernel=rbf; total time=  25.6s\n",
      "[CV] END ......................C=30.0, gamma=0.3, kernel=rbf; total time=  23.5s\n",
      "[CV] END ......................C=30.0, gamma=1.0, kernel=rbf; total time=  23.5s\n",
      "[CV] END ......................C=30.0, gamma=1.0, kernel=rbf; total time=  23.3s\n",
      "[CV] END ......................C=30.0, gamma=1.0, kernel=rbf; total time=  23.2s\n",
      "[CV] END ......................C=30.0, gamma=1.0, kernel=rbf; total time=  22.9s\n",
      "[CV] END ......................C=30.0, gamma=1.0, kernel=rbf; total time=  23.1s\n",
      "[CV] END ......................C=30.0, gamma=3.0, kernel=rbf; total time=  25.1s\n",
      "[CV] END ......................C=30.0, gamma=3.0, kernel=rbf; total time=  24.9s\n",
      "[CV] END ......................C=30.0, gamma=3.0, kernel=rbf; total time=  25.0s\n",
      "[CV] END ......................C=30.0, gamma=3.0, kernel=rbf; total time=  25.3s\n",
      "[CV] END ......................C=30.0, gamma=3.0, kernel=rbf; total time=  25.1s\n",
      "[CV] END ....................C=100.0, gamma=0.01, kernel=rbf; total time=  24.0s\n",
      "[CV] END ....................C=100.0, gamma=0.01, kernel=rbf; total time=  24.0s\n",
      "[CV] END ....................C=100.0, gamma=0.01, kernel=rbf; total time=  25.7s\n",
      "[CV] END ....................C=100.0, gamma=0.01, kernel=rbf; total time=  24.9s\n",
      "[CV] END ....................C=100.0, gamma=0.01, kernel=rbf; total time=  27.9s\n",
      "[CV] END ....................C=100.0, gamma=0.03, kernel=rbf; total time=  28.1s\n",
      "[CV] END ....................C=100.0, gamma=0.03, kernel=rbf; total time=  23.6s\n",
      "[CV] END ....................C=100.0, gamma=0.03, kernel=rbf; total time=  23.4s\n",
      "[CV] END ....................C=100.0, gamma=0.03, kernel=rbf; total time=  23.5s\n",
      "[CV] END ....................C=100.0, gamma=0.03, kernel=rbf; total time=  23.8s\n",
      "[CV] END .....................C=100.0, gamma=0.1, kernel=rbf; total time=  25.8s\n",
      "[CV] END .....................C=100.0, gamma=0.1, kernel=rbf; total time=  21.2s\n",
      "[CV] END .....................C=100.0, gamma=0.1, kernel=rbf; total time=  21.3s\n",
      "[CV] END .....................C=100.0, gamma=0.1, kernel=rbf; total time=  21.0s\n",
      "[CV] END .....................C=100.0, gamma=0.1, kernel=rbf; total time=  21.2s\n",
      "[CV] END .....................C=100.0, gamma=0.3, kernel=rbf; total time=  20.8s\n",
      "[CV] END .....................C=100.0, gamma=0.3, kernel=rbf; total time=  20.9s\n",
      "[CV] END .....................C=100.0, gamma=0.3, kernel=rbf; total time=  20.6s\n",
      "[CV] END .....................C=100.0, gamma=0.3, kernel=rbf; total time=  20.6s\n",
      "[CV] END .....................C=100.0, gamma=0.3, kernel=rbf; total time=  20.7s\n",
      "[CV] END .....................C=100.0, gamma=1.0, kernel=rbf; total time=  20.5s\n",
      "[CV] END .....................C=100.0, gamma=1.0, kernel=rbf; total time=  20.6s\n",
      "[CV] END .....................C=100.0, gamma=1.0, kernel=rbf; total time=  20.5s\n",
      "[CV] END .....................C=100.0, gamma=1.0, kernel=rbf; total time=  21.1s\n",
      "[CV] END .....................C=100.0, gamma=1.0, kernel=rbf; total time=  21.0s\n",
      "[CV] END .....................C=100.0, gamma=3.0, kernel=rbf; total time=  23.5s\n",
      "[CV] END .....................C=100.0, gamma=3.0, kernel=rbf; total time=  22.8s\n",
      "[CV] END .....................C=100.0, gamma=3.0, kernel=rbf; total time=  22.6s\n",
      "[CV] END .....................C=100.0, gamma=3.0, kernel=rbf; total time=  22.8s\n",
      "[CV] END .....................C=100.0, gamma=3.0, kernel=rbf; total time=  22.8s\n",
      "[CV] END ....................C=300.0, gamma=0.01, kernel=rbf; total time=  21.0s\n",
      "[CV] END ....................C=300.0, gamma=0.01, kernel=rbf; total time=  21.1s\n",
      "[CV] END ....................C=300.0, gamma=0.01, kernel=rbf; total time=  21.1s\n",
      "[CV] END ....................C=300.0, gamma=0.01, kernel=rbf; total time=  21.1s\n",
      "[CV] END ....................C=300.0, gamma=0.01, kernel=rbf; total time=  21.0s\n",
      "[CV] END ....................C=300.0, gamma=0.03, kernel=rbf; total time=  20.7s\n",
      "[CV] END ....................C=300.0, gamma=0.03, kernel=rbf; total time=  20.7s\n",
      "[CV] END ....................C=300.0, gamma=0.03, kernel=rbf; total time=  20.7s\n",
      "[CV] END ....................C=300.0, gamma=0.03, kernel=rbf; total time=  20.7s\n",
      "[CV] END ....................C=300.0, gamma=0.03, kernel=rbf; total time=  22.9s\n",
      "[CV] END .....................C=300.0, gamma=0.1, kernel=rbf; total time=  20.9s\n",
      "[CV] END .....................C=300.0, gamma=0.1, kernel=rbf; total time=  20.9s\n",
      "[CV] END .....................C=300.0, gamma=0.1, kernel=rbf; total time=  20.6s\n"
     ]
    },
    {
     "name": "stdout",
     "output_type": "stream",
     "text": [
      "[CV] END .....................C=300.0, gamma=0.1, kernel=rbf; total time=  21.1s\n",
      "[CV] END .....................C=300.0, gamma=0.1, kernel=rbf; total time=  20.9s\n",
      "[CV] END .....................C=300.0, gamma=0.3, kernel=rbf; total time=  20.4s\n",
      "[CV] END .....................C=300.0, gamma=0.3, kernel=rbf; total time=  20.5s\n",
      "[CV] END .....................C=300.0, gamma=0.3, kernel=rbf; total time=  20.5s\n",
      "[CV] END .....................C=300.0, gamma=0.3, kernel=rbf; total time=  20.5s\n",
      "[CV] END .....................C=300.0, gamma=0.3, kernel=rbf; total time=  20.7s\n",
      "[CV] END .....................C=300.0, gamma=1.0, kernel=rbf; total time=  20.3s\n",
      "[CV] END .....................C=300.0, gamma=1.0, kernel=rbf; total time=  20.5s\n",
      "[CV] END .....................C=300.0, gamma=1.0, kernel=rbf; total time=  20.5s\n",
      "[CV] END .....................C=300.0, gamma=1.0, kernel=rbf; total time=  20.5s\n",
      "[CV] END .....................C=300.0, gamma=1.0, kernel=rbf; total time=  20.5s\n",
      "[CV] END .....................C=300.0, gamma=3.0, kernel=rbf; total time=  22.7s\n",
      "[CV] END .....................C=300.0, gamma=3.0, kernel=rbf; total time=  22.6s\n",
      "[CV] END .....................C=300.0, gamma=3.0, kernel=rbf; total time=  22.6s\n",
      "[CV] END .....................C=300.0, gamma=3.0, kernel=rbf; total time=  22.7s\n",
      "[CV] END .....................C=300.0, gamma=3.0, kernel=rbf; total time=  22.6s\n",
      "[CV] END ...................C=1000.0, gamma=0.01, kernel=rbf; total time=  20.6s\n",
      "[CV] END ...................C=1000.0, gamma=0.01, kernel=rbf; total time=  20.6s\n",
      "[CV] END ...................C=1000.0, gamma=0.01, kernel=rbf; total time=  20.6s\n",
      "[CV] END ...................C=1000.0, gamma=0.01, kernel=rbf; total time=  20.5s\n",
      "[CV] END ...................C=1000.0, gamma=0.01, kernel=rbf; total time=  20.6s\n",
      "[CV] END ...................C=1000.0, gamma=0.03, kernel=rbf; total time=  21.0s\n",
      "[CV] END ...................C=1000.0, gamma=0.03, kernel=rbf; total time=  20.6s\n",
      "[CV] END ...................C=1000.0, gamma=0.03, kernel=rbf; total time=  20.6s\n",
      "[CV] END ...................C=1000.0, gamma=0.03, kernel=rbf; total time=  20.3s\n",
      "[CV] END ...................C=1000.0, gamma=0.03, kernel=rbf; total time=  20.4s\n",
      "[CV] END ....................C=1000.0, gamma=0.1, kernel=rbf; total time=  20.3s\n",
      "[CV] END ....................C=1000.0, gamma=0.1, kernel=rbf; total time=  20.4s\n",
      "[CV] END ....................C=1000.0, gamma=0.1, kernel=rbf; total time=  20.4s\n",
      "[CV] END ....................C=1000.0, gamma=0.1, kernel=rbf; total time=  20.2s\n",
      "[CV] END ....................C=1000.0, gamma=0.1, kernel=rbf; total time=  20.3s\n",
      "[CV] END ....................C=1000.0, gamma=0.3, kernel=rbf; total time=  20.3s\n",
      "[CV] END ....................C=1000.0, gamma=0.3, kernel=rbf; total time=  20.3s\n",
      "[CV] END ....................C=1000.0, gamma=0.3, kernel=rbf; total time=  20.2s\n",
      "[CV] END ....................C=1000.0, gamma=0.3, kernel=rbf; total time=  20.2s\n",
      "[CV] END ....................C=1000.0, gamma=0.3, kernel=rbf; total time=  20.2s\n",
      "[CV] END ....................C=1000.0, gamma=1.0, kernel=rbf; total time=  20.4s\n",
      "[CV] END ....................C=1000.0, gamma=1.0, kernel=rbf; total time=  20.8s\n",
      "[CV] END ....................C=1000.0, gamma=1.0, kernel=rbf; total time=  20.5s\n",
      "[CV] END ....................C=1000.0, gamma=1.0, kernel=rbf; total time=  20.4s\n",
      "[CV] END ....................C=1000.0, gamma=1.0, kernel=rbf; total time=  20.5s\n",
      "[CV] END ....................C=1000.0, gamma=3.0, kernel=rbf; total time=  22.7s\n",
      "[CV] END ....................C=1000.0, gamma=3.0, kernel=rbf; total time=  22.7s\n",
      "[CV] END ....................C=1000.0, gamma=3.0, kernel=rbf; total time=  22.7s\n",
      "[CV] END ....................C=1000.0, gamma=3.0, kernel=rbf; total time=  22.6s\n",
      "[CV] END ....................C=1000.0, gamma=3.0, kernel=rbf; total time=  22.8s\n"
     ]
    },
    {
     "data": {
      "text/plain": [
       "GridSearchCV(cv=5, estimator=SVR(),\n",
       "             param_grid=[{'C': [10.0, 30.0, 100.0, 300.0, 1000.0, 3000.0,\n",
       "                                10000.0, 30000.0],\n",
       "                          'kernel': ['linear']},\n",
       "                         {'C': [1.0, 3.0, 10.0, 30.0, 100.0, 300.0, 1000.0],\n",
       "                          'gamma': [0.01, 0.03, 0.1, 0.3, 1.0, 3.0],\n",
       "                          'kernel': ['rbf']}],\n",
       "             scoring='neg_mean_squared_error', verbose=2)"
      ]
     },
     "execution_count": 195,
     "metadata": {},
     "output_type": "execute_result"
    }
   ],
   "source": [
    "from sklearn.svm import SVR\n",
    "\n",
    "# Define parameters\n",
    "param_grid = [\n",
    "    {'kernel': ['linear'], 'C': [10., 30., 100., 300., 1000., 3000., 10000., 30000.0]},\n",
    "    {'kernel': ['rbf'], 'C': [1.0, 3.0, 10., 30., 100., 300., 1000.0], \n",
    "     'gamma': [0.01, 0.03, 0.1, 0.3, 1.0, 3.0]}\n",
    "]\n",
    "\n",
    "# Instantiate estimator\n",
    "svr_reg = SVR()\n",
    "\n",
    "# Construct Grid\n",
    "grid_search = GridSearchCV(svr_reg, param_grid, cv=5, \n",
    "                          scoring='neg_mean_squared_error', \n",
    "                          verbose=2)\n",
    "\n",
    "# Fit the model\n",
    "grid_search.fit(housing_prepared, housing_labels)"
   ]
  },
  {
   "cell_type": "code",
   "execution_count": 197,
   "id": "passing-force",
   "metadata": {},
   "outputs": [
    {
     "data": {
      "text/plain": [
       "{'C': 30000.0, 'kernel': 'linear'}"
      ]
     },
     "execution_count": 197,
     "metadata": {},
     "output_type": "execute_result"
    }
   ],
   "source": [
    "# Get best parameters\n",
    "grid_search.best_params_"
   ]
  },
  {
   "cell_type": "code",
   "execution_count": 198,
   "id": "external-white",
   "metadata": {},
   "outputs": [
    {
     "data": {
      "text/plain": [
       "SVR(C=30000.0, kernel='linear')"
      ]
     },
     "execution_count": 198,
     "metadata": {},
     "output_type": "execute_result"
    }
   ],
   "source": [
    "# Get best estimator\n",
    "grid_search.best_estimator_"
   ]
  },
  {
   "cell_type": "code",
   "execution_count": 200,
   "id": "nuclear-detection",
   "metadata": {},
   "outputs": [
    {
     "data": {
      "text/plain": [
       "-4951069990.337732"
      ]
     },
     "execution_count": 200,
     "metadata": {},
     "output_type": "execute_result"
    }
   ],
   "source": [
    "# Get the best score\n",
    "grid_best_score = grid_search.best_score_\n",
    "grid_best_score"
   ]
  },
  {
   "cell_type": "code",
   "execution_count": 201,
   "id": "arctic-answer",
   "metadata": {},
   "outputs": [
    {
     "data": {
      "text/plain": [
       "70363.84007668805"
      ]
     },
     "execution_count": 201,
     "metadata": {},
     "output_type": "execute_result"
    }
   ],
   "source": [
    "# Get RMSE to evaluate the model\n",
    "np.sqrt(-grid_best_score)"
   ]
  },
  {
   "cell_type": "markdown",
   "id": "legislative-exclusive",
   "metadata": {},
   "source": [
    "**Question 2**: Try replacing `GridSearchCV` with `RandomizedSearchCV`.\n"
   ]
  },
  {
   "cell_type": "code",
   "execution_count": 204,
   "id": "naughty-status",
   "metadata": {},
   "outputs": [
    {
     "name": "stdout",
     "output_type": "stream",
     "text": [
      "Fitting 5 folds for each of 50 candidates, totalling 250 fits\n",
      "[CV] END C=629.782329591372, gamma=3.010121430917521, kernel=linear; total time=  16.5s\n",
      "[CV] END C=629.782329591372, gamma=3.010121430917521, kernel=linear; total time=  13.2s\n",
      "[CV] END C=629.782329591372, gamma=3.010121430917521, kernel=linear; total time=  11.7s\n",
      "[CV] END C=629.782329591372, gamma=3.010121430917521, kernel=linear; total time=  14.2s\n",
      "[CV] END C=629.782329591372, gamma=3.010121430917521, kernel=linear; total time=  15.9s\n",
      "[CV] END C=26290.206464300216, gamma=0.9084469696321253, kernel=rbf; total time=  29.2s\n",
      "[CV] END C=26290.206464300216, gamma=0.9084469696321253, kernel=rbf; total time=  24.9s\n",
      "[CV] END C=26290.206464300216, gamma=0.9084469696321253, kernel=rbf; total time=  23.3s\n",
      "[CV] END C=26290.206464300216, gamma=0.9084469696321253, kernel=rbf; total time=  24.1s\n",
      "[CV] END C=26290.206464300216, gamma=0.9084469696321253, kernel=rbf; total time=  41.4s\n",
      "[CV] END C=84.14107900575871, gamma=0.059838768608680676, kernel=rbf; total time=  26.4s\n",
      "[CV] END C=84.14107900575871, gamma=0.059838768608680676, kernel=rbf; total time=  27.2s\n",
      "[CV] END C=84.14107900575871, gamma=0.059838768608680676, kernel=rbf; total time=  25.0s\n",
      "[CV] END C=84.14107900575871, gamma=0.059838768608680676, kernel=rbf; total time=  34.0s\n",
      "[CV] END C=84.14107900575871, gamma=0.059838768608680676, kernel=rbf; total time=  41.2s\n",
      "[CV] END C=432.37884813148855, gamma=0.15416196746656105, kernel=linear; total time=  14.0s\n",
      "[CV] END C=432.37884813148855, gamma=0.15416196746656105, kernel=linear; total time=  17.6s\n",
      "[CV] END C=432.37884813148855, gamma=0.15416196746656105, kernel=linear; total time=  12.6s\n",
      "[CV] END C=432.37884813148855, gamma=0.15416196746656105, kernel=linear; total time=  18.3s\n",
      "[CV] END C=432.37884813148855, gamma=0.15416196746656105, kernel=linear; total time=  16.4s\n",
      "[CV] END C=24.17508294611391, gamma=3.503557475158312, kernel=rbf; total time=  32.4s\n",
      "[CV] END C=24.17508294611391, gamma=3.503557475158312, kernel=rbf; total time=  36.8s\n",
      "[CV] END C=24.17508294611391, gamma=3.503557475158312, kernel=rbf; total time=  33.0s\n",
      "[CV] END C=24.17508294611391, gamma=3.503557475158312, kernel=rbf; total time=  37.2s\n",
      "[CV] END C=24.17508294611391, gamma=3.503557475158312, kernel=rbf; total time=  38.9s\n",
      "[CV] END C=113564.03940586245, gamma=0.0007790692366582295, kernel=rbf; total time=  25.7s\n",
      "[CV] END C=113564.03940586245, gamma=0.0007790692366582295, kernel=rbf; total time=  25.4s\n",
      "[CV] END C=113564.03940586245, gamma=0.0007790692366582295, kernel=rbf; total time=  30.5s\n",
      "[CV] END C=113564.03940586245, gamma=0.0007790692366582295, kernel=rbf; total time=  31.4s\n",
      "[CV] END C=113564.03940586245, gamma=0.0007790692366582295, kernel=rbf; total time=  25.0s\n",
      "[CV] END C=108.30488238805073, gamma=0.3627537294604771, kernel=rbf; total time=  20.9s\n",
      "[CV] END C=108.30488238805073, gamma=0.3627537294604771, kernel=rbf; total time=  20.7s\n",
      "[CV] END C=108.30488238805073, gamma=0.3627537294604771, kernel=rbf; total time=  20.7s\n",
      "[CV] END C=108.30488238805073, gamma=0.3627537294604771, kernel=rbf; total time=  20.7s\n",
      "[CV] END C=108.30488238805073, gamma=0.3627537294604771, kernel=rbf; total time=  20.7s\n",
      "[CV] END C=21.344953672647435, gamma=0.023332523598323388, kernel=linear; total time=  10.7s\n",
      "[CV] END C=21.344953672647435, gamma=0.023332523598323388, kernel=linear; total time=  10.8s\n",
      "[CV] END C=21.344953672647435, gamma=0.023332523598323388, kernel=linear; total time=  10.9s\n",
      "[CV] END C=21.344953672647435, gamma=0.023332523598323388, kernel=linear; total time=  10.7s\n",
      "[CV] END C=21.344953672647435, gamma=0.023332523598323388, kernel=linear; total time=  10.7s\n",
      "[CV] END C=5603.270317432516, gamma=0.15023452872733867, kernel=rbf; total time=  20.3s\n",
      "[CV] END C=5603.270317432516, gamma=0.15023452872733867, kernel=rbf; total time=  20.2s\n",
      "[CV] END C=5603.270317432516, gamma=0.15023452872733867, kernel=rbf; total time=  20.5s\n",
      "[CV] END C=5603.270317432516, gamma=0.15023452872733867, kernel=rbf; total time=  21.7s\n",
      "[CV] END C=5603.270317432516, gamma=0.15023452872733867, kernel=rbf; total time=  29.2s\n",
      "[CV] END C=157055.10989448498, gamma=0.26497040005002437, kernel=rbf; total time=  41.6s\n",
      "[CV] END C=157055.10989448498, gamma=0.26497040005002437, kernel=rbf; total time=  49.6s\n",
      "[CV] END C=157055.10989448498, gamma=0.26497040005002437, kernel=rbf; total time=  45.0s\n",
      "[CV] END C=157055.10989448498, gamma=0.26497040005002437, kernel=rbf; total time=  39.0s\n",
      "[CV] END C=157055.10989448498, gamma=0.26497040005002437, kernel=rbf; total time=  40.9s\n",
      "[CV] END C=27652.464358739708, gamma=0.2227358621286903, kernel=linear; total time=  18.2s\n",
      "[CV] END C=27652.464358739708, gamma=0.2227358621286903, kernel=linear; total time=  19.2s\n",
      "[CV] END C=27652.464358739708, gamma=0.2227358621286903, kernel=linear; total time=  19.8s\n",
      "[CV] END C=27652.464358739708, gamma=0.2227358621286903, kernel=linear; total time=  18.9s\n",
      "[CV] END C=27652.464358739708, gamma=0.2227358621286903, kernel=linear; total time=  17.0s\n",
      "[CV] END C=171377.39570378003, gamma=0.628789100540856, kernel=linear; total time= 1.0min\n",
      "[CV] END C=171377.39570378003, gamma=0.628789100540856, kernel=linear; total time=  49.4s\n",
      "[CV] END C=171377.39570378003, gamma=0.628789100540856, kernel=linear; total time=  54.4s\n",
      "[CV] END C=171377.39570378003, gamma=0.628789100540856, kernel=linear; total time= 1.1min\n",
      "[CV] END C=171377.39570378003, gamma=0.628789100540856, kernel=linear; total time=  48.3s\n",
      "[CV] END C=5385.293820172355, gamma=0.18696125197741642, kernel=linear; total time=39.7min\n",
      "[CV] END C=5385.293820172355, gamma=0.18696125197741642, kernel=linear; total time=  17.1s\n",
      "[CV] END C=5385.293820172355, gamma=0.18696125197741642, kernel=linear; total time=  15.2s\n",
      "[CV] END C=5385.293820172355, gamma=0.18696125197741642, kernel=linear; total time=  13.9s\n",
      "[CV] END C=5385.293820172355, gamma=0.18696125197741642, kernel=linear; total time=  13.1s\n",
      "[CV] END C=22.59903216621323, gamma=2.850796878935603, kernel=rbf; total time=  22.9s\n",
      "[CV] END C=22.59903216621323, gamma=2.850796878935603, kernel=rbf; total time=  23.5s\n",
      "[CV] END C=22.59903216621323, gamma=2.850796878935603, kernel=rbf; total time=  23.0s\n",
      "[CV] END C=22.59903216621323, gamma=2.850796878935603, kernel=rbf; total time=  22.8s\n",
      "[CV] END C=22.59903216621323, gamma=2.850796878935603, kernel=rbf; total time=  22.5s\n",
      "[CV] END C=34246.75194632794, gamma=0.3632878599687583, kernel=linear; total time=  20.8s\n",
      "[CV] END C=34246.75194632794, gamma=0.3632878599687583, kernel=linear; total time=  20.5s\n",
      "[CV] END C=34246.75194632794, gamma=0.3632878599687583, kernel=linear; total time=  21.2s\n",
      "[CV] END C=34246.75194632794, gamma=0.3632878599687583, kernel=linear; total time=  19.8s\n",
      "[CV] END C=34246.75194632794, gamma=0.3632878599687583, kernel=linear; total time=  18.3s\n",
      "[CV] END C=167.7278956080511, gamma=0.2757870542258224, kernel=rbf; total time=  20.7s\n",
      "[CV] END C=167.7278956080511, gamma=0.2757870542258224, kernel=rbf; total time=  20.7s\n",
      "[CV] END C=167.7278956080511, gamma=0.2757870542258224, kernel=rbf; total time=  20.8s\n",
      "[CV] END C=167.7278956080511, gamma=0.2757870542258224, kernel=rbf; total time=  20.7s\n",
      "[CV] END C=167.7278956080511, gamma=0.2757870542258224, kernel=rbf; total time=  20.7s\n",
      "[CV] END C=61.54360542501371, gamma=0.6835472281341501, kernel=linear; total time=  10.7s\n",
      "[CV] END C=61.54360542501371, gamma=0.6835472281341501, kernel=linear; total time=  10.7s\n",
      "[CV] END C=61.54360542501371, gamma=0.6835472281341501, kernel=linear; total time=  11.0s\n",
      "[CV] END C=61.54360542501371, gamma=0.6835472281341501, kernel=linear; total time=  11.0s\n",
      "[CV] END C=61.54360542501371, gamma=0.6835472281341501, kernel=linear; total time=  10.7s\n",
      "[CV] END C=98.73897389920914, gamma=0.4960365360493639, kernel=rbf; total time=  20.7s\n",
      "[CV] END C=98.73897389920914, gamma=0.4960365360493639, kernel=rbf; total time=  20.7s\n",
      "[CV] END C=98.73897389920914, gamma=0.4960365360493639, kernel=rbf; total time=  20.8s\n",
      "[CV] END C=98.73897389920914, gamma=0.4960365360493639, kernel=rbf; total time=  20.7s\n",
      "[CV] END C=98.73897389920914, gamma=0.4960365360493639, kernel=rbf; total time=  20.6s\n",
      "[CV] END C=8935.505635947808, gamma=0.37354658165762367, kernel=rbf; total time=  20.4s\n",
      "[CV] END C=8935.505635947808, gamma=0.37354658165762367, kernel=rbf; total time=  20.4s\n"
     ]
    },
    {
     "name": "stdout",
     "output_type": "stream",
     "text": [
      "[CV] END C=8935.505635947808, gamma=0.37354658165762367, kernel=rbf; total time=  20.5s\n",
      "[CV] END C=8935.505635947808, gamma=0.37354658165762367, kernel=rbf; total time=  21.2s\n",
      "[CV] END C=8935.505635947808, gamma=0.37354658165762367, kernel=rbf; total time=  20.8s\n",
      "[CV] END C=135.76775824842434, gamma=0.838636245624803, kernel=linear; total time=  10.8s\n",
      "[CV] END C=135.76775824842434, gamma=0.838636245624803, kernel=linear; total time=  10.8s\n",
      "[CV] END C=135.76775824842434, gamma=0.838636245624803, kernel=linear; total time=  10.7s\n",
      "[CV] END C=135.76775824842434, gamma=0.838636245624803, kernel=linear; total time=  10.8s\n",
      "[CV] END C=135.76775824842434, gamma=0.838636245624803, kernel=linear; total time=  10.6s\n",
      "[CV] END C=151136.20282548846, gamma=1.4922453771381408, kernel=rbf; total time= 3.8min\n",
      "[CV] END C=151136.20282548846, gamma=1.4922453771381408, kernel=rbf; total time= 2.9min\n",
      "[CV] END C=151136.20282548846, gamma=1.4922453771381408, kernel=rbf; total time= 2.7min\n",
      "[CV] END C=151136.20282548846, gamma=1.4922453771381408, kernel=rbf; total time= 3.4min\n",
      "[CV] END C=151136.20282548846, gamma=1.4922453771381408, kernel=rbf; total time= 3.3min\n",
      "[CV] END C=761.4316758498783, gamma=2.6126336514161914, kernel=linear; total time=  10.9s\n",
      "[CV] END C=761.4316758498783, gamma=2.6126336514161914, kernel=linear; total time=  10.8s\n",
      "[CV] END C=761.4316758498783, gamma=2.6126336514161914, kernel=linear; total time=  10.9s\n",
      "[CV] END C=761.4316758498783, gamma=2.6126336514161914, kernel=linear; total time=  10.9s\n",
      "[CV] END C=761.4316758498783, gamma=2.6126336514161914, kernel=linear; total time=  10.9s\n",
      "[CV] END C=97392.81883041795, gamma=0.09265545895311562, kernel=linear; total time=  38.6s\n",
      "[CV] END C=97392.81883041795, gamma=0.09265545895311562, kernel=linear; total time=  36.0s\n",
      "[CV] END C=97392.81883041795, gamma=0.09265545895311562, kernel=linear; total time=  59.7s\n",
      "[CV] END C=97392.81883041795, gamma=0.09265545895311562, kernel=linear; total time=  37.7s\n",
      "[CV] END C=97392.81883041795, gamma=0.09265545895311562, kernel=linear; total time=  30.8s\n",
      "[CV] END C=2423.0759984939164, gamma=3.248614270240346, kernel=linear; total time=  11.7s\n",
      "[CV] END C=2423.0759984939164, gamma=3.248614270240346, kernel=linear; total time=  11.6s\n",
      "[CV] END C=2423.0759984939164, gamma=3.248614270240346, kernel=linear; total time=  11.5s\n",
      "[CV] END C=2423.0759984939164, gamma=3.248614270240346, kernel=linear; total time=  11.7s\n",
      "[CV] END C=2423.0759984939164, gamma=3.248614270240346, kernel=linear; total time=  11.2s\n",
      "[CV] END C=717.3632997255095, gamma=0.3165604432088257, kernel=linear; total time=  10.9s\n",
      "[CV] END C=717.3632997255095, gamma=0.3165604432088257, kernel=linear; total time=  10.9s\n",
      "[CV] END C=717.3632997255095, gamma=0.3165604432088257, kernel=linear; total time=  11.0s\n",
      "[CV] END C=717.3632997255095, gamma=0.3165604432088257, kernel=linear; total time=  11.0s\n",
      "[CV] END C=717.3632997255095, gamma=0.3165604432088257, kernel=linear; total time=  10.8s\n",
      "[CV] END C=4446.667521184072, gamma=3.3597284456608496, kernel=rbf; total time=  23.5s\n",
      "[CV] END C=4446.667521184072, gamma=3.3597284456608496, kernel=rbf; total time=  23.5s\n",
      "[CV] END C=4446.667521184072, gamma=3.3597284456608496, kernel=rbf; total time=  23.5s\n",
      "[CV] END C=4446.667521184072, gamma=3.3597284456608496, kernel=rbf; total time=  23.5s\n",
      "[CV] END C=4446.667521184072, gamma=3.3597284456608496, kernel=rbf; total time=  23.6s\n",
      "[CV] END C=2963.564121207815, gamma=0.15189814782062885, kernel=linear; total time=  11.5s\n",
      "[CV] END C=2963.564121207815, gamma=0.15189814782062885, kernel=linear; total time=  11.8s\n",
      "[CV] END C=2963.564121207815, gamma=0.15189814782062885, kernel=linear; total time=  11.9s\n",
      "[CV] END C=2963.564121207815, gamma=0.15189814782062885, kernel=linear; total time=  11.5s\n",
      "[CV] END C=2963.564121207815, gamma=0.15189814782062885, kernel=linear; total time=  11.4s\n",
      "[CV] END C=91.64267381686706, gamma=0.01575994483585621, kernel=linear; total time=  10.6s\n",
      "[CV] END C=91.64267381686706, gamma=0.01575994483585621, kernel=linear; total time=  10.7s\n",
      "[CV] END C=91.64267381686706, gamma=0.01575994483585621, kernel=linear; total time=  10.7s\n",
      "[CV] END C=91.64267381686706, gamma=0.01575994483585621, kernel=linear; total time=  10.7s\n",
      "[CV] END C=91.64267381686706, gamma=0.01575994483585621, kernel=linear; total time=  10.6s\n",
      "[CV] END C=24547.601975705915, gamma=0.22153944050588595, kernel=rbf; total time=  21.1s\n",
      "[CV] END C=24547.601975705915, gamma=0.22153944050588595, kernel=rbf; total time=  21.0s\n",
      "[CV] END C=24547.601975705915, gamma=0.22153944050588595, kernel=rbf; total time=  21.0s\n",
      "[CV] END C=24547.601975705915, gamma=0.22153944050588595, kernel=rbf; total time=  21.0s\n",
      "[CV] END C=24547.601975705915, gamma=0.22153944050588595, kernel=rbf; total time=  20.9s\n",
      "[CV] END C=22.76927941060928, gamma=0.22169760231351215, kernel=rbf; total time=  20.9s\n",
      "[CV] END C=22.76927941060928, gamma=0.22169760231351215, kernel=rbf; total time=  21.0s\n",
      "[CV] END C=22.76927941060928, gamma=0.22169760231351215, kernel=rbf; total time=  21.0s\n",
      "[CV] END C=22.76927941060928, gamma=0.22169760231351215, kernel=rbf; total time=  21.0s\n",
      "[CV] END C=22.76927941060928, gamma=0.22169760231351215, kernel=rbf; total time=  20.9s\n",
      "[CV] END C=16483.850529752886, gamma=1.4752145260435134, kernel=linear; total time=  15.8s\n",
      "[CV] END C=16483.850529752886, gamma=1.4752145260435134, kernel=linear; total time=  15.1s\n",
      "[CV] END C=16483.850529752886, gamma=1.4752145260435134, kernel=linear; total time=  15.9s\n",
      "[CV] END C=16483.850529752886, gamma=1.4752145260435134, kernel=linear; total time=  15.3s\n",
      "[CV] END C=16483.850529752886, gamma=1.4752145260435134, kernel=linear; total time=  14.4s\n",
      "[CV] END C=101445.66881340064, gamma=1.052904084582266, kernel=rbf; total time= 1.2min\n",
      "[CV] END C=101445.66881340064, gamma=1.052904084582266, kernel=rbf; total time= 1.2min\n",
      "[CV] END C=101445.66881340064, gamma=1.052904084582266, kernel=rbf; total time= 1.5min\n",
      "[CV] END C=101445.66881340064, gamma=1.052904084582266, kernel=rbf; total time= 1.5min\n",
      "[CV] END C=101445.66881340064, gamma=1.052904084582266, kernel=rbf; total time= 1.3min\n",
      "[CV] END C=56681.80859029545, gamma=0.9763011917123741, kernel=rbf; total time=  32.4s\n",
      "[CV] END C=56681.80859029545, gamma=0.9763011917123741, kernel=rbf; total time=  32.8s\n",
      "[CV] END C=56681.80859029545, gamma=0.9763011917123741, kernel=rbf; total time=  32.3s\n",
      "[CV] END C=56681.80859029545, gamma=0.9763011917123741, kernel=rbf; total time=  35.0s\n",
      "[CV] END C=56681.80859029545, gamma=0.9763011917123741, kernel=rbf; total time=  34.0s\n",
      "[CV] END C=48.15822390928914, gamma=0.4633351167983427, kernel=rbf; total time=  20.6s\n",
      "[CV] END C=48.15822390928914, gamma=0.4633351167983427, kernel=rbf; total time=  20.8s\n",
      "[CV] END C=48.15822390928914, gamma=0.4633351167983427, kernel=rbf; total time=  20.6s\n",
      "[CV] END C=48.15822390928914, gamma=0.4633351167983427, kernel=rbf; total time=  20.7s\n",
      "[CV] END C=48.15822390928914, gamma=0.4633351167983427, kernel=rbf; total time=  20.7s\n",
      "[CV] END C=399.7268155705774, gamma=1.3078757839577408, kernel=rbf; total time=  20.7s\n",
      "[CV] END C=399.7268155705774, gamma=1.3078757839577408, kernel=rbf; total time=  20.6s\n",
      "[CV] END C=399.7268155705774, gamma=1.3078757839577408, kernel=rbf; total time=  20.7s\n",
      "[CV] END C=399.7268155705774, gamma=1.3078757839577408, kernel=rbf; total time=  20.6s\n",
      "[CV] END C=399.7268155705774, gamma=1.3078757839577408, kernel=rbf; total time=  20.6s\n",
      "[CV] END C=251.14073886281363, gamma=0.8238105204914145, kernel=linear; total time=  10.6s\n",
      "[CV] END C=251.14073886281363, gamma=0.8238105204914145, kernel=linear; total time=  11.0s\n",
      "[CV] END C=251.14073886281363, gamma=0.8238105204914145, kernel=linear; total time=  10.8s\n",
      "[CV] END C=251.14073886281363, gamma=0.8238105204914145, kernel=linear; total time=  10.8s\n",
      "[CV] END C=251.14073886281363, gamma=0.8238105204914145, kernel=linear; total time=  10.8s\n",
      "[CV] END C=60.17373642891687, gamma=1.2491263443165994, kernel=linear; total time=  10.8s\n",
      "[CV] END C=60.17373642891687, gamma=1.2491263443165994, kernel=linear; total time=  10.7s\n",
      "[CV] END C=60.17373642891687, gamma=1.2491263443165994, kernel=linear; total time=  10.8s\n",
      "[CV] END C=60.17373642891687, gamma=1.2491263443165994, kernel=linear; total time=  10.7s\n"
     ]
    },
    {
     "name": "stdout",
     "output_type": "stream",
     "text": [
      "[CV] END C=60.17373642891687, gamma=1.2491263443165994, kernel=linear; total time=  10.6s\n",
      "[CV] END C=15415.161544891856, gamma=0.2691677514619319, kernel=rbf; total time=  20.6s\n",
      "[CV] END C=15415.161544891856, gamma=0.2691677514619319, kernel=rbf; total time=  20.7s\n",
      "[CV] END C=15415.161544891856, gamma=0.2691677514619319, kernel=rbf; total time=  20.7s\n",
      "[CV] END C=15415.161544891856, gamma=0.2691677514619319, kernel=rbf; total time=  20.7s\n",
      "[CV] END C=15415.161544891856, gamma=0.2691677514619319, kernel=rbf; total time=  20.6s\n",
      "[CV] END C=1888.9148509967113, gamma=0.739678838777267, kernel=linear; total time=  11.1s\n",
      "[CV] END C=1888.9148509967113, gamma=0.739678838777267, kernel=linear; total time=  11.3s\n",
      "[CV] END C=1888.9148509967113, gamma=0.739678838777267, kernel=linear; total time=  11.3s\n",
      "[CV] END C=1888.9148509967113, gamma=0.739678838777267, kernel=linear; total time=  11.3s\n",
      "[CV] END C=1888.9148509967113, gamma=0.739678838777267, kernel=linear; total time=  11.2s\n",
      "[CV] END C=55.53838911232773, gamma=0.578634378499143, kernel=linear; total time=  10.7s\n",
      "[CV] END C=55.53838911232773, gamma=0.578634378499143, kernel=linear; total time=  10.8s\n",
      "[CV] END C=55.53838911232773, gamma=0.578634378499143, kernel=linear; total time=  10.8s\n",
      "[CV] END C=55.53838911232773, gamma=0.578634378499143, kernel=linear; total time=  10.8s\n",
      "[CV] END C=55.53838911232773, gamma=0.578634378499143, kernel=linear; total time=  10.7s\n",
      "[CV] END C=26.714480823948186, gamma=1.0117295509275495, kernel=rbf; total time=  20.6s\n",
      "[CV] END C=26.714480823948186, gamma=1.0117295509275495, kernel=rbf; total time=  20.7s\n",
      "[CV] END C=26.714480823948186, gamma=1.0117295509275495, kernel=rbf; total time=  20.6s\n",
      "[CV] END C=26.714480823948186, gamma=1.0117295509275495, kernel=rbf; total time=  20.6s\n",
      "[CV] END C=26.714480823948186, gamma=1.0117295509275495, kernel=rbf; total time=  20.6s\n",
      "[CV] END C=3582.0552780489566, gamma=1.1891370222133257, kernel=linear; total time=  12.2s\n",
      "[CV] END C=3582.0552780489566, gamma=1.1891370222133257, kernel=linear; total time=  11.9s\n",
      "[CV] END C=3582.0552780489566, gamma=1.1891370222133257, kernel=linear; total time=  11.9s\n",
      "[CV] END C=3582.0552780489566, gamma=1.1891370222133257, kernel=linear; total time=  11.9s\n",
      "[CV] END C=3582.0552780489566, gamma=1.1891370222133257, kernel=linear; total time=  11.6s\n",
      "[CV] END C=198.7004781812736, gamma=0.5282819748826726, kernel=linear; total time=  10.6s\n",
      "[CV] END C=198.7004781812736, gamma=0.5282819748826726, kernel=linear; total time=  10.6s\n",
      "[CV] END C=198.7004781812736, gamma=0.5282819748826726, kernel=linear; total time=  11.7s\n",
      "[CV] END C=198.7004781812736, gamma=0.5282819748826726, kernel=linear; total time=  10.8s\n",
      "[CV] END C=198.7004781812736, gamma=0.5282819748826726, kernel=linear; total time=  10.7s\n",
      "[CV] END C=129.8000604143307, gamma=2.8621383676481322, kernel=linear; total time=  10.8s\n",
      "[CV] END C=129.8000604143307, gamma=2.8621383676481322, kernel=linear; total time=  10.7s\n",
      "[CV] END C=129.8000604143307, gamma=2.8621383676481322, kernel=linear; total time=  10.7s\n",
      "[CV] END C=129.8000604143307, gamma=2.8621383676481322, kernel=linear; total time=  10.6s\n",
      "[CV] END C=129.8000604143307, gamma=2.8621383676481322, kernel=linear; total time=  10.6s\n",
      "[CV] END C=288.4269299593897, gamma=0.17580835850006285, kernel=rbf; total time=  20.8s\n",
      "[CV] END C=288.4269299593897, gamma=0.17580835850006285, kernel=rbf; total time=  20.5s\n",
      "[CV] END C=288.4269299593897, gamma=0.17580835850006285, kernel=rbf; total time=  20.5s\n",
      "[CV] END C=288.4269299593897, gamma=0.17580835850006285, kernel=rbf; total time=  20.5s\n",
      "[CV] END C=288.4269299593897, gamma=0.17580835850006285, kernel=rbf; total time=  20.6s\n",
      "[CV] END C=6287.039489427171, gamma=0.3504567255332862, kernel=linear; total time=  12.5s\n",
      "[CV] END C=6287.039489427171, gamma=0.3504567255332862, kernel=linear; total time=  12.6s\n",
      "[CV] END C=6287.039489427171, gamma=0.3504567255332862, kernel=linear; total time=  12.8s\n",
      "[CV] END C=6287.039489427171, gamma=0.3504567255332862, kernel=linear; total time=  12.7s\n",
      "[CV] END C=6287.039489427171, gamma=0.3504567255332862, kernel=linear; total time=  12.3s\n",
      "[CV] END C=61217.04421344494, gamma=1.6279689407405564, kernel=rbf; total time=  59.0s\n",
      "[CV] END C=61217.04421344494, gamma=1.6279689407405564, kernel=rbf; total time= 1.1min\n",
      "[CV] END C=61217.04421344494, gamma=1.6279689407405564, kernel=rbf; total time= 1.1min\n",
      "[CV] END C=61217.04421344494, gamma=1.6279689407405564, kernel=rbf; total time= 1.1min\n",
      "[CV] END C=61217.04421344494, gamma=1.6279689407405564, kernel=rbf; total time= 1.0min\n",
      "[CV] END C=926.9787684096649, gamma=2.147979593060577, kernel=rbf; total time=  21.3s\n",
      "[CV] END C=926.9787684096649, gamma=2.147979593060577, kernel=rbf; total time=  21.3s\n",
      "[CV] END C=926.9787684096649, gamma=2.147979593060577, kernel=rbf; total time=  21.3s\n",
      "[CV] END C=926.9787684096649, gamma=2.147979593060577, kernel=rbf; total time=  21.4s\n",
      "[CV] END C=926.9787684096649, gamma=2.147979593060577, kernel=rbf; total time=  21.4s\n",
      "[CV] END C=33946.157064934, gamma=2.2642426492862313, kernel=linear; total time=  19.6s\n",
      "[CV] END C=33946.157064934, gamma=2.2642426492862313, kernel=linear; total time=  21.5s\n",
      "[CV] END C=33946.157064934, gamma=2.2642426492862313, kernel=linear; total time=  20.5s\n",
      "[CV] END C=33946.157064934, gamma=2.2642426492862313, kernel=linear; total time=  20.6s\n",
      "[CV] END C=33946.157064934, gamma=2.2642426492862313, kernel=linear; total time=  18.9s\n",
      "[CV] END C=84789.82947739525, gamma=0.3176359085304841, kernel=linear; total time=  45.5s\n",
      "[CV] END C=84789.82947739525, gamma=0.3176359085304841, kernel=linear; total time=  33.3s\n",
      "[CV] END C=84789.82947739525, gamma=0.3176359085304841, kernel=linear; total time=  50.7s\n",
      "[CV] END C=84789.82947739525, gamma=0.3176359085304841, kernel=linear; total time=  32.5s\n",
      "[CV] END C=84789.82947739525, gamma=0.3176359085304841, kernel=linear; total time=  27.1s\n"
     ]
    },
    {
     "data": {
      "text/plain": [
       "RandomizedSearchCV(cv=5, estimator=SVR(), n_iter=50,\n",
       "                   param_distributions={'C': <scipy.stats._distn_infrastructure.rv_frozen object at 0x7fb3dad23e80>,\n",
       "                                        'gamma': <scipy.stats._distn_infrastructure.rv_frozen object at 0x7fb3dd5825e0>,\n",
       "                                        'kernel': ['linear', 'rbf']},\n",
       "                   random_state=42, scoring='neg_mean_squared_error',\n",
       "                   verbose=2)"
      ]
     },
     "execution_count": 204,
     "metadata": {},
     "output_type": "execute_result"
    }
   ],
   "source": [
    "from sklearn.model_selection import RandomizedSearchCV\n",
    "from scipy.stats import expon, reciprocal\n",
    "\n",
    "# Define parameters\n",
    "param_distribs = {\n",
    "    'kernel': ['linear', 'rbf'], \n",
    "    'C': reciprocal(20, 200000), \n",
    "    'gamma': expon(scale=1.0)\n",
    "}\n",
    "\n",
    "# Instantiate estimator\n",
    "svm_rand = SVR()\n",
    "\n",
    "# Construct randomised search\n",
    "rand_search = RandomizedSearchCV(svm_rand, param_distributions=param_distribs, \n",
    "                                 n_iter=50, cv=5, scoring='neg_mean_squared_error', random_state=42, verbose=2)\n",
    "\n",
    "# Fit the model\n",
    "\n",
    "rand_search.fit(housing_prepared, housing_labels)"
   ]
  },
  {
   "cell_type": "code",
   "execution_count": 206,
   "id": "recent-facial",
   "metadata": {},
   "outputs": [
    {
     "data": {
      "text/plain": [
       "{'C': 157055.10989448498, 'gamma': 0.26497040005002437, 'kernel': 'rbf'}"
      ]
     },
     "execution_count": 206,
     "metadata": {},
     "output_type": "execute_result"
    }
   ],
   "source": [
    "# Get best parameters\n",
    "rand_search.best_params_"
   ]
  },
  {
   "cell_type": "code",
   "execution_count": 207,
   "id": "finished-dominant",
   "metadata": {},
   "outputs": [
    {
     "data": {
      "text/plain": [
       "SVR(C=157055.10989448498, gamma=0.26497040005002437)"
      ]
     },
     "execution_count": 207,
     "metadata": {},
     "output_type": "execute_result"
    }
   ],
   "source": [
    "# Get best estimator\n",
    "rand_search.best_estimator_"
   ]
  },
  {
   "cell_type": "code",
   "execution_count": 208,
   "id": "painted-addition",
   "metadata": {},
   "outputs": [
    {
     "data": {
      "text/plain": [
       "-2999529520.341318"
      ]
     },
     "execution_count": 208,
     "metadata": {},
     "output_type": "execute_result"
    }
   ],
   "source": [
    "# Get the best score\n",
    "rand_best_score = rand_search.best_score_\n",
    "rand_best_score"
   ]
  },
  {
   "cell_type": "code",
   "execution_count": 209,
   "id": "helpful-pantyhose",
   "metadata": {},
   "outputs": [
    {
     "data": {
      "text/plain": [
       "54767.960710084124"
      ]
     },
     "execution_count": 209,
     "metadata": {},
     "output_type": "execute_result"
    }
   ],
   "source": [
    "# Get RMSE to evaluate the model\n",
    "np.sqrt(-rand_best_score)"
   ]
  },
  {
   "cell_type": "markdown",
   "id": "novel-bachelor",
   "metadata": {},
   "source": [
    "Plotting the distribution of the `gamma` values tested."
   ]
  },
  {
   "cell_type": "code",
   "execution_count": 210,
   "id": "later-glucose",
   "metadata": {},
   "outputs": [
    {
     "data": {
      "image/png": "[encoded data removed]",
      "text/plain": [
       "<Figure size 720x288 with 2 Axes>"
      ]
     },
     "metadata": {
      "needs_background": "light"
     },
     "output_type": "display_data"
    }
   ],
   "source": [
    "# Define distribution\n",
    "expon_distrib = expon(scale=1.)\n",
    "# Select points to plot\n",
    "samples = expon_distrib.rvs(10000, random_state=42)\n",
    "# Plot\n",
    "plt.figure(figsize=(10, 4))\n",
    "plt.subplot(121)\n",
    "plt.title(\"Exponential distribution (scale=1.0)\")\n",
    "plt.hist(samples, bins=50)\n",
    "plt.subplot(122)\n",
    "plt.title(\"Log of this distribution\")\n",
    "plt.hist(np.log(samples), bins=50)\n",
    "plt.show()"
   ]
  },
  {
   "cell_type": "markdown",
   "id": "matched-spouse",
   "metadata": {},
   "source": [
    "Most values are concentrated roughly in the range of exp(-2) to exp(+2), which is about 0.1 to 7.4.\n",
    "\n",
    "Plotting the distribution for `C`: the scale of the samples is picked from a uniform distribution within a given range, which is why the right graph, which represents the log of the samples, looks roughly constant. This distribution is useful when you don't have a clue of what the target scale is. "
   ]
  },
  {
   "cell_type": "code",
   "execution_count": 212,
   "id": "commercial-investigation",
   "metadata": {},
   "outputs": [
    {
     "data": {
      "image/png": "[encoded data removed]",
      "text/plain": [
       "<Figure size 720x288 with 2 Axes>"
      ]
     },
     "metadata": {
      "needs_background": "light"
     },
     "output_type": "display_data"
    }
   ],
   "source": [
    "# Define distribution\n",
    "reciprocal_distrib = reciprocal(20, 200000)\n",
    "# Select points to plot\n",
    "samples = reciprocal_distrib.rvs(10000, random_state=42)\n",
    "# Plot\n",
    "plt.figure(figsize=(10, 4))\n",
    "plt.subplot(121)\n",
    "plt.title(\"Reciprocal distribution (scale=1.0)\")\n",
    "plt.hist(samples, bins=50)\n",
    "plt.subplot(122)\n",
    "plt.title(\"Log of this distribution\")\n",
    "plt.hist(np.log(samples), bins=50)\n",
    "plt.show()"
   ]
  },
  {
   "cell_type": "markdown",
   "id": "median-makeup",
   "metadata": {},
   "source": [
    "* **Reciprocal distribution**: useful when you have no idea what the scale of the hyperparameter should be (all scales are equally likely, within the given range)\n",
    "* **Exponential distribution**: when you know (more or less) what the scale of the hyperparameter should be"
   ]
  },
  {
   "cell_type": "markdown",
   "id": "efficient-update",
   "metadata": {},
   "source": [
    "**Question 3**: Try adding a transformer in the preparation pipeline to select only the most important attributes.\n",
    "\n",
    "Define a function to select only the k more improtant attributes. This function assumes that the feature importance has been already calculated (very slow since the feature importances would have to be computed for every hyperparameter combination (unless you implement some sort of cache)."
   ]
  },
  {
   "cell_type": "code",
   "execution_count": 237,
   "id": "racial-exhaust",
   "metadata": {},
   "outputs": [],
   "source": [
    "# Define function to add attributes\n",
    "from sklearn.base import BaseEstimator, TransformerMixin\n",
    "\n",
    "def indices_of_top_k(arr, k):\n",
    "    # np.argpartition divides arguments smaller and bigger than k\n",
    "    # Then select only bigger arguments, including k\n",
    "    return np.sort(np.argpartition(np.array(arr), -k)[-k:])\n",
    "\n",
    "class TopFeatureSelector(BaseEstimator, TransformerMixin):\n",
    "    def __init__(self, feature_importances, k):\n",
    "        self.feature_importances = feature_importances\n",
    "        self.k = k\n",
    "    def fit(self, X, y=None):\n",
    "        self.feature_indices_ = indices_of_top_k(self.feature_importances, self.k)\n",
    "        return self\n",
    "    def transform(self, X):\n",
    "        return X[:, self.feature_indices_]"
   ]
  },
  {
   "cell_type": "code",
   "execution_count": 238,
   "id": "spectacular-letters",
   "metadata": {},
   "outputs": [],
   "source": [
    "# Define the number of features to keep\n",
    "k = 5"
   ]
  },
  {
   "cell_type": "code",
   "execution_count": 239,
   "id": "later-element",
   "metadata": {},
   "outputs": [
    {
     "data": {
      "text/plain": [
       "array(['longitude', 'latitude', 'median_income', 'pop_per_hhold',\n",
       "       'INLAND'], dtype='<U18')"
      ]
     },
     "execution_count": 239,
     "metadata": {},
     "output_type": "execute_result"
    }
   ],
   "source": [
    "# Get the indexes of the k features\n",
    "top_k_feature_indices = indices_of_top_k(feature_importances, k)\n",
    "# Get the k attributes\n",
    "np.array(attributes)[top_k_feature_indices]"
   ]
  },
  {
   "cell_type": "code",
   "execution_count": 240,
   "id": "original-cleaners",
   "metadata": {},
   "outputs": [
    {
     "data": {
      "text/plain": [
       "[(0.36615898061813423, 'median_income'),\n",
       " (0.16478099356159054, 'INLAND'),\n",
       " (0.10879295677551575, 'pop_per_hhold'),\n",
       " (0.07334423551601243, 'longitude'),\n",
       " (0.06290907048262032, 'latitude')]"
      ]
     },
     "execution_count": 240,
     "metadata": {},
     "output_type": "execute_result"
    }
   ],
   "source": [
    "# Check the values of top indices\n",
    "sorted(zip(feature_importances, attributes), reverse=True)[:k]"
   ]
  },
  {
   "cell_type": "markdown",
   "id": "lesser-underwear",
   "metadata": {},
   "source": [
    "Create a pipeline for the full processing: \n",
    "* Preparation\n",
    "* Feature selection\n"
   ]
  },
  {
   "cell_type": "code",
   "execution_count": 241,
   "id": "japanese-session",
   "metadata": {},
   "outputs": [],
   "source": [
    "# Define pipeline\n",
    "preparation_and_feature_selection_pipeline = Pipeline([\n",
    "    ('preparation', full_pipeline),\n",
    "    ('feature_selection', TopFeatureSelector(feature_importances, k))\n",
    "])"
   ]
  },
  {
   "cell_type": "code",
   "execution_count": 242,
   "id": "structured-stopping",
   "metadata": {},
   "outputs": [],
   "source": [
    "# Run the pipeline\n",
    "housing_prepared_top_k_features = preparation_and_feature_selection_pipeline.fit_transform(housing)"
   ]
  },
  {
   "cell_type": "code",
   "execution_count": 243,
   "id": "broke-spencer",
   "metadata": {},
   "outputs": [
    {
     "data": {
      "text/plain": [
       "array([[-1.15604281,  0.77194962, -0.61493744, -0.08649871,  0.        ],\n",
       "       [-1.17602483,  0.6596948 ,  1.33645936, -0.03353391,  0.        ],\n",
       "       [ 1.18684903, -1.34218285, -0.5320456 , -0.09240499,  0.        ]])"
      ]
     },
     "execution_count": 243,
     "metadata": {},
     "output_type": "execute_result"
    }
   ],
   "source": [
    "# Check the tree top feature \n",
    "housing_prepared_top_k_features[0:3]"
   ]
  },
  {
   "cell_type": "code",
   "execution_count": 244,
   "id": "nasty-fraud",
   "metadata": {},
   "outputs": [
    {
     "data": {
      "text/plain": [
       "array([[-1.15604281,  0.77194962, -0.61493744, -0.08649871,  0.        ],\n",
       "       [-1.17602483,  0.6596948 ,  1.33645936, -0.03353391,  0.        ],\n",
       "       [ 1.18684903, -1.34218285, -0.5320456 , -0.09240499,  0.        ]])"
      ]
     },
     "execution_count": 244,
     "metadata": {},
     "output_type": "execute_result"
    }
   ],
   "source": [
    "# Check top k features\n",
    "housing_prepared[0:3, top_k_feature_indices]"
   ]
  },
  {
   "cell_type": "markdown",
   "id": "renewable-fishing",
   "metadata": {},
   "source": [
    "**Question 4**: Try creating a single pipeline that does the full data preparation plus the final prediction."
   ]
  },
  {
   "cell_type": "code",
   "execution_count": 247,
   "id": "growing-government",
   "metadata": {},
   "outputs": [],
   "source": [
    "# Define final pipeline\n",
    "prepare_select_and_predict_pipeline = Pipeline([\n",
    "    ('preparation', full_pipeline),\n",
    "    ('feature_selection', TopFeatureSelector(feature_importances, k)),\n",
    "    ('svm_reg', SVR(**grid_search.best_params_))\n",
    "])"
   ]
  },
  {
   "cell_type": "code",
   "execution_count": 248,
   "id": "competitive-spank",
   "metadata": {},
   "outputs": [
    {
     "data": {
      "text/plain": [
       "Pipeline(steps=[('preparation',\n",
       "                 ColumnTransformer(transformers=[('num',\n",
       "                                                  Pipeline(steps=[('imputer',\n",
       "                                                                   SimpleImputer(strategy='median')),\n",
       "                                                                  ('attribs_adder',\n",
       "                                                                   CombinedAttributesAdder()),\n",
       "                                                                  ('std_scaler',\n",
       "                                                                   StandardScaler())]),\n",
       "                                                  ['longitude', 'latitude',\n",
       "                                                   'housing_median_age',\n",
       "                                                   'total_rooms',\n",
       "                                                   'total_bedrooms',\n",
       "                                                   'population', 'households',\n",
       "                                                   'median_income']),\n",
       "                                                 ('cat', OneHotEncoder(...\n",
       "                ('feature_selection',\n",
       "                 TopFeatureSelector(feature_importances=array([7.33442355e-02, 6.29090705e-02, 4.11437985e-02, 1.46726854e-02,\n",
       "       1.41064835e-02, 1.48742809e-02, 1.42575993e-02, 3.66158981e-01,\n",
       "       5.64191792e-02, 1.08792957e-01, 5.33510773e-02, 1.03114883e-02,\n",
       "       1.64780994e-01, 6.02803867e-05, 1.96041560e-03, 2.85647464e-03]),\n",
       "                                    k=5)),\n",
       "                ('svm_reg', SVR(C=30000.0, kernel='linear'))])"
      ]
     },
     "execution_count": 248,
     "metadata": {},
     "output_type": "execute_result"
    }
   ],
   "source": [
    "# Fit pipeline\n",
    "prepare_select_and_predict_pipeline.fit(housing, housing_labels)"
   ]
  },
  {
   "cell_type": "code",
   "execution_count": 249,
   "id": "blind-offering",
   "metadata": {},
   "outputs": [],
   "source": [
    "# Select some data \n",
    "some_data = housing.iloc[:4]\n",
    "some_labels = housing_labels.iloc[:4]"
   ]
  },
  {
   "cell_type": "code",
   "execution_count": 252,
   "id": "confidential-television",
   "metadata": {},
   "outputs": [
    {
     "name": "stdout",
     "output_type": "stream",
     "text": [
      "Predictions:\t [189028.33088227 325513.70827951 179741.23709483  67902.71035941]\n",
      "Labels:\t\t [286600.0, 340600.0, 196900.0, 46300.0]\n"
     ]
    }
   ],
   "source": [
    "# Make predictions and compare with labels\n",
    "\n",
    "print(\"Predictions:\\t\", prepare_select_and_predict_pipeline.predict(some_data))\n",
    "print(\"Labels:\\t\\t\", list(some_labels))"
   ]
  },
  {
   "cell_type": "markdown",
   "id": "figured-reconstruction",
   "metadata": {},
   "source": [
    "**Question 5**: Automatically explore some preparation options using `GridSearchCV`."
   ]
  },
  {
   "cell_type": "code",
   "execution_count": 254,
   "id": "second-culture",
   "metadata": {},
   "outputs": [
    {
     "name": "stdout",
     "output_type": "stream",
     "text": [
      "Fitting 5 folds for each of 48 candidates, totalling 240 fits\n",
      "[CV] END feature_selection__k=1, preparation__num__imputer__strategy=mean; total time=  21.1s\n",
      "[CV] END feature_selection__k=1, preparation__num__imputer__strategy=mean; total time=  19.9s\n",
      "[CV] END feature_selection__k=1, preparation__num__imputer__strategy=mean; total time=  14.5s\n",
      "[CV] END feature_selection__k=1, preparation__num__imputer__strategy=mean; total time=  18.4s\n",
      "[CV] END feature_selection__k=1, preparation__num__imputer__strategy=mean; total time=  12.2s\n",
      "[CV] END feature_selection__k=1, preparation__num__imputer__strategy=median; total time=  13.3s\n",
      "[CV] END feature_selection__k=1, preparation__num__imputer__strategy=median; total time=  14.1s\n",
      "[CV] END feature_selection__k=1, preparation__num__imputer__strategy=median; total time=  15.2s\n",
      "[CV] END feature_selection__k=1, preparation__num__imputer__strategy=median; total time=  16.9s\n",
      "[CV] END feature_selection__k=1, preparation__num__imputer__strategy=median; total time=  12.0s\n",
      "[CV] END feature_selection__k=1, preparation__num__imputer__strategy=most_frequent; total time=  36.2s\n",
      "[CV] END feature_selection__k=1, preparation__num__imputer__strategy=most_frequent; total time=  46.7s\n",
      "[CV] END feature_selection__k=1, preparation__num__imputer__strategy=most_frequent; total time=  17.9s\n",
      "[CV] END feature_selection__k=1, preparation__num__imputer__strategy=most_frequent; total time=  12.8s\n",
      "[CV] END feature_selection__k=1, preparation__num__imputer__strategy=most_frequent; total time=  13.5s\n",
      "[CV] END feature_selection__k=2, preparation__num__imputer__strategy=mean; total time=  15.1s\n",
      "[CV] END feature_selection__k=2, preparation__num__imputer__strategy=mean; total time=  15.0s\n",
      "[CV] END feature_selection__k=2, preparation__num__imputer__strategy=mean; total time=  14.0s\n",
      "[CV] END feature_selection__k=2, preparation__num__imputer__strategy=mean; total time=  13.4s\n",
      "[CV] END feature_selection__k=2, preparation__num__imputer__strategy=mean; total time=  12.6s\n",
      "[CV] END feature_selection__k=2, preparation__num__imputer__strategy=median; total time=  12.3s\n",
      "[CV] END feature_selection__k=2, preparation__num__imputer__strategy=median; total time=  11.9s\n",
      "[CV] END feature_selection__k=2, preparation__num__imputer__strategy=median; total time=  12.7s\n",
      "[CV] END feature_selection__k=2, preparation__num__imputer__strategy=median; total time=  12.6s\n",
      "[CV] END feature_selection__k=2, preparation__num__imputer__strategy=median; total time=  14.5s\n",
      "[CV] END feature_selection__k=2, preparation__num__imputer__strategy=most_frequent; total time=  25.0s\n",
      "[CV] END feature_selection__k=2, preparation__num__imputer__strategy=most_frequent; total time=  17.7s\n",
      "[CV] END feature_selection__k=2, preparation__num__imputer__strategy=most_frequent; total time=  13.9s\n",
      "[CV] END feature_selection__k=2, preparation__num__imputer__strategy=most_frequent; total time=  19.8s\n",
      "[CV] END feature_selection__k=2, preparation__num__imputer__strategy=most_frequent; total time=  14.4s\n",
      "[CV] END feature_selection__k=3, preparation__num__imputer__strategy=mean; total time=  19.6s\n",
      "[CV] END feature_selection__k=3, preparation__num__imputer__strategy=mean; total time=  17.6s\n",
      "[CV] END feature_selection__k=3, preparation__num__imputer__strategy=mean; total time=  15.7s\n",
      "[CV] END feature_selection__k=3, preparation__num__imputer__strategy=mean; total time=  15.1s\n",
      "[CV] END feature_selection__k=3, preparation__num__imputer__strategy=mean; total time=  17.4s\n",
      "[CV] END feature_selection__k=3, preparation__num__imputer__strategy=median; total time=  12.7s\n",
      "[CV] END feature_selection__k=3, preparation__num__imputer__strategy=median; total time=  16.6s\n",
      "[CV] END feature_selection__k=3, preparation__num__imputer__strategy=median; total time=  13.1s\n",
      "[CV] END feature_selection__k=3, preparation__num__imputer__strategy=median; total time=  14.3s\n",
      "[CV] END feature_selection__k=3, preparation__num__imputer__strategy=median; total time=  16.1s\n",
      "[CV] END feature_selection__k=3, preparation__num__imputer__strategy=most_frequent; total time=  20.0s\n",
      "[CV] END feature_selection__k=3, preparation__num__imputer__strategy=most_frequent; total time=  16.8s\n",
      "[CV] END feature_selection__k=3, preparation__num__imputer__strategy=most_frequent; total time=  19.0s\n",
      "[CV] END feature_selection__k=3, preparation__num__imputer__strategy=most_frequent; total time=  19.2s\n",
      "[CV] END feature_selection__k=3, preparation__num__imputer__strategy=most_frequent; total time=  18.6s\n",
      "[CV] END feature_selection__k=4, preparation__num__imputer__strategy=mean; total time=  24.3s\n",
      "[CV] END feature_selection__k=4, preparation__num__imputer__strategy=mean; total time=  21.1s\n",
      "[CV] END feature_selection__k=4, preparation__num__imputer__strategy=mean; total time=  18.0s\n",
      "[CV] END feature_selection__k=4, preparation__num__imputer__strategy=mean; total time=  14.3s\n",
      "[CV] END feature_selection__k=4, preparation__num__imputer__strategy=mean; total time=  17.2s\n",
      "[CV] END feature_selection__k=4, preparation__num__imputer__strategy=median; total time=  16.2s\n",
      "[CV] END feature_selection__k=4, preparation__num__imputer__strategy=median; total time=  14.4s\n",
      "[CV] END feature_selection__k=4, preparation__num__imputer__strategy=median; total time=  12.6s\n",
      "[CV] END feature_selection__k=4, preparation__num__imputer__strategy=median; total time=  14.1s\n",
      "[CV] END feature_selection__k=4, preparation__num__imputer__strategy=median; total time=  13.8s\n",
      "[CV] END feature_selection__k=4, preparation__num__imputer__strategy=most_frequent; total time=  18.3s\n",
      "[CV] END feature_selection__k=4, preparation__num__imputer__strategy=most_frequent; total time=  30.4s\n",
      "[CV] END feature_selection__k=4, preparation__num__imputer__strategy=most_frequent; total time=  14.2s\n",
      "[CV] END feature_selection__k=4, preparation__num__imputer__strategy=most_frequent; total time=  13.7s\n",
      "[CV] END feature_selection__k=4, preparation__num__imputer__strategy=most_frequent; total time=  15.2s\n",
      "[CV] END feature_selection__k=5, preparation__num__imputer__strategy=mean; total time=  14.4s\n",
      "[CV] END feature_selection__k=5, preparation__num__imputer__strategy=mean; total time=  17.4s\n",
      "[CV] END feature_selection__k=5, preparation__num__imputer__strategy=mean; total time=  17.6s\n",
      "[CV] END feature_selection__k=5, preparation__num__imputer__strategy=mean; total time=  16.0s\n",
      "[CV] END feature_selection__k=5, preparation__num__imputer__strategy=mean; total time=  16.3s\n",
      "[CV] END feature_selection__k=5, preparation__num__imputer__strategy=median; total time=  17.0s\n",
      "[CV] END feature_selection__k=5, preparation__num__imputer__strategy=median; total time=  13.7s\n",
      "[CV] END feature_selection__k=5, preparation__num__imputer__strategy=median; total time=  13.8s\n",
      "[CV] END feature_selection__k=5, preparation__num__imputer__strategy=median; total time=  13.6s\n",
      "[CV] END feature_selection__k=5, preparation__num__imputer__strategy=median; total time=  13.6s\n",
      "[CV] END feature_selection__k=5, preparation__num__imputer__strategy=most_frequent; total time=  13.7s\n",
      "[CV] END feature_selection__k=5, preparation__num__imputer__strategy=most_frequent; total time=  13.4s\n",
      "[CV] END feature_selection__k=5, preparation__num__imputer__strategy=most_frequent; total time=  13.7s\n",
      "[CV] END feature_selection__k=5, preparation__num__imputer__strategy=most_frequent; total time=  13.4s\n",
      "[CV] END feature_selection__k=5, preparation__num__imputer__strategy=most_frequent; total time=  17.0s\n",
      "[CV] END feature_selection__k=6, preparation__num__imputer__strategy=mean; total time=  21.4s\n",
      "[CV] END feature_selection__k=6, preparation__num__imputer__strategy=mean; total time=  16.2s\n",
      "[CV] END feature_selection__k=6, preparation__num__imputer__strategy=mean; total time=  15.5s\n",
      "[CV] END feature_selection__k=6, preparation__num__imputer__strategy=mean; total time=  15.9s\n",
      "[CV] END feature_selection__k=6, preparation__num__imputer__strategy=mean; total time=  19.0s\n",
      "[CV] END feature_selection__k=6, preparation__num__imputer__strategy=median; total time=  16.5s\n",
      "[CV] END feature_selection__k=6, preparation__num__imputer__strategy=median; total time=  16.4s\n",
      "[CV] END feature_selection__k=6, preparation__num__imputer__strategy=median; total time=  17.4s\n",
      "[CV] END feature_selection__k=6, preparation__num__imputer__strategy=median; total time=  14.0s\n"
     ]
    },
    {
     "name": "stdout",
     "output_type": "stream",
     "text": [
      "[CV] END feature_selection__k=6, preparation__num__imputer__strategy=median; total time=  20.0s\n",
      "[CV] END feature_selection__k=6, preparation__num__imputer__strategy=most_frequent; total time=  16.6s\n",
      "[CV] END feature_selection__k=6, preparation__num__imputer__strategy=most_frequent; total time=  15.3s\n",
      "[CV] END feature_selection__k=6, preparation__num__imputer__strategy=most_frequent; total time=  17.2s\n",
      "[CV] END feature_selection__k=6, preparation__num__imputer__strategy=most_frequent; total time=  16.1s\n",
      "[CV] END feature_selection__k=6, preparation__num__imputer__strategy=most_frequent; total time=  18.0s\n",
      "[CV] END feature_selection__k=7, preparation__num__imputer__strategy=mean; total time=  19.3s\n",
      "[CV] END feature_selection__k=7, preparation__num__imputer__strategy=mean; total time=  17.4s\n",
      "[CV] END feature_selection__k=7, preparation__num__imputer__strategy=mean; total time=  15.9s\n",
      "[CV] END feature_selection__k=7, preparation__num__imputer__strategy=mean; total time=  15.8s\n",
      "[CV] END feature_selection__k=7, preparation__num__imputer__strategy=mean; total time=  20.3s\n",
      "[CV] END feature_selection__k=7, preparation__num__imputer__strategy=median; total time=  16.5s\n",
      "[CV] END feature_selection__k=7, preparation__num__imputer__strategy=median; total time=  18.8s\n",
      "[CV] END feature_selection__k=7, preparation__num__imputer__strategy=median; total time=  15.6s\n",
      "[CV] END feature_selection__k=7, preparation__num__imputer__strategy=median; total time=  13.4s\n",
      "[CV] END feature_selection__k=7, preparation__num__imputer__strategy=median; total time=  15.1s\n",
      "[CV] END feature_selection__k=7, preparation__num__imputer__strategy=most_frequent; total time=  13.8s\n",
      "[CV] END feature_selection__k=7, preparation__num__imputer__strategy=most_frequent; total time=  13.3s\n",
      "[CV] END feature_selection__k=7, preparation__num__imputer__strategy=most_frequent; total time=  13.8s\n",
      "[CV] END feature_selection__k=7, preparation__num__imputer__strategy=most_frequent; total time=  13.6s\n",
      "[CV] END feature_selection__k=7, preparation__num__imputer__strategy=most_frequent; total time=  13.5s\n",
      "[CV] END feature_selection__k=8, preparation__num__imputer__strategy=mean; total time=  13.2s\n",
      "[CV] END feature_selection__k=8, preparation__num__imputer__strategy=mean; total time=  13.0s\n",
      "[CV] END feature_selection__k=8, preparation__num__imputer__strategy=mean; total time=  13.5s\n",
      "[CV] END feature_selection__k=8, preparation__num__imputer__strategy=mean; total time=  13.7s\n",
      "[CV] END feature_selection__k=8, preparation__num__imputer__strategy=mean; total time=  13.4s\n",
      "[CV] END feature_selection__k=8, preparation__num__imputer__strategy=median; total time=  14.0s\n",
      "[CV] END feature_selection__k=8, preparation__num__imputer__strategy=median; total time=  13.3s\n",
      "[CV] END feature_selection__k=8, preparation__num__imputer__strategy=median; total time=  13.6s\n",
      "[CV] END feature_selection__k=8, preparation__num__imputer__strategy=median; total time=  14.3s\n",
      "[CV] END feature_selection__k=8, preparation__num__imputer__strategy=median; total time=  13.3s\n",
      "[CV] END feature_selection__k=8, preparation__num__imputer__strategy=most_frequent; total time=  13.1s\n",
      "[CV] END feature_selection__k=8, preparation__num__imputer__strategy=most_frequent; total time=  12.8s\n",
      "[CV] END feature_selection__k=8, preparation__num__imputer__strategy=most_frequent; total time=  13.6s\n",
      "[CV] END feature_selection__k=8, preparation__num__imputer__strategy=most_frequent; total time=  13.8s\n",
      "[CV] END feature_selection__k=8, preparation__num__imputer__strategy=most_frequent; total time=  13.4s\n",
      "[CV] END feature_selection__k=9, preparation__num__imputer__strategy=mean; total time=  14.7s\n",
      "[CV] END feature_selection__k=9, preparation__num__imputer__strategy=mean; total time=  14.9s\n",
      "[CV] END feature_selection__k=9, preparation__num__imputer__strategy=mean; total time=  15.3s\n",
      "[CV] END feature_selection__k=9, preparation__num__imputer__strategy=mean; total time=  15.1s\n",
      "[CV] END feature_selection__k=9, preparation__num__imputer__strategy=mean; total time=  14.7s\n",
      "[CV] END feature_selection__k=9, preparation__num__imputer__strategy=median; total time=  15.1s\n",
      "[CV] END feature_selection__k=9, preparation__num__imputer__strategy=median; total time=  14.4s\n",
      "[CV] END feature_selection__k=9, preparation__num__imputer__strategy=median; total time=  14.9s\n",
      "[CV] END feature_selection__k=9, preparation__num__imputer__strategy=median; total time=  15.0s\n",
      "[CV] END feature_selection__k=9, preparation__num__imputer__strategy=median; total time=  15.2s\n",
      "[CV] END feature_selection__k=9, preparation__num__imputer__strategy=most_frequent; total time=  14.8s\n",
      "[CV] END feature_selection__k=9, preparation__num__imputer__strategy=most_frequent; total time=  15.4s\n",
      "[CV] END feature_selection__k=9, preparation__num__imputer__strategy=most_frequent; total time=  15.5s\n",
      "[CV] END feature_selection__k=9, preparation__num__imputer__strategy=most_frequent; total time=  15.0s\n",
      "[CV] END feature_selection__k=9, preparation__num__imputer__strategy=most_frequent; total time=  14.8s\n",
      "[CV] END feature_selection__k=10, preparation__num__imputer__strategy=mean; total time=  16.1s\n",
      "[CV] END feature_selection__k=10, preparation__num__imputer__strategy=mean; total time=  17.6s\n",
      "[CV] END feature_selection__k=10, preparation__num__imputer__strategy=mean; total time=  16.5s\n",
      "[CV] END feature_selection__k=10, preparation__num__imputer__strategy=mean; total time=  16.9s\n",
      "[CV] END feature_selection__k=10, preparation__num__imputer__strategy=mean; total time=  17.2s\n",
      "[CV] END feature_selection__k=10, preparation__num__imputer__strategy=median; total time=  34.3s\n",
      "[CV] END feature_selection__k=10, preparation__num__imputer__strategy=median; total time=  21.5s\n",
      "[CV] END feature_selection__k=10, preparation__num__imputer__strategy=median; total time=  16.8s\n",
      "[CV] END feature_selection__k=10, preparation__num__imputer__strategy=median; total time=  24.6s\n",
      "[CV] END feature_selection__k=10, preparation__num__imputer__strategy=median; total time=  28.4s\n",
      "[CV] END feature_selection__k=10, preparation__num__imputer__strategy=most_frequent; total time=  17.5s\n",
      "[CV] END feature_selection__k=10, preparation__num__imputer__strategy=most_frequent; total time=  21.0s\n",
      "[CV] END feature_selection__k=10, preparation__num__imputer__strategy=most_frequent; total time=  25.0s\n",
      "[CV] END feature_selection__k=10, preparation__num__imputer__strategy=most_frequent; total time=  17.7s\n",
      "[CV] END feature_selection__k=10, preparation__num__imputer__strategy=most_frequent; total time=  18.1s\n",
      "[CV] END feature_selection__k=11, preparation__num__imputer__strategy=mean; total time=  18.3s\n",
      "[CV] END feature_selection__k=11, preparation__num__imputer__strategy=mean; total time=  24.0s\n",
      "[CV] END feature_selection__k=11, preparation__num__imputer__strategy=mean; total time=  29.0s\n",
      "[CV] END feature_selection__k=11, preparation__num__imputer__strategy=mean; total time=  28.9s\n",
      "[CV] END feature_selection__k=11, preparation__num__imputer__strategy=mean; total time=  21.2s\n",
      "[CV] END feature_selection__k=11, preparation__num__imputer__strategy=median; total time=  19.7s\n",
      "[CV] END feature_selection__k=11, preparation__num__imputer__strategy=median; total time=  22.3s\n",
      "[CV] END feature_selection__k=11, preparation__num__imputer__strategy=median; total time=  20.7s\n",
      "[CV] END feature_selection__k=11, preparation__num__imputer__strategy=median; total time=  21.6s\n",
      "[CV] END feature_selection__k=11, preparation__num__imputer__strategy=median; total time=  21.3s\n",
      "[CV] END feature_selection__k=11, preparation__num__imputer__strategy=most_frequent; total time=  20.1s\n",
      "[CV] END feature_selection__k=11, preparation__num__imputer__strategy=most_frequent; total time=  26.1s\n",
      "[CV] END feature_selection__k=11, preparation__num__imputer__strategy=most_frequent; total time=  20.8s\n",
      "[CV] END feature_selection__k=11, preparation__num__imputer__strategy=most_frequent; total time=  21.9s\n",
      "[CV] END feature_selection__k=11, preparation__num__imputer__strategy=most_frequent; total time=  29.4s\n",
      "[CV] END feature_selection__k=12, preparation__num__imputer__strategy=mean; total time=  21.5s\n",
      "[CV] END feature_selection__k=12, preparation__num__imputer__strategy=mean; total time=  20.7s\n",
      "[CV] END feature_selection__k=12, preparation__num__imputer__strategy=mean; total time=  24.0s\n"
     ]
    },
    {
     "name": "stdout",
     "output_type": "stream",
     "text": [
      "[CV] END feature_selection__k=12, preparation__num__imputer__strategy=mean; total time=  19.0s\n",
      "[CV] END feature_selection__k=12, preparation__num__imputer__strategy=mean; total time=  19.0s\n",
      "[CV] END feature_selection__k=12, preparation__num__imputer__strategy=median; total time=  18.9s\n",
      "[CV] END feature_selection__k=12, preparation__num__imputer__strategy=median; total time=  18.1s\n",
      "[CV] END feature_selection__k=12, preparation__num__imputer__strategy=median; total time=  25.8s\n",
      "[CV] END feature_selection__k=12, preparation__num__imputer__strategy=median; total time=  23.6s\n",
      "[CV] END feature_selection__k=12, preparation__num__imputer__strategy=median; total time=  24.2s\n",
      "[CV] END feature_selection__k=12, preparation__num__imputer__strategy=most_frequent; total time=  21.6s\n",
      "[CV] END feature_selection__k=12, preparation__num__imputer__strategy=most_frequent; total time=  21.5s\n",
      "[CV] END feature_selection__k=12, preparation__num__imputer__strategy=most_frequent; total time=  23.5s\n",
      "[CV] END feature_selection__k=12, preparation__num__imputer__strategy=most_frequent; total time=  20.1s\n",
      "[CV] END feature_selection__k=12, preparation__num__imputer__strategy=most_frequent; total time=  21.1s\n",
      "[CV] END feature_selection__k=13, preparation__num__imputer__strategy=mean; total time=  24.5s\n",
      "[CV] END feature_selection__k=13, preparation__num__imputer__strategy=mean; total time=  26.2s\n",
      "[CV] END feature_selection__k=13, preparation__num__imputer__strategy=mean; total time=  21.9s\n",
      "[CV] END feature_selection__k=13, preparation__num__imputer__strategy=mean; total time=  23.5s\n",
      "[CV] END feature_selection__k=13, preparation__num__imputer__strategy=mean; total time=  23.4s\n",
      "[CV] END feature_selection__k=13, preparation__num__imputer__strategy=median; total time=  21.4s\n",
      "[CV] END feature_selection__k=13, preparation__num__imputer__strategy=median; total time=  28.6s\n",
      "[CV] END feature_selection__k=13, preparation__num__imputer__strategy=median; total time=  26.8s\n",
      "[CV] END feature_selection__k=13, preparation__num__imputer__strategy=median; total time=  27.2s\n",
      "[CV] END feature_selection__k=13, preparation__num__imputer__strategy=median; total time=  24.3s\n",
      "[CV] END feature_selection__k=13, preparation__num__imputer__strategy=most_frequent; total time=  22.0s\n",
      "[CV] END feature_selection__k=13, preparation__num__imputer__strategy=most_frequent; total time=  28.7s\n",
      "[CV] END feature_selection__k=13, preparation__num__imputer__strategy=most_frequent; total time=  21.9s\n",
      "[CV] END feature_selection__k=13, preparation__num__imputer__strategy=most_frequent; total time=  26.0s\n",
      "[CV] END feature_selection__k=13, preparation__num__imputer__strategy=most_frequent; total time=  22.3s\n",
      "[CV] END feature_selection__k=14, preparation__num__imputer__strategy=mean; total time=  29.1s\n",
      "[CV] END feature_selection__k=14, preparation__num__imputer__strategy=mean; total time=  33.9s\n",
      "[CV] END feature_selection__k=14, preparation__num__imputer__strategy=mean; total time=  32.7s\n",
      "[CV] END feature_selection__k=14, preparation__num__imputer__strategy=mean; total time=  27.8s\n",
      "[CV] END feature_selection__k=14, preparation__num__imputer__strategy=mean; total time=  26.1s\n",
      "[CV] END feature_selection__k=14, preparation__num__imputer__strategy=median; total time=  24.9s\n",
      "[CV] END feature_selection__k=14, preparation__num__imputer__strategy=median; total time=  24.2s\n",
      "[CV] END feature_selection__k=14, preparation__num__imputer__strategy=median; total time=  25.3s\n",
      "[CV] END feature_selection__k=14, preparation__num__imputer__strategy=median; total time=  23.2s\n",
      "[CV] END feature_selection__k=14, preparation__num__imputer__strategy=median; total time=  20.4s\n",
      "[CV] END feature_selection__k=14, preparation__num__imputer__strategy=most_frequent; total time=  26.4s\n",
      "[CV] END feature_selection__k=14, preparation__num__imputer__strategy=most_frequent; total time=  24.2s\n",
      "[CV] END feature_selection__k=14, preparation__num__imputer__strategy=most_frequent; total time=  25.3s\n",
      "[CV] END feature_selection__k=14, preparation__num__imputer__strategy=most_frequent; total time=  25.2s\n",
      "[CV] END feature_selection__k=14, preparation__num__imputer__strategy=most_frequent; total time=  22.8s\n",
      "[CV] END feature_selection__k=15, preparation__num__imputer__strategy=mean; total time=  23.3s\n",
      "[CV] END feature_selection__k=15, preparation__num__imputer__strategy=mean; total time=  22.6s\n",
      "[CV] END feature_selection__k=15, preparation__num__imputer__strategy=mean; total time=  23.1s\n",
      "[CV] END feature_selection__k=15, preparation__num__imputer__strategy=mean; total time=  22.0s\n",
      "[CV] END feature_selection__k=15, preparation__num__imputer__strategy=mean; total time=  26.2s\n",
      "[CV] END feature_selection__k=15, preparation__num__imputer__strategy=median; total time=  35.4s\n",
      "[CV] END feature_selection__k=15, preparation__num__imputer__strategy=median; total time=  32.2s\n",
      "[CV] END feature_selection__k=15, preparation__num__imputer__strategy=median; total time=  28.6s\n",
      "[CV] END feature_selection__k=15, preparation__num__imputer__strategy=median; total time=  28.2s\n",
      "[CV] END feature_selection__k=15, preparation__num__imputer__strategy=median; total time=  35.5s\n",
      "[CV] END feature_selection__k=15, preparation__num__imputer__strategy=most_frequent; total time=  31.5s\n",
      "[CV] END feature_selection__k=15, preparation__num__imputer__strategy=most_frequent; total time=  35.8s\n",
      "[CV] END feature_selection__k=15, preparation__num__imputer__strategy=most_frequent; total time=  27.9s\n",
      "[CV] END feature_selection__k=15, preparation__num__imputer__strategy=most_frequent; total time=  28.0s\n",
      "[CV] END feature_selection__k=15, preparation__num__imputer__strategy=most_frequent; total time=  29.4s\n",
      "[CV] END feature_selection__k=16, preparation__num__imputer__strategy=mean; total time=  31.4s\n",
      "[CV] END feature_selection__k=16, preparation__num__imputer__strategy=mean; total time=  30.5s\n",
      "[CV] END feature_selection__k=16, preparation__num__imputer__strategy=mean; total time=  22.5s\n",
      "[CV] END feature_selection__k=16, preparation__num__imputer__strategy=mean; total time=  19.4s\n",
      "[CV] END feature_selection__k=16, preparation__num__imputer__strategy=mean; total time=  20.9s\n",
      "[CV] END feature_selection__k=16, preparation__num__imputer__strategy=median; total time=  22.8s\n",
      "[CV] END feature_selection__k=16, preparation__num__imputer__strategy=median; total time=  21.9s\n",
      "[CV] END feature_selection__k=16, preparation__num__imputer__strategy=median; total time=  20.6s\n",
      "[CV] END feature_selection__k=16, preparation__num__imputer__strategy=median; total time=  19.4s\n",
      "[CV] END feature_selection__k=16, preparation__num__imputer__strategy=median; total time=  20.5s\n",
      "[CV] END feature_selection__k=16, preparation__num__imputer__strategy=most_frequent; total time=  27.9s\n",
      "[CV] END feature_selection__k=16, preparation__num__imputer__strategy=most_frequent; total time=  27.6s\n",
      "[CV] END feature_selection__k=16, preparation__num__imputer__strategy=most_frequent; total time=  26.8s\n",
      "[CV] END feature_selection__k=16, preparation__num__imputer__strategy=most_frequent; total time=  22.8s\n",
      "[CV] END feature_selection__k=16, preparation__num__imputer__strategy=most_frequent; total time=  19.2s\n"
     ]
    },
    {
     "data": {
      "text/plain": [
       "GridSearchCV(cv=5,\n",
       "             estimator=Pipeline(steps=[('preparation',\n",
       "                                        ColumnTransformer(transformers=[('num',\n",
       "                                                                         Pipeline(steps=[('imputer',\n",
       "                                                                                          SimpleImputer(strategy='median')),\n",
       "                                                                                         ('attribs_adder',\n",
       "                                                                                          CombinedAttributesAdder()),\n",
       "                                                                                         ('std_scaler',\n",
       "                                                                                          StandardScaler())]),\n",
       "                                                                         ['longitude',\n",
       "                                                                          'latitude',\n",
       "                                                                          'housing_median_age',\n",
       "                                                                          'total_rooms',\n",
       "                                                                          'total_bedrooms',\n",
       "                                                                          'population',\n",
       "                                                                          'households',\n",
       "                                                                          'median_inc...\n",
       "       5.64191792e-02, 1.08792957e-01, 5.33510773e-02, 1.03114883e-02,\n",
       "       1.64780994e-01, 6.02803867e-05, 1.96041560e-03, 2.85647464e-03]),\n",
       "                                                           k=5)),\n",
       "                                       ('svm_reg',\n",
       "                                        SVR(C=30000.0, kernel='linear'))]),\n",
       "             param_grid=[{'feature_selection__k': [1, 2, 3, 4, 5, 6, 7, 8, 9,\n",
       "                                                   10, 11, 12, 13, 14, 15, 16],\n",
       "                          'preparation__num__imputer__strategy': ['mean',\n",
       "                                                                  'median',\n",
       "                                                                  'most_frequent']}],\n",
       "             scoring='neg_mean_squared_error', verbose=2)"
      ]
     },
     "execution_count": 254,
     "metadata": {},
     "output_type": "execute_result"
    }
   ],
   "source": [
    "# Define the parameters grid \n",
    "param_grid = [{\n",
    "    'preparation__num__imputer__strategy': ['mean', 'median', 'most_frequent'],\n",
    "    'feature_selection__k': list(range(1, len(feature_importances) + 1))\n",
    "}]\n",
    "\n",
    "# Construct Grid\n",
    "grid_search_prep = GridSearchCV(prepare_select_and_predict_pipeline, param_grid, cv=5,\n",
    "                                scoring='neg_mean_squared_error', verbose=2)\n",
    "\n",
    "# Fit the model\n",
    "grid_search_prep.fit(housing, housing_labels)"
   ]
  },
  {
   "cell_type": "code",
   "execution_count": null,
   "id": "broad-transcription",
   "metadata": {},
   "outputs": [],
   "source": []
  }
 ],
 "metadata": {
  "kernelspec": {
   "display_name": "Python 3",
   "language": "python",
   "name": "python3"
  },
  "language_info": {
   "codemirror_mode": {
    "name": "ipython",
    "version": 3
   },
   "file_extension": ".py",
   "mimetype": "text/x-python",
   "name": "python",
   "nbconvert_exporter": "python",
   "pygments_lexer": "ipython3",
   "version": "3.9.2"
  }
 },
 "nbformat": 4,
 "nbformat_minor": 5
}
